{
 "cells": [
  {
   "cell_type": "code",
   "execution_count": 9,
   "metadata": {},
   "outputs": [
    {
     "data": {
      "application/vnd.vegalite.v2+json": {
       "$schema": "https://vega.github.io/schema/vega-lite/v2.6.0.json",
       "config": {
        "view": {
         "height": 300,
         "width": 400
        }
       },
       "data": {
        "name": "data-a0b039ad0105f4c94b6f8ff4bde3089a"
       },
       "datasets": {
        "data-a0b039ad0105f4c94b6f8ff4bde3089a": [
         {
          "commits": 2,
          "date": "2010-12-20",
          "issues": 3,
          "pull requests": 1
         },
         {
          "commits": 3,
          "date": "2010-12-21",
          "issues": 3,
          "pull requests": 2
         },
         {
          "commits": 3,
          "date": "2010-12-22",
          "issues": 7,
          "pull requests": 3
         },
         {
          "commits": 3,
          "date": "2010-12-23",
          "issues": 7,
          "pull requests": 3
         },
         {
          "commits": 3,
          "date": "2010-12-24",
          "issues": 7,
          "pull requests": 3
         },
         {
          "commits": 3,
          "date": "2010-12-25",
          "issues": 7,
          "pull requests": 3
         },
         {
          "commits": 3,
          "date": "2010-12-26",
          "issues": 7,
          "pull requests": 3
         },
         {
          "commits": 3,
          "date": "2010-12-27",
          "issues": 7,
          "pull requests": 3
         },
         {
          "commits": 3,
          "date": "2010-12-28",
          "issues": 7,
          "pull requests": 3
         },
         {
          "commits": 3,
          "date": "2010-12-29",
          "issues": 7,
          "pull requests": 3
         },
         {
          "commits": 3,
          "date": "2010-12-30",
          "issues": 7,
          "pull requests": 3
         },
         {
          "commits": 3,
          "date": "2010-12-31",
          "issues": 7,
          "pull requests": 3
         },
         {
          "commits": 3,
          "date": "2011-01-01",
          "issues": 7,
          "pull requests": 3
         },
         {
          "commits": 3,
          "date": "2011-01-02",
          "issues": 7,
          "pull requests": 3
         },
         {
          "commits": 4,
          "date": "2011-01-03",
          "issues": 7,
          "pull requests": 3
         },
         {
          "commits": 4,
          "date": "2011-01-04",
          "issues": 7,
          "pull requests": 3
         },
         {
          "commits": 5,
          "date": "2011-01-05",
          "issues": 8,
          "pull requests": 4
         },
         {
          "commits": 6,
          "date": "2011-01-06",
          "issues": 9,
          "pull requests": 4
         },
         {
          "commits": 7,
          "date": "2011-01-07",
          "issues": 9,
          "pull requests": 6
         },
         {
          "commits": 7,
          "date": "2011-01-08",
          "issues": 9,
          "pull requests": 6
         },
         {
          "commits": 7,
          "date": "2011-01-09",
          "issues": 9,
          "pull requests": 6
         },
         {
          "commits": 8,
          "date": "2011-01-10",
          "issues": 10,
          "pull requests": 7
         },
         {
          "commits": 8,
          "date": "2011-01-11",
          "issues": 10,
          "pull requests": 7
         },
         {
          "commits": 8,
          "date": "2011-01-12",
          "issues": 10,
          "pull requests": 7
         },
         {
          "commits": 8,
          "date": "2011-01-13",
          "issues": 10,
          "pull requests": 7
         },
         {
          "commits": 9,
          "date": "2011-01-14",
          "issues": 11,
          "pull requests": 9
         },
         {
          "commits": 9,
          "date": "2011-01-15",
          "issues": 11,
          "pull requests": 9
         },
         {
          "commits": 9,
          "date": "2011-01-16",
          "issues": 11,
          "pull requests": 9
         },
         {
          "commits": 9,
          "date": "2011-01-17",
          "issues": 11,
          "pull requests": 9
         },
         {
          "commits": 13,
          "date": "2011-01-18",
          "issues": 11,
          "pull requests": 9
         },
         {
          "commits": 16,
          "date": "2011-01-19",
          "issues": 11,
          "pull requests": 10
         },
         {
          "commits": 25,
          "date": "2011-01-20",
          "issues": 13,
          "pull requests": 14
         },
         {
          "commits": 31,
          "date": "2011-01-21",
          "issues": 13,
          "pull requests": 16
         },
         {
          "commits": 32,
          "date": "2011-01-22",
          "issues": 13,
          "pull requests": 16
         },
         {
          "commits": 33,
          "date": "2011-01-23",
          "issues": 13,
          "pull requests": 17
         },
         {
          "commits": 35,
          "date": "2011-01-24",
          "issues": 13,
          "pull requests": 18
         },
         {
          "commits": 37,
          "date": "2011-01-25",
          "issues": 13,
          "pull requests": 18
         },
         {
          "commits": 37,
          "date": "2011-01-26",
          "issues": 13,
          "pull requests": 18
         },
         {
          "commits": 37,
          "date": "2011-01-27",
          "issues": 13,
          "pull requests": 18
         },
         {
          "commits": 37,
          "date": "2011-01-28",
          "issues": 13,
          "pull requests": 18
         },
         {
          "commits": 37,
          "date": "2011-01-29",
          "issues": 13,
          "pull requests": 18
         },
         {
          "commits": 37,
          "date": "2011-01-30",
          "issues": 13,
          "pull requests": 18
         },
         {
          "commits": 39,
          "date": "2011-01-31",
          "issues": 13,
          "pull requests": 21
         },
         {
          "commits": 40,
          "date": "2011-02-01",
          "issues": 13,
          "pull requests": 22
         },
         {
          "commits": 40,
          "date": "2011-02-02",
          "issues": 13,
          "pull requests": 22
         },
         {
          "commits": 40,
          "date": "2011-02-03",
          "issues": 13,
          "pull requests": 23
         },
         {
          "commits": 40,
          "date": "2011-02-04",
          "issues": 13,
          "pull requests": 23
         },
         {
          "commits": 40,
          "date": "2011-02-05",
          "issues": 13,
          "pull requests": 23
         },
         {
          "commits": 40,
          "date": "2011-02-06",
          "issues": 13,
          "pull requests": 23
         },
         {
          "commits": 40,
          "date": "2011-02-07",
          "issues": 14,
          "pull requests": 23
         },
         {
          "commits": 40,
          "date": "2011-02-08",
          "issues": 14,
          "pull requests": 23
         },
         {
          "commits": 40,
          "date": "2011-02-09",
          "issues": 14,
          "pull requests": 23
         },
         {
          "commits": 40,
          "date": "2011-02-10",
          "issues": 15,
          "pull requests": 25
         },
         {
          "commits": 41,
          "date": "2011-02-11",
          "issues": 16,
          "pull requests": 25
         },
         {
          "commits": 41,
          "date": "2011-02-12",
          "issues": 16,
          "pull requests": 25
         },
         {
          "commits": 41,
          "date": "2011-02-13",
          "issues": 16,
          "pull requests": 25
         },
         {
          "commits": 42,
          "date": "2011-02-14",
          "issues": 19,
          "pull requests": 25
         },
         {
          "commits": 42,
          "date": "2011-02-15",
          "issues": 19,
          "pull requests": 25
         },
         {
          "commits": 44,
          "date": "2011-02-16",
          "issues": 19,
          "pull requests": 26
         },
         {
          "commits": 45,
          "date": "2011-02-17",
          "issues": 19,
          "pull requests": 26
         },
         {
          "commits": 48,
          "date": "2011-02-18",
          "issues": 19,
          "pull requests": 26
         },
         {
          "commits": 48,
          "date": "2011-02-19",
          "issues": 19,
          "pull requests": 26
         },
         {
          "commits": 48,
          "date": "2011-02-20",
          "issues": 19,
          "pull requests": 26
         },
         {
          "commits": 48,
          "date": "2011-02-21",
          "issues": 19,
          "pull requests": 26
         },
         {
          "commits": 48,
          "date": "2011-02-22",
          "issues": 21,
          "pull requests": 26
         },
         {
          "commits": 53,
          "date": "2011-02-23",
          "issues": 23,
          "pull requests": 27
         },
         {
          "commits": 53,
          "date": "2011-02-24",
          "issues": 23,
          "pull requests": 27
         },
         {
          "commits": 58,
          "date": "2011-02-25",
          "issues": 23,
          "pull requests": 29
         },
         {
          "commits": 59,
          "date": "2011-02-26",
          "issues": 23,
          "pull requests": 30
         },
         {
          "commits": 59,
          "date": "2011-02-27",
          "issues": 23,
          "pull requests": 30
         },
         {
          "commits": 60,
          "date": "2011-02-28",
          "issues": 24,
          "pull requests": 30
         },
         {
          "commits": 61,
          "date": "2011-03-01",
          "issues": 26,
          "pull requests": 31
         },
         {
          "commits": 63,
          "date": "2011-03-02",
          "issues": 27,
          "pull requests": 32
         },
         {
          "commits": 64,
          "date": "2011-03-03",
          "issues": 29,
          "pull requests": 37
         },
         {
          "commits": 64,
          "date": "2011-03-04",
          "issues": 29,
          "pull requests": 37
         },
         {
          "commits": 67,
          "date": "2011-03-05",
          "issues": 31,
          "pull requests": 39
         },
         {
          "commits": 67,
          "date": "2011-03-06",
          "issues": 31,
          "pull requests": 39
         },
         {
          "commits": 67,
          "date": "2011-03-07",
          "issues": 31,
          "pull requests": 39
         },
         {
          "commits": 67,
          "date": "2011-03-08",
          "issues": 31,
          "pull requests": 39
         },
         {
          "commits": 69,
          "date": "2011-03-09",
          "issues": 31,
          "pull requests": 41
         },
         {
          "commits": 71,
          "date": "2011-03-10",
          "issues": 31,
          "pull requests": 41
         },
         {
          "commits": 71,
          "date": "2011-03-11",
          "issues": 31,
          "pull requests": 41
         },
         {
          "commits": 71,
          "date": "2011-03-12",
          "issues": 31,
          "pull requests": 41
         },
         {
          "commits": 79,
          "date": "2011-03-13",
          "issues": 31,
          "pull requests": 42
         },
         {
          "commits": 80,
          "date": "2011-03-14",
          "issues": 31,
          "pull requests": 43
         },
         {
          "commits": 80,
          "date": "2011-03-15",
          "issues": 31,
          "pull requests": 43
         },
         {
          "commits": 81,
          "date": "2011-03-16",
          "issues": 32,
          "pull requests": 44
         },
         {
          "commits": 82,
          "date": "2011-03-17",
          "issues": 32,
          "pull requests": 47
         },
         {
          "commits": 82,
          "date": "2011-03-18",
          "issues": 32,
          "pull requests": 48
         },
         {
          "commits": 82,
          "date": "2011-03-19",
          "issues": 32,
          "pull requests": 48
         },
         {
          "commits": 82,
          "date": "2011-03-20",
          "issues": 32,
          "pull requests": 48
         },
         {
          "commits": 82,
          "date": "2011-03-21",
          "issues": 33,
          "pull requests": 48
         },
         {
          "commits": 82,
          "date": "2011-03-22",
          "issues": 33,
          "pull requests": 48
         },
         {
          "commits": 82,
          "date": "2011-03-23",
          "issues": 33,
          "pull requests": 50
         },
         {
          "commits": 82,
          "date": "2011-03-24",
          "issues": 33,
          "pull requests": 50
         },
         {
          "commits": 82,
          "date": "2011-03-25",
          "issues": 33,
          "pull requests": 51
         },
         {
          "commits": 82,
          "date": "2011-03-26",
          "issues": 33,
          "pull requests": 51
         },
         {
          "commits": 82,
          "date": "2011-03-27",
          "issues": 33,
          "pull requests": 51
         },
         {
          "commits": 82,
          "date": "2011-03-28",
          "issues": 33,
          "pull requests": 51
         },
         {
          "commits": 82,
          "date": "2011-03-29",
          "issues": 33,
          "pull requests": 51
         },
         {
          "commits": 83,
          "date": "2011-03-30",
          "issues": 33,
          "pull requests": 51
         },
         {
          "commits": 83,
          "date": "2011-03-31",
          "issues": 33,
          "pull requests": 51
         },
         {
          "commits": 83,
          "date": "2011-04-01",
          "issues": 33,
          "pull requests": 51
         },
         {
          "commits": 83,
          "date": "2011-04-02",
          "issues": 33,
          "pull requests": 51
         },
         {
          "commits": 83,
          "date": "2011-04-03",
          "issues": 33,
          "pull requests": 53
         },
         {
          "commits": 83,
          "date": "2011-04-04",
          "issues": 33,
          "pull requests": 53
         },
         {
          "commits": 84,
          "date": "2011-04-05",
          "issues": 34,
          "pull requests": 54
         },
         {
          "commits": 86,
          "date": "2011-04-06",
          "issues": 34,
          "pull requests": 54
         },
         {
          "commits": 86,
          "date": "2011-04-07",
          "issues": 34,
          "pull requests": 54
         },
         {
          "commits": 86,
          "date": "2011-04-08",
          "issues": 34,
          "pull requests": 54
         },
         {
          "commits": 86,
          "date": "2011-04-09",
          "issues": 35,
          "pull requests": 54
         },
         {
          "commits": 86,
          "date": "2011-04-10",
          "issues": 35,
          "pull requests": 54
         },
         {
          "commits": 86,
          "date": "2011-04-11",
          "issues": 35,
          "pull requests": 54
         },
         {
          "commits": 93,
          "date": "2011-04-12",
          "issues": 36,
          "pull requests": 55
         },
         {
          "commits": 96,
          "date": "2011-04-13",
          "issues": 36,
          "pull requests": 60
         },
         {
          "commits": 97,
          "date": "2011-04-14",
          "issues": 37,
          "pull requests": 61
         },
         {
          "commits": 102,
          "date": "2011-04-15",
          "issues": 38,
          "pull requests": 65
         },
         {
          "commits": 103,
          "date": "2011-04-16",
          "issues": 38,
          "pull requests": 68
         },
         {
          "commits": 103,
          "date": "2011-04-17",
          "issues": 38,
          "pull requests": 68
         },
         {
          "commits": 105,
          "date": "2011-04-18",
          "issues": 39,
          "pull requests": 68
         },
         {
          "commits": 106,
          "date": "2011-04-19",
          "issues": 41,
          "pull requests": 70
         },
         {
          "commits": 111,
          "date": "2011-04-20",
          "issues": 43,
          "pull requests": 72
         },
         {
          "commits": 111,
          "date": "2011-04-21",
          "issues": 43,
          "pull requests": 72
         },
         {
          "commits": 113,
          "date": "2011-04-22",
          "issues": 43,
          "pull requests": 74
         },
         {
          "commits": 115,
          "date": "2011-04-23",
          "issues": 43,
          "pull requests": 77
         },
         {
          "commits": 115,
          "date": "2011-04-24",
          "issues": 43,
          "pull requests": 77
         },
         {
          "commits": 116,
          "date": "2011-04-25",
          "issues": 43,
          "pull requests": 78
         },
         {
          "commits": 116,
          "date": "2011-04-26",
          "issues": 43,
          "pull requests": 78
         },
         {
          "commits": 117,
          "date": "2011-04-27",
          "issues": 43,
          "pull requests": 78
         },
         {
          "commits": 119,
          "date": "2011-04-28",
          "issues": 45,
          "pull requests": 78
         },
         {
          "commits": 119,
          "date": "2011-04-29",
          "issues": 45,
          "pull requests": 78
         },
         {
          "commits": 119,
          "date": "2011-04-30",
          "issues": 45,
          "pull requests": 78
         },
         {
          "commits": 124,
          "date": "2011-05-01",
          "issues": 45,
          "pull requests": 79
         },
         {
          "commits": 124,
          "date": "2011-05-02",
          "issues": 45,
          "pull requests": 79
         },
         {
          "commits": 128,
          "date": "2011-05-03",
          "issues": 45,
          "pull requests": 80
         },
         {
          "commits": 128,
          "date": "2011-05-04",
          "issues": 45,
          "pull requests": 80
         },
         {
          "commits": 131,
          "date": "2011-05-05",
          "issues": 45,
          "pull requests": 84
         },
         {
          "commits": 133,
          "date": "2011-05-06",
          "issues": 45,
          "pull requests": 87
         },
         {
          "commits": 136,
          "date": "2011-05-07",
          "issues": 46,
          "pull requests": 87
         },
         {
          "commits": 138,
          "date": "2011-05-08",
          "issues": 46,
          "pull requests": 91
         },
         {
          "commits": 148,
          "date": "2011-05-09",
          "issues": 51,
          "pull requests": 96
         },
         {
          "commits": 152,
          "date": "2011-05-10",
          "issues": 53,
          "pull requests": 96
         },
         {
          "commits": 154,
          "date": "2011-05-11",
          "issues": 53,
          "pull requests": 97
         },
         {
          "commits": 162,
          "date": "2011-05-12",
          "issues": 54,
          "pull requests": 98
         },
         {
          "commits": 165,
          "date": "2011-05-13",
          "issues": 54,
          "pull requests": 100
         },
         {
          "commits": 174,
          "date": "2011-05-14",
          "issues": 54,
          "pull requests": 100
         },
         {
          "commits": 182,
          "date": "2011-05-15",
          "issues": 54,
          "pull requests": 101
         },
         {
          "commits": 189,
          "date": "2011-05-16",
          "issues": 56,
          "pull requests": 102
         },
         {
          "commits": 193,
          "date": "2011-05-17",
          "issues": 57,
          "pull requests": 105
         },
         {
          "commits": 194,
          "date": "2011-05-18",
          "issues": 64,
          "pull requests": 106
         },
         {
          "commits": 194,
          "date": "2011-05-19",
          "issues": 64,
          "pull requests": 106
         },
         {
          "commits": 194,
          "date": "2011-05-20",
          "issues": 64,
          "pull requests": 106
         },
         {
          "commits": 197,
          "date": "2011-05-21",
          "issues": 65,
          "pull requests": 108
         },
         {
          "commits": 202,
          "date": "2011-05-22",
          "issues": 66,
          "pull requests": 111
         },
         {
          "commits": 202,
          "date": "2011-05-23",
          "issues": 66,
          "pull requests": 111
         },
         {
          "commits": 203,
          "date": "2011-05-24",
          "issues": 66,
          "pull requests": 113
         },
         {
          "commits": 208,
          "date": "2011-05-25",
          "issues": 67,
          "pull requests": 117
         },
         {
          "commits": 216,
          "date": "2011-05-26",
          "issues": 70,
          "pull requests": 122
         },
         {
          "commits": 228,
          "date": "2011-05-27",
          "issues": 71,
          "pull requests": 123
         },
         {
          "commits": 233,
          "date": "2011-05-28",
          "issues": 71,
          "pull requests": 126
         },
         {
          "commits": 234,
          "date": "2011-05-29",
          "issues": 71,
          "pull requests": 129
         },
         {
          "commits": 235,
          "date": "2011-05-30",
          "issues": 72,
          "pull requests": 130
         },
         {
          "commits": 236,
          "date": "2011-05-31",
          "issues": 72,
          "pull requests": 130
         },
         {
          "commits": 246,
          "date": "2011-06-01",
          "issues": 72,
          "pull requests": 132
         },
         {
          "commits": 252,
          "date": "2011-06-02",
          "issues": 72,
          "pull requests": 133
         },
         {
          "commits": 257,
          "date": "2011-06-03",
          "issues": 72,
          "pull requests": 136
         },
         {
          "commits": 260,
          "date": "2011-06-04",
          "issues": 72,
          "pull requests": 137
         },
         {
          "commits": 272,
          "date": "2011-06-05",
          "issues": 74,
          "pull requests": 139
         },
         {
          "commits": 274,
          "date": "2011-06-06",
          "issues": 77,
          "pull requests": 141
         },
         {
          "commits": 276,
          "date": "2011-06-07",
          "issues": 79,
          "pull requests": 141
         },
         {
          "commits": 276,
          "date": "2011-06-08",
          "issues": 79,
          "pull requests": 141
         },
         {
          "commits": 277,
          "date": "2011-06-09",
          "issues": 79,
          "pull requests": 142
         },
         {
          "commits": 283,
          "date": "2011-06-10",
          "issues": 79,
          "pull requests": 142
         },
         {
          "commits": 291,
          "date": "2011-06-11",
          "issues": 80,
          "pull requests": 143
         },
         {
          "commits": 299,
          "date": "2011-06-12",
          "issues": 80,
          "pull requests": 143
         },
         {
          "commits": 305,
          "date": "2011-06-13",
          "issues": 80,
          "pull requests": 143
         },
         {
          "commits": 310,
          "date": "2011-06-14",
          "issues": 81,
          "pull requests": 143
         },
         {
          "commits": 315,
          "date": "2011-06-15",
          "issues": 81,
          "pull requests": 143
         },
         {
          "commits": 316,
          "date": "2011-06-16",
          "issues": 87,
          "pull requests": 144
         },
         {
          "commits": 321,
          "date": "2011-06-17",
          "issues": 87,
          "pull requests": 145
         },
         {
          "commits": 330,
          "date": "2011-06-18",
          "issues": 90,
          "pull requests": 147
         },
         {
          "commits": 332,
          "date": "2011-06-19",
          "issues": 91,
          "pull requests": 149
         },
         {
          "commits": 337,
          "date": "2011-06-20",
          "issues": 92,
          "pull requests": 151
         },
         {
          "commits": 344,
          "date": "2011-06-21",
          "issues": 94,
          "pull requests": 151
         },
         {
          "commits": 345,
          "date": "2011-06-22",
          "issues": 95,
          "pull requests": 151
         },
         {
          "commits": 346,
          "date": "2011-06-23",
          "issues": 96,
          "pull requests": 151
         },
         {
          "commits": 350,
          "date": "2011-06-24",
          "issues": 98,
          "pull requests": 154
         },
         {
          "commits": 356,
          "date": "2011-06-25",
          "issues": 99,
          "pull requests": 154
         },
         {
          "commits": 364,
          "date": "2011-06-26",
          "issues": 101,
          "pull requests": 157
         },
         {
          "commits": 368,
          "date": "2011-06-27",
          "issues": 102,
          "pull requests": 163
         },
         {
          "commits": 372,
          "date": "2011-06-28",
          "issues": 103,
          "pull requests": 166
         },
         {
          "commits": 376,
          "date": "2011-06-29",
          "issues": 104,
          "pull requests": 168
         },
         {
          "commits": 386,
          "date": "2011-06-30",
          "issues": 104,
          "pull requests": 170
         },
         {
          "commits": 396,
          "date": "2011-07-01",
          "issues": 105,
          "pull requests": 174
         },
         {
          "commits": 407,
          "date": "2011-07-02",
          "issues": 105,
          "pull requests": 175
         },
         {
          "commits": 413,
          "date": "2011-07-03",
          "issues": 106,
          "pull requests": 176
         },
         {
          "commits": 417,
          "date": "2011-07-04",
          "issues": 107,
          "pull requests": 179
         },
         {
          "commits": 424,
          "date": "2011-07-05",
          "issues": 108,
          "pull requests": 182
         },
         {
          "commits": 427,
          "date": "2011-07-06",
          "issues": 108,
          "pull requests": 183
         },
         {
          "commits": 442,
          "date": "2011-07-07",
          "issues": 111,
          "pull requests": 184
         },
         {
          "commits": 451,
          "date": "2011-07-08",
          "issues": 112,
          "pull requests": 184
         },
         {
          "commits": 460,
          "date": "2011-07-09",
          "issues": 113,
          "pull requests": 186
         },
         {
          "commits": 461,
          "date": "2011-07-10",
          "issues": 113,
          "pull requests": 186
         },
         {
          "commits": 466,
          "date": "2011-07-11",
          "issues": 113,
          "pull requests": 187
         },
         {
          "commits": 467,
          "date": "2011-07-12",
          "issues": 116,
          "pull requests": 188
         },
         {
          "commits": 491,
          "date": "2011-07-13",
          "issues": 118,
          "pull requests": 194
         },
         {
          "commits": 504,
          "date": "2011-07-14",
          "issues": 119,
          "pull requests": 198
         },
         {
          "commits": 513,
          "date": "2011-07-15",
          "issues": 119,
          "pull requests": 198
         },
         {
          "commits": 519,
          "date": "2011-07-16",
          "issues": 119,
          "pull requests": 199
         },
         {
          "commits": 528,
          "date": "2011-07-17",
          "issues": 119,
          "pull requests": 201
         },
         {
          "commits": 538,
          "date": "2011-07-18",
          "issues": 119,
          "pull requests": 202
         },
         {
          "commits": 538,
          "date": "2011-07-19",
          "issues": 119,
          "pull requests": 202
         },
         {
          "commits": 538,
          "date": "2011-07-20",
          "issues": 119,
          "pull requests": 202
         },
         {
          "commits": 539,
          "date": "2011-07-21",
          "issues": 119,
          "pull requests": 204
         },
         {
          "commits": 544,
          "date": "2011-07-22",
          "issues": 120,
          "pull requests": 204
         },
         {
          "commits": 544,
          "date": "2011-07-23",
          "issues": 120,
          "pull requests": 204
         },
         {
          "commits": 553,
          "date": "2011-07-24",
          "issues": 120,
          "pull requests": 206
         },
         {
          "commits": 557,
          "date": "2011-07-25",
          "issues": 121,
          "pull requests": 207
         },
         {
          "commits": 570,
          "date": "2011-07-26",
          "issues": 123,
          "pull requests": 210
         },
         {
          "commits": 575,
          "date": "2011-07-27",
          "issues": 123,
          "pull requests": 210
         },
         {
          "commits": 575,
          "date": "2011-07-28",
          "issues": 123,
          "pull requests": 210
         },
         {
          "commits": 579,
          "date": "2011-07-29",
          "issues": 123,
          "pull requests": 210
         },
         {
          "commits": 585,
          "date": "2011-07-30",
          "issues": 123,
          "pull requests": 213
         },
         {
          "commits": 590,
          "date": "2011-07-31",
          "issues": 125,
          "pull requests": 216
         },
         {
          "commits": 592,
          "date": "2011-08-01",
          "issues": 126,
          "pull requests": 217
         },
         {
          "commits": 595,
          "date": "2011-08-02",
          "issues": 126,
          "pull requests": 217
         },
         {
          "commits": 602,
          "date": "2011-08-03",
          "issues": 129,
          "pull requests": 219
         },
         {
          "commits": 606,
          "date": "2011-08-04",
          "issues": 129,
          "pull requests": 220
         },
         {
          "commits": 609,
          "date": "2011-08-05",
          "issues": 130,
          "pull requests": 221
         },
         {
          "commits": 611,
          "date": "2011-08-06",
          "issues": 130,
          "pull requests": 221
         },
         {
          "commits": 616,
          "date": "2011-08-07",
          "issues": 130,
          "pull requests": 221
         },
         {
          "commits": 627,
          "date": "2011-08-08",
          "issues": 131,
          "pull requests": 222
         },
         {
          "commits": 629,
          "date": "2011-08-09",
          "issues": 131,
          "pull requests": 222
         },
         {
          "commits": 629,
          "date": "2011-08-10",
          "issues": 131,
          "pull requests": 222
         },
         {
          "commits": 639,
          "date": "2011-08-11",
          "issues": 131,
          "pull requests": 228
         },
         {
          "commits": 640,
          "date": "2011-08-12",
          "issues": 132,
          "pull requests": 230
         },
         {
          "commits": 640,
          "date": "2011-08-13",
          "issues": 132,
          "pull requests": 230
         },
         {
          "commits": 640,
          "date": "2011-08-14",
          "issues": 132,
          "pull requests": 230
         },
         {
          "commits": 640,
          "date": "2011-08-15",
          "issues": 132,
          "pull requests": 230
         },
         {
          "commits": 645,
          "date": "2011-08-16",
          "issues": 134,
          "pull requests": 231
         },
         {
          "commits": 647,
          "date": "2011-08-17",
          "issues": 134,
          "pull requests": 232
         },
         {
          "commits": 647,
          "date": "2011-08-18",
          "issues": 134,
          "pull requests": 232
         },
         {
          "commits": 653,
          "date": "2011-08-19",
          "issues": 134,
          "pull requests": 232
         },
         {
          "commits": 653,
          "date": "2011-08-20",
          "issues": 134,
          "pull requests": 232
         },
         {
          "commits": 654,
          "date": "2011-08-21",
          "issues": 134,
          "pull requests": 233
         },
         {
          "commits": 655,
          "date": "2011-08-22",
          "issues": 134,
          "pull requests": 233
         },
         {
          "commits": 660,
          "date": "2011-08-23",
          "issues": 134,
          "pull requests": 233
         },
         {
          "commits": 661,
          "date": "2011-08-24",
          "issues": 135,
          "pull requests": 234
         },
         {
          "commits": 662,
          "date": "2011-08-25",
          "issues": 135,
          "pull requests": 234
         },
         {
          "commits": 663,
          "date": "2011-08-26",
          "issues": 135,
          "pull requests": 234
         },
         {
          "commits": 663,
          "date": "2011-08-27",
          "issues": 135,
          "pull requests": 234
         },
         {
          "commits": 664,
          "date": "2011-08-28",
          "issues": 136,
          "pull requests": 234
         },
         {
          "commits": 664,
          "date": "2011-08-29",
          "issues": 136,
          "pull requests": 234
         },
         {
          "commits": 664,
          "date": "2011-08-30",
          "issues": 136,
          "pull requests": 234
         },
         {
          "commits": 673,
          "date": "2011-08-31",
          "issues": 138,
          "pull requests": 235
         },
         {
          "commits": 681,
          "date": "2011-09-01",
          "issues": 138,
          "pull requests": 235
         },
         {
          "commits": 693,
          "date": "2011-09-02",
          "issues": 140,
          "pull requests": 236
         },
         {
          "commits": 698,
          "date": "2011-09-03",
          "issues": 141,
          "pull requests": 237
         },
         {
          "commits": 698,
          "date": "2011-09-04",
          "issues": 141,
          "pull requests": 237
         },
         {
          "commits": 699,
          "date": "2011-09-05",
          "issues": 143,
          "pull requests": 239
         },
         {
          "commits": 712,
          "date": "2011-09-06",
          "issues": 143,
          "pull requests": 246
         },
         {
          "commits": 718,
          "date": "2011-09-07",
          "issues": 143,
          "pull requests": 247
         },
         {
          "commits": 719,
          "date": "2011-09-08",
          "issues": 144,
          "pull requests": 248
         },
         {
          "commits": 723,
          "date": "2011-09-09",
          "issues": 144,
          "pull requests": 251
         },
         {
          "commits": 723,
          "date": "2011-09-10",
          "issues": 144,
          "pull requests": 251
         },
         {
          "commits": 730,
          "date": "2011-09-11",
          "issues": 144,
          "pull requests": 253
         },
         {
          "commits": 730,
          "date": "2011-09-12",
          "issues": 144,
          "pull requests": 254
         },
         {
          "commits": 731,
          "date": "2011-09-13",
          "issues": 144,
          "pull requests": 254
         },
         {
          "commits": 733,
          "date": "2011-09-14",
          "issues": 146,
          "pull requests": 256
         },
         {
          "commits": 733,
          "date": "2011-09-15",
          "issues": 146,
          "pull requests": 256
         },
         {
          "commits": 734,
          "date": "2011-09-16",
          "issues": 146,
          "pull requests": 256
         },
         {
          "commits": 735,
          "date": "2011-09-17",
          "issues": 146,
          "pull requests": 258
         },
         {
          "commits": 738,
          "date": "2011-09-18",
          "issues": 146,
          "pull requests": 259
         },
         {
          "commits": 740,
          "date": "2011-09-19",
          "issues": 146,
          "pull requests": 261
         },
         {
          "commits": 740,
          "date": "2011-09-20",
          "issues": 146,
          "pull requests": 262
         },
         {
          "commits": 744,
          "date": "2011-09-21",
          "issues": 146,
          "pull requests": 262
         },
         {
          "commits": 752,
          "date": "2011-09-22",
          "issues": 146,
          "pull requests": 262
         },
         {
          "commits": 755,
          "date": "2011-09-23",
          "issues": 146,
          "pull requests": 262
         },
         {
          "commits": 757,
          "date": "2011-09-24",
          "issues": 148,
          "pull requests": 263
         },
         {
          "commits": 757,
          "date": "2011-09-25",
          "issues": 148,
          "pull requests": 263
         },
         {
          "commits": 768,
          "date": "2011-09-26",
          "issues": 148,
          "pull requests": 263
         },
         {
          "commits": 781,
          "date": "2011-09-27",
          "issues": 148,
          "pull requests": 266
         },
         {
          "commits": 785,
          "date": "2011-09-28",
          "issues": 148,
          "pull requests": 269
         },
         {
          "commits": 790,
          "date": "2011-09-29",
          "issues": 149,
          "pull requests": 271
         },
         {
          "commits": 793,
          "date": "2011-09-30",
          "issues": 149,
          "pull requests": 271
         },
         {
          "commits": 798,
          "date": "2011-10-01",
          "issues": 150,
          "pull requests": 273
         },
         {
          "commits": 800,
          "date": "2011-10-02",
          "issues": 150,
          "pull requests": 273
         },
         {
          "commits": 804,
          "date": "2011-10-03",
          "issues": 152,
          "pull requests": 274
         },
         {
          "commits": 809,
          "date": "2011-10-04",
          "issues": 152,
          "pull requests": 292
         },
         {
          "commits": 820,
          "date": "2011-10-05",
          "issues": 153,
          "pull requests": 294
         },
         {
          "commits": 824,
          "date": "2011-10-06",
          "issues": 153,
          "pull requests": 296
         },
         {
          "commits": 826,
          "date": "2011-10-07",
          "issues": 153,
          "pull requests": 297
         },
         {
          "commits": 828,
          "date": "2011-10-08",
          "issues": 153,
          "pull requests": 297
         },
         {
          "commits": 841,
          "date": "2011-10-09",
          "issues": 153,
          "pull requests": 299
         },
         {
          "commits": 848,
          "date": "2011-10-10",
          "issues": 155,
          "pull requests": 300
         },
         {
          "commits": 849,
          "date": "2011-10-11",
          "issues": 155,
          "pull requests": 301
         },
         {
          "commits": 849,
          "date": "2011-10-12",
          "issues": 155,
          "pull requests": 301
         },
         {
          "commits": 849,
          "date": "2011-10-13",
          "issues": 155,
          "pull requests": 301
         },
         {
          "commits": 850,
          "date": "2011-10-14",
          "issues": 155,
          "pull requests": 302
         },
         {
          "commits": 851,
          "date": "2011-10-15",
          "issues": 155,
          "pull requests": 303
         },
         {
          "commits": 851,
          "date": "2011-10-16",
          "issues": 155,
          "pull requests": 303
         },
         {
          "commits": 851,
          "date": "2011-10-17",
          "issues": 155,
          "pull requests": 305
         },
         {
          "commits": 852,
          "date": "2011-10-18",
          "issues": 155,
          "pull requests": 305
         },
         {
          "commits": 852,
          "date": "2011-10-19",
          "issues": 155,
          "pull requests": 305
         },
         {
          "commits": 852,
          "date": "2011-10-20",
          "issues": 155,
          "pull requests": 305
         },
         {
          "commits": 852,
          "date": "2011-10-21",
          "issues": 155,
          "pull requests": 305
         },
         {
          "commits": 852,
          "date": "2011-10-22",
          "issues": 155,
          "pull requests": 305
         },
         {
          "commits": 855,
          "date": "2011-10-23",
          "issues": 155,
          "pull requests": 306
         },
         {
          "commits": 858,
          "date": "2011-10-24",
          "issues": 155,
          "pull requests": 307
         },
         {
          "commits": 875,
          "date": "2011-10-25",
          "issues": 155,
          "pull requests": 307
         },
         {
          "commits": 875,
          "date": "2011-10-26",
          "issues": 155,
          "pull requests": 307
         },
         {
          "commits": 875,
          "date": "2011-10-27",
          "issues": 155,
          "pull requests": 307
         },
         {
          "commits": 875,
          "date": "2011-10-28",
          "issues": 155,
          "pull requests": 307
         },
         {
          "commits": 876,
          "date": "2011-10-29",
          "issues": 158,
          "pull requests": 308
         },
         {
          "commits": 876,
          "date": "2011-10-30",
          "issues": 158,
          "pull requests": 308
         },
         {
          "commits": 876,
          "date": "2011-10-31",
          "issues": 158,
          "pull requests": 308
         },
         {
          "commits": 881,
          "date": "2011-11-01",
          "issues": 159,
          "pull requests": 308
         },
         {
          "commits": 883,
          "date": "2011-11-02",
          "issues": 159,
          "pull requests": 309
         },
         {
          "commits": 886,
          "date": "2011-11-03",
          "issues": 159,
          "pull requests": 311
         },
         {
          "commits": 890,
          "date": "2011-11-04",
          "issues": 160,
          "pull requests": 313
         },
         {
          "commits": 890,
          "date": "2011-11-05",
          "issues": 160,
          "pull requests": 313
         },
         {
          "commits": 892,
          "date": "2011-11-06",
          "issues": 161,
          "pull requests": 315
         },
         {
          "commits": 894,
          "date": "2011-11-07",
          "issues": 164,
          "pull requests": 315
         },
         {
          "commits": 901,
          "date": "2011-11-08",
          "issues": 172,
          "pull requests": 318
         },
         {
          "commits": 903,
          "date": "2011-11-09",
          "issues": 175,
          "pull requests": 318
         },
         {
          "commits": 910,
          "date": "2011-11-10",
          "issues": 176,
          "pull requests": 320
         },
         {
          "commits": 912,
          "date": "2011-11-11",
          "issues": 176,
          "pull requests": 321
         },
         {
          "commits": 913,
          "date": "2011-11-12",
          "issues": 176,
          "pull requests": 324
         },
         {
          "commits": 917,
          "date": "2011-11-13",
          "issues": 176,
          "pull requests": 324
         },
         {
          "commits": 920,
          "date": "2011-11-14",
          "issues": 176,
          "pull requests": 324
         },
         {
          "commits": 927,
          "date": "2011-11-15",
          "issues": 176,
          "pull requests": 325
         },
         {
          "commits": 927,
          "date": "2011-11-16",
          "issues": 176,
          "pull requests": 325
         },
         {
          "commits": 929,
          "date": "2011-11-17",
          "issues": 177,
          "pull requests": 325
         },
         {
          "commits": 929,
          "date": "2011-11-18",
          "issues": 177,
          "pull requests": 325
         },
         {
          "commits": 929,
          "date": "2011-11-19",
          "issues": 177,
          "pull requests": 325
         },
         {
          "commits": 933,
          "date": "2011-11-20",
          "issues": 179,
          "pull requests": 325
         },
         {
          "commits": 945,
          "date": "2011-11-21",
          "issues": 182,
          "pull requests": 327
         },
         {
          "commits": 945,
          "date": "2011-11-22",
          "issues": 182,
          "pull requests": 327
         },
         {
          "commits": 945,
          "date": "2011-11-23",
          "issues": 182,
          "pull requests": 327
         },
         {
          "commits": 947,
          "date": "2011-11-24",
          "issues": 183,
          "pull requests": 328
         },
         {
          "commits": 947,
          "date": "2011-11-25",
          "issues": 183,
          "pull requests": 328
         },
         {
          "commits": 950,
          "date": "2011-11-26",
          "issues": 185,
          "pull requests": 330
         },
         {
          "commits": 951,
          "date": "2011-11-27",
          "issues": 186,
          "pull requests": 330
         },
         {
          "commits": 951,
          "date": "2011-11-28",
          "issues": 186,
          "pull requests": 330
         },
         {
          "commits": 951,
          "date": "2011-11-29",
          "issues": 186,
          "pull requests": 330
         },
         {
          "commits": 951,
          "date": "2011-11-30",
          "issues": 186,
          "pull requests": 330
         },
         {
          "commits": 958,
          "date": "2011-12-01",
          "issues": 188,
          "pull requests": 331
         },
         {
          "commits": 961,
          "date": "2011-12-02",
          "issues": 190,
          "pull requests": 332
         },
         {
          "commits": 961,
          "date": "2011-12-03",
          "issues": 190,
          "pull requests": 332
         },
         {
          "commits": 963,
          "date": "2011-12-04",
          "issues": 190,
          "pull requests": 333
         },
         {
          "commits": 965,
          "date": "2011-12-05",
          "issues": 191,
          "pull requests": 335
         },
         {
          "commits": 965,
          "date": "2011-12-06",
          "issues": 191,
          "pull requests": 335
         },
         {
          "commits": 966,
          "date": "2011-12-07",
          "issues": 193,
          "pull requests": 336
         },
         {
          "commits": 966,
          "date": "2011-12-08",
          "issues": 193,
          "pull requests": 336
         },
         {
          "commits": 969,
          "date": "2011-12-09",
          "issues": 194,
          "pull requests": 339
         },
         {
          "commits": 970,
          "date": "2011-12-10",
          "issues": 194,
          "pull requests": 340
         },
         {
          "commits": 970,
          "date": "2011-12-11",
          "issues": 194,
          "pull requests": 340
         },
         {
          "commits": 973,
          "date": "2011-12-12",
          "issues": 194,
          "pull requests": 340
         },
         {
          "commits": 977,
          "date": "2011-12-13",
          "issues": 195,
          "pull requests": 344
         },
         {
          "commits": 979,
          "date": "2011-12-14",
          "issues": 196,
          "pull requests": 344
         },
         {
          "commits": 979,
          "date": "2011-12-15",
          "issues": 196,
          "pull requests": 344
         },
         {
          "commits": 988,
          "date": "2011-12-16",
          "issues": 198,
          "pull requests": 348
         },
         {
          "commits": 994,
          "date": "2011-12-17",
          "issues": 198,
          "pull requests": 348
         },
         {
          "commits": 994,
          "date": "2011-12-18",
          "issues": 198,
          "pull requests": 348
         },
         {
          "commits": 1013,
          "date": "2011-12-19",
          "issues": 199,
          "pull requests": 350
         },
         {
          "commits": 1026,
          "date": "2011-12-20",
          "issues": 200,
          "pull requests": 352
         },
         {
          "commits": 1027,
          "date": "2011-12-21",
          "issues": 200,
          "pull requests": 353
         },
         {
          "commits": 1029,
          "date": "2011-12-22",
          "issues": 201,
          "pull requests": 353
         },
         {
          "commits": 1042,
          "date": "2011-12-23",
          "issues": 203,
          "pull requests": 355
         },
         {
          "commits": 1042,
          "date": "2011-12-24",
          "issues": 203,
          "pull requests": 355
         },
         {
          "commits": 1046,
          "date": "2011-12-25",
          "issues": 203,
          "pull requests": 355
         },
         {
          "commits": 1046,
          "date": "2011-12-26",
          "issues": 203,
          "pull requests": 355
         },
         {
          "commits": 1049,
          "date": "2011-12-27",
          "issues": 204,
          "pull requests": 356
         },
         {
          "commits": 1050,
          "date": "2011-12-28",
          "issues": 204,
          "pull requests": 357
         },
         {
          "commits": 1050,
          "date": "2011-12-29",
          "issues": 204,
          "pull requests": 357
         },
         {
          "commits": 1050,
          "date": "2011-12-30",
          "issues": 204,
          "pull requests": 357
         },
         {
          "commits": 1050,
          "date": "2011-12-31",
          "issues": 204,
          "pull requests": 357
         },
         {
          "commits": 1050,
          "date": "2012-01-01",
          "issues": 204,
          "pull requests": 357
         },
         {
          "commits": 1050,
          "date": "2012-01-02",
          "issues": 207,
          "pull requests": 359
         },
         {
          "commits": 1061,
          "date": "2012-01-03",
          "issues": 209,
          "pull requests": 362
         },
         {
          "commits": 1061,
          "date": "2012-01-04",
          "issues": 209,
          "pull requests": 362
         },
         {
          "commits": 1065,
          "date": "2012-01-05",
          "issues": 210,
          "pull requests": 362
         },
         {
          "commits": 1067,
          "date": "2012-01-06",
          "issues": 211,
          "pull requests": 363
         },
         {
          "commits": 1069,
          "date": "2012-01-07",
          "issues": 212,
          "pull requests": 365
         },
         {
          "commits": 1069,
          "date": "2012-01-08",
          "issues": 212,
          "pull requests": 365
         },
         {
          "commits": 1075,
          "date": "2012-01-09",
          "issues": 213,
          "pull requests": 365
         },
         {
          "commits": 1078,
          "date": "2012-01-10",
          "issues": 214,
          "pull requests": 365
         },
         {
          "commits": 1078,
          "date": "2012-01-11",
          "issues": 214,
          "pull requests": 365
         },
         {
          "commits": 1080,
          "date": "2012-01-12",
          "issues": 214,
          "pull requests": 365
         },
         {
          "commits": 1091,
          "date": "2012-01-13",
          "issues": 215,
          "pull requests": 366
         },
         {
          "commits": 1093,
          "date": "2012-01-14",
          "issues": 215,
          "pull requests": 368
         },
         {
          "commits": 1096,
          "date": "2012-01-15",
          "issues": 216,
          "pull requests": 369
         },
         {
          "commits": 1097,
          "date": "2012-01-16",
          "issues": 217,
          "pull requests": 369
         },
         {
          "commits": 1102,
          "date": "2012-01-17",
          "issues": 218,
          "pull requests": 370
         },
         {
          "commits": 1103,
          "date": "2012-01-18",
          "issues": 219,
          "pull requests": 372
         },
         {
          "commits": 1108,
          "date": "2012-01-19",
          "issues": 219,
          "pull requests": 375
         },
         {
          "commits": 1109,
          "date": "2012-01-20",
          "issues": 220,
          "pull requests": 376
         },
         {
          "commits": 1111,
          "date": "2012-01-21",
          "issues": 220,
          "pull requests": 378
         },
         {
          "commits": 1111,
          "date": "2012-01-22",
          "issues": 220,
          "pull requests": 378
         },
         {
          "commits": 1121,
          "date": "2012-01-23",
          "issues": 222,
          "pull requests": 379
         },
         {
          "commits": 1121,
          "date": "2012-01-24",
          "issues": 222,
          "pull requests": 379
         },
         {
          "commits": 1124,
          "date": "2012-01-25",
          "issues": 224,
          "pull requests": 380
         },
         {
          "commits": 1126,
          "date": "2012-01-26",
          "issues": 225,
          "pull requests": 381
         },
         {
          "commits": 1127,
          "date": "2012-01-27",
          "issues": 225,
          "pull requests": 382
         },
         {
          "commits": 1128,
          "date": "2012-01-28",
          "issues": 225,
          "pull requests": 382
         },
         {
          "commits": 1128,
          "date": "2012-01-29",
          "issues": 225,
          "pull requests": 382
         },
         {
          "commits": 1128,
          "date": "2012-01-30",
          "issues": 225,
          "pull requests": 382
         },
         {
          "commits": 1131,
          "date": "2012-01-31",
          "issues": 226,
          "pull requests": 383
         },
         {
          "commits": 1134,
          "date": "2012-02-01",
          "issues": 227,
          "pull requests": 384
         },
         {
          "commits": 1134,
          "date": "2012-02-02",
          "issues": 227,
          "pull requests": 384
         },
         {
          "commits": 1134,
          "date": "2012-02-03",
          "issues": 227,
          "pull requests": 384
         },
         {
          "commits": 1134,
          "date": "2012-02-04",
          "issues": 227,
          "pull requests": 384
         },
         {
          "commits": 1136,
          "date": "2012-02-05",
          "issues": 227,
          "pull requests": 388
         },
         {
          "commits": 1144,
          "date": "2012-02-06",
          "issues": 228,
          "pull requests": 390
         },
         {
          "commits": 1154,
          "date": "2012-02-07",
          "issues": 228,
          "pull requests": 393
         },
         {
          "commits": 1154,
          "date": "2012-02-08",
          "issues": 228,
          "pull requests": 393
         },
         {
          "commits": 1155,
          "date": "2012-02-09",
          "issues": 231,
          "pull requests": 394
         },
         {
          "commits": 1161,
          "date": "2012-02-10",
          "issues": 232,
          "pull requests": 397
         },
         {
          "commits": 1170,
          "date": "2012-02-11",
          "issues": 236,
          "pull requests": 401
         },
         {
          "commits": 1173,
          "date": "2012-02-12",
          "issues": 236,
          "pull requests": 402
         },
         {
          "commits": 1173,
          "date": "2012-02-13",
          "issues": 236,
          "pull requests": 402
         },
         {
          "commits": 1173,
          "date": "2012-02-14",
          "issues": 236,
          "pull requests": 402
         },
         {
          "commits": 1182,
          "date": "2012-02-15",
          "issues": 238,
          "pull requests": 406
         },
         {
          "commits": 1189,
          "date": "2012-02-16",
          "issues": 243,
          "pull requests": 409
         },
         {
          "commits": 1203,
          "date": "2012-02-17",
          "issues": 246,
          "pull requests": 415
         },
         {
          "commits": 1211,
          "date": "2012-02-18",
          "issues": 247,
          "pull requests": 418
         },
         {
          "commits": 1219,
          "date": "2012-02-19",
          "issues": 247,
          "pull requests": 421
         },
         {
          "commits": 1228,
          "date": "2012-02-20",
          "issues": 250,
          "pull requests": 422
         },
         {
          "commits": 1229,
          "date": "2012-02-21",
          "issues": 253,
          "pull requests": 422
         },
         {
          "commits": 1240,
          "date": "2012-02-22",
          "issues": 253,
          "pull requests": 427
         },
         {
          "commits": 1244,
          "date": "2012-02-23",
          "issues": 255,
          "pull requests": 429
         },
         {
          "commits": 1245,
          "date": "2012-02-24",
          "issues": 255,
          "pull requests": 431
         },
         {
          "commits": 1251,
          "date": "2012-02-25",
          "issues": 255,
          "pull requests": 438
         },
         {
          "commits": 1257,
          "date": "2012-02-26",
          "issues": 257,
          "pull requests": 441
         },
         {
          "commits": 1263,
          "date": "2012-02-27",
          "issues": 258,
          "pull requests": 444
         },
         {
          "commits": 1267,
          "date": "2012-02-28",
          "issues": 259,
          "pull requests": 444
         },
         {
          "commits": 1270,
          "date": "2012-02-29",
          "issues": 260,
          "pull requests": 445
         },
         {
          "commits": 1271,
          "date": "2012-03-01",
          "issues": 260,
          "pull requests": 445
         },
         {
          "commits": 1271,
          "date": "2012-03-02",
          "issues": 260,
          "pull requests": 445
         },
         {
          "commits": 1273,
          "date": "2012-03-03",
          "issues": 260,
          "pull requests": 447
         },
         {
          "commits": 1273,
          "date": "2012-03-04",
          "issues": 260,
          "pull requests": 447
         },
         {
          "commits": 1275,
          "date": "2012-03-05",
          "issues": 262,
          "pull requests": 449
         },
         {
          "commits": 1275,
          "date": "2012-03-06",
          "issues": 262,
          "pull requests": 449
         },
         {
          "commits": 1275,
          "date": "2012-03-07",
          "issues": 262,
          "pull requests": 449
         },
         {
          "commits": 1275,
          "date": "2012-03-08",
          "issues": 262,
          "pull requests": 449
         },
         {
          "commits": 1275,
          "date": "2012-03-09",
          "issues": 262,
          "pull requests": 449
         },
         {
          "commits": 1276,
          "date": "2012-03-10",
          "issues": 266,
          "pull requests": 450
         },
         {
          "commits": 1277,
          "date": "2012-03-11",
          "issues": 266,
          "pull requests": 453
         },
         {
          "commits": 1281,
          "date": "2012-03-12",
          "issues": 268,
          "pull requests": 453
         },
         {
          "commits": 1282,
          "date": "2012-03-13",
          "issues": 268,
          "pull requests": 454
         },
         {
          "commits": 1283,
          "date": "2012-03-14",
          "issues": 269,
          "pull requests": 454
         },
         {
          "commits": 1284,
          "date": "2012-03-15",
          "issues": 271,
          "pull requests": 456
         },
         {
          "commits": 1289,
          "date": "2012-03-16",
          "issues": 271,
          "pull requests": 457
         },
         {
          "commits": 1289,
          "date": "2012-03-17",
          "issues": 274,
          "pull requests": 457
         },
         {
          "commits": 1290,
          "date": "2012-03-18",
          "issues": 274,
          "pull requests": 461
         },
         {
          "commits": 1293,
          "date": "2012-03-19",
          "issues": 276,
          "pull requests": 465
         },
         {
          "commits": 1298,
          "date": "2012-03-20",
          "issues": 280,
          "pull requests": 471
         },
         {
          "commits": 1310,
          "date": "2012-03-21",
          "issues": 280,
          "pull requests": 476
         },
         {
          "commits": 1321,
          "date": "2012-03-22",
          "issues": 282,
          "pull requests": 480
         },
         {
          "commits": 1322,
          "date": "2012-03-23",
          "issues": 282,
          "pull requests": 482
         },
         {
          "commits": 1322,
          "date": "2012-03-24",
          "issues": 282,
          "pull requests": 482
         },
         {
          "commits": 1326,
          "date": "2012-03-25",
          "issues": 283,
          "pull requests": 485
         },
         {
          "commits": 1343,
          "date": "2012-03-26",
          "issues": 284,
          "pull requests": 492
         },
         {
          "commits": 1343,
          "date": "2012-03-27",
          "issues": 285,
          "pull requests": 494
         },
         {
          "commits": 1343,
          "date": "2012-03-28",
          "issues": 285,
          "pull requests": 494
         },
         {
          "commits": 1352,
          "date": "2012-03-29",
          "issues": 287,
          "pull requests": 499
         },
         {
          "commits": 1352,
          "date": "2012-03-30",
          "issues": 288,
          "pull requests": 500
         },
         {
          "commits": 1353,
          "date": "2012-03-31",
          "issues": 290,
          "pull requests": 502
         },
         {
          "commits": 1353,
          "date": "2012-04-01",
          "issues": 290,
          "pull requests": 505
         },
         {
          "commits": 1361,
          "date": "2012-04-02",
          "issues": 291,
          "pull requests": 507
         },
         {
          "commits": 1365,
          "date": "2012-04-03",
          "issues": 294,
          "pull requests": 509
         },
         {
          "commits": 1382,
          "date": "2012-04-04",
          "issues": 294,
          "pull requests": 515
         },
         {
          "commits": 1396,
          "date": "2012-04-05",
          "issues": 297,
          "pull requests": 522
         },
         {
          "commits": 1402,
          "date": "2012-04-06",
          "issues": 300,
          "pull requests": 524
         },
         {
          "commits": 1402,
          "date": "2012-04-07",
          "issues": 300,
          "pull requests": 524
         },
         {
          "commits": 1405,
          "date": "2012-04-08",
          "issues": 305,
          "pull requests": 525
         },
         {
          "commits": 1407,
          "date": "2012-04-09",
          "issues": 308,
          "pull requests": 527
         },
         {
          "commits": 1412,
          "date": "2012-04-10",
          "issues": 310,
          "pull requests": 528
         },
         {
          "commits": 1420,
          "date": "2012-04-11",
          "issues": 314,
          "pull requests": 532
         },
         {
          "commits": 1426,
          "date": "2012-04-12",
          "issues": 315,
          "pull requests": 533
         },
         {
          "commits": 1430,
          "date": "2012-04-13",
          "issues": 316,
          "pull requests": 541
         },
         {
          "commits": 1436,
          "date": "2012-04-14",
          "issues": 318,
          "pull requests": 543
         },
         {
          "commits": 1447,
          "date": "2012-04-15",
          "issues": 320,
          "pull requests": 551
         },
         {
          "commits": 1449,
          "date": "2012-04-16",
          "issues": 322,
          "pull requests": 552
         },
         {
          "commits": 1464,
          "date": "2012-04-17",
          "issues": 324,
          "pull requests": 557
         },
         {
          "commits": 1468,
          "date": "2012-04-18",
          "issues": 325,
          "pull requests": 559
         },
         {
          "commits": 1469,
          "date": "2012-04-19",
          "issues": 326,
          "pull requests": 560
         },
         {
          "commits": 1473,
          "date": "2012-04-20",
          "issues": 327,
          "pull requests": 561
         },
         {
          "commits": 1483,
          "date": "2012-04-21",
          "issues": 328,
          "pull requests": 563
         },
         {
          "commits": 1486,
          "date": "2012-04-22",
          "issues": 331,
          "pull requests": 570
         },
         {
          "commits": 1486,
          "date": "2012-04-23",
          "issues": 331,
          "pull requests": 570
         },
         {
          "commits": 1486,
          "date": "2012-04-24",
          "issues": 334,
          "pull requests": 571
         },
         {
          "commits": 1489,
          "date": "2012-04-25",
          "issues": 334,
          "pull requests": 572
         },
         {
          "commits": 1498,
          "date": "2012-04-26",
          "issues": 337,
          "pull requests": 574
         },
         {
          "commits": 1502,
          "date": "2012-04-27",
          "issues": 340,
          "pull requests": 574
         },
         {
          "commits": 1502,
          "date": "2012-04-28",
          "issues": 340,
          "pull requests": 574
         },
         {
          "commits": 1505,
          "date": "2012-04-29",
          "issues": 342,
          "pull requests": 576
         },
         {
          "commits": 1506,
          "date": "2012-04-30",
          "issues": 345,
          "pull requests": 577
         },
         {
          "commits": 1509,
          "date": "2012-05-01",
          "issues": 345,
          "pull requests": 582
         },
         {
          "commits": 1510,
          "date": "2012-05-02",
          "issues": 351,
          "pull requests": 582
         },
         {
          "commits": 1512,
          "date": "2012-05-03",
          "issues": 354,
          "pull requests": 584
         },
         {
          "commits": 1521,
          "date": "2012-05-04",
          "issues": 355,
          "pull requests": 586
         },
         {
          "commits": 1539,
          "date": "2012-05-05",
          "issues": 355,
          "pull requests": 597
         },
         {
          "commits": 1546,
          "date": "2012-05-06",
          "issues": 357,
          "pull requests": 601
         },
         {
          "commits": 1550,
          "date": "2012-05-07",
          "issues": 359,
          "pull requests": 604
         },
         {
          "commits": 1558,
          "date": "2012-05-08",
          "issues": 364,
          "pull requests": 607
         },
         {
          "commits": 1580,
          "date": "2012-05-09",
          "issues": 372,
          "pull requests": 618
         },
         {
          "commits": 1582,
          "date": "2012-05-10",
          "issues": 374,
          "pull requests": 621
         },
         {
          "commits": 1608,
          "date": "2012-05-11",
          "issues": 375,
          "pull requests": 630
         },
         {
          "commits": 1629,
          "date": "2012-05-12",
          "issues": 379,
          "pull requests": 637
         },
         {
          "commits": 1650,
          "date": "2012-05-13",
          "issues": 381,
          "pull requests": 646
         },
         {
          "commits": 1662,
          "date": "2012-05-14",
          "issues": 384,
          "pull requests": 660
         },
         {
          "commits": 1666,
          "date": "2012-05-15",
          "issues": 388,
          "pull requests": 665
         },
         {
          "commits": 1672,
          "date": "2012-05-16",
          "issues": 389,
          "pull requests": 669
         },
         {
          "commits": 1686,
          "date": "2012-05-17",
          "issues": 390,
          "pull requests": 690
         },
         {
          "commits": 1697,
          "date": "2012-05-18",
          "issues": 391,
          "pull requests": 698
         },
         {
          "commits": 1702,
          "date": "2012-05-19",
          "issues": 392,
          "pull requests": 701
         },
         {
          "commits": 1712,
          "date": "2012-05-20",
          "issues": 392,
          "pull requests": 703
         },
         {
          "commits": 1718,
          "date": "2012-05-21",
          "issues": 393,
          "pull requests": 708
         },
         {
          "commits": 1728,
          "date": "2012-05-22",
          "issues": 394,
          "pull requests": 716
         },
         {
          "commits": 1732,
          "date": "2012-05-23",
          "issues": 394,
          "pull requests": 717
         },
         {
          "commits": 1736,
          "date": "2012-05-24",
          "issues": 396,
          "pull requests": 720
         },
         {
          "commits": 1749,
          "date": "2012-05-25",
          "issues": 398,
          "pull requests": 721
         },
         {
          "commits": 1751,
          "date": "2012-05-26",
          "issues": 398,
          "pull requests": 721
         },
         {
          "commits": 1752,
          "date": "2012-05-27",
          "issues": 398,
          "pull requests": 721
         },
         {
          "commits": 1755,
          "date": "2012-05-28",
          "issues": 398,
          "pull requests": 723
         },
         {
          "commits": 1756,
          "date": "2012-05-29",
          "issues": 399,
          "pull requests": 725
         },
         {
          "commits": 1757,
          "date": "2012-05-30",
          "issues": 399,
          "pull requests": 727
         },
         {
          "commits": 1762,
          "date": "2012-05-31",
          "issues": 403,
          "pull requests": 731
         },
         {
          "commits": 1762,
          "date": "2012-06-01",
          "issues": 403,
          "pull requests": 732
         },
         {
          "commits": 1766,
          "date": "2012-06-02",
          "issues": 404,
          "pull requests": 734
         },
         {
          "commits": 1767,
          "date": "2012-06-03",
          "issues": 405,
          "pull requests": 736
         },
         {
          "commits": 1775,
          "date": "2012-06-04",
          "issues": 405,
          "pull requests": 739
         },
         {
          "commits": 1778,
          "date": "2012-06-05",
          "issues": 408,
          "pull requests": 742
         },
         {
          "commits": 1778,
          "date": "2012-06-06",
          "issues": 408,
          "pull requests": 742
         },
         {
          "commits": 1780,
          "date": "2012-06-07",
          "issues": 409,
          "pull requests": 742
         },
         {
          "commits": 1783,
          "date": "2012-06-08",
          "issues": 410,
          "pull requests": 742
         },
         {
          "commits": 1784,
          "date": "2012-06-09",
          "issues": 411,
          "pull requests": 744
         },
         {
          "commits": 1784,
          "date": "2012-06-10",
          "issues": 411,
          "pull requests": 744
         },
         {
          "commits": 1785,
          "date": "2012-06-11",
          "issues": 411,
          "pull requests": 746
         },
         {
          "commits": 1792,
          "date": "2012-06-12",
          "issues": 412,
          "pull requests": 749
         },
         {
          "commits": 1799,
          "date": "2012-06-13",
          "issues": 416,
          "pull requests": 753
         },
         {
          "commits": 1811,
          "date": "2012-06-14",
          "issues": 422,
          "pull requests": 759
         },
         {
          "commits": 1815,
          "date": "2012-06-15",
          "issues": 423,
          "pull requests": 761
         },
         {
          "commits": 1815,
          "date": "2012-06-16",
          "issues": 423,
          "pull requests": 761
         },
         {
          "commits": 1821,
          "date": "2012-06-17",
          "issues": 424,
          "pull requests": 763
         },
         {
          "commits": 1830,
          "date": "2012-06-18",
          "issues": 425,
          "pull requests": 767
         },
         {
          "commits": 1833,
          "date": "2012-06-19",
          "issues": 425,
          "pull requests": 769
         },
         {
          "commits": 1837,
          "date": "2012-06-20",
          "issues": 427,
          "pull requests": 773
         },
         {
          "commits": 1840,
          "date": "2012-06-21",
          "issues": 427,
          "pull requests": 778
         },
         {
          "commits": 1849,
          "date": "2012-06-22",
          "issues": 430,
          "pull requests": 781
         },
         {
          "commits": 1849,
          "date": "2012-06-23",
          "issues": 433,
          "pull requests": 782
         },
         {
          "commits": 1855,
          "date": "2012-06-24",
          "issues": 434,
          "pull requests": 789
         },
         {
          "commits": 1860,
          "date": "2012-06-25",
          "issues": 434,
          "pull requests": 791
         },
         {
          "commits": 1860,
          "date": "2012-06-26",
          "issues": 436,
          "pull requests": 791
         },
         {
          "commits": 1867,
          "date": "2012-06-27",
          "issues": 437,
          "pull requests": 794
         },
         {
          "commits": 1873,
          "date": "2012-06-28",
          "issues": 439,
          "pull requests": 795
         },
         {
          "commits": 1874,
          "date": "2012-06-29",
          "issues": 441,
          "pull requests": 799
         },
         {
          "commits": 1877,
          "date": "2012-06-30",
          "issues": 442,
          "pull requests": 803
         },
         {
          "commits": 1879,
          "date": "2012-07-01",
          "issues": 443,
          "pull requests": 804
         },
         {
          "commits": 1883,
          "date": "2012-07-02",
          "issues": 444,
          "pull requests": 807
         },
         {
          "commits": 1884,
          "date": "2012-07-03",
          "issues": 445,
          "pull requests": 810
         },
         {
          "commits": 1887,
          "date": "2012-07-04",
          "issues": 446,
          "pull requests": 813
         },
         {
          "commits": 1894,
          "date": "2012-07-05",
          "issues": 449,
          "pull requests": 815
         },
         {
          "commits": 1896,
          "date": "2012-07-06",
          "issues": 449,
          "pull requests": 817
         },
         {
          "commits": 1904,
          "date": "2012-07-07",
          "issues": 449,
          "pull requests": 819
         },
         {
          "commits": 1905,
          "date": "2012-07-08",
          "issues": 451,
          "pull requests": 820
         },
         {
          "commits": 1906,
          "date": "2012-07-09",
          "issues": 452,
          "pull requests": 822
         },
         {
          "commits": 1907,
          "date": "2012-07-10",
          "issues": 453,
          "pull requests": 825
         },
         {
          "commits": 1916,
          "date": "2012-07-11",
          "issues": 455,
          "pull requests": 830
         },
         {
          "commits": 1920,
          "date": "2012-07-12",
          "issues": 456,
          "pull requests": 833
         },
         {
          "commits": 1925,
          "date": "2012-07-13",
          "issues": 456,
          "pull requests": 839
         },
         {
          "commits": 1928,
          "date": "2012-07-14",
          "issues": 456,
          "pull requests": 839
         },
         {
          "commits": 1928,
          "date": "2012-07-15",
          "issues": 456,
          "pull requests": 839
         },
         {
          "commits": 1934,
          "date": "2012-07-16",
          "issues": 460,
          "pull requests": 839
         },
         {
          "commits": 1942,
          "date": "2012-07-17",
          "issues": 461,
          "pull requests": 841
         },
         {
          "commits": 1949,
          "date": "2012-07-18",
          "issues": 461,
          "pull requests": 845
         },
         {
          "commits": 1950,
          "date": "2012-07-19",
          "issues": 461,
          "pull requests": 847
         },
         {
          "commits": 1950,
          "date": "2012-07-20",
          "issues": 462,
          "pull requests": 848
         },
         {
          "commits": 1950,
          "date": "2012-07-21",
          "issues": 463,
          "pull requests": 851
         },
         {
          "commits": 1952,
          "date": "2012-07-22",
          "issues": 463,
          "pull requests": 853
         },
         {
          "commits": 1955,
          "date": "2012-07-23",
          "issues": 466,
          "pull requests": 855
         },
         {
          "commits": 1956,
          "date": "2012-07-24",
          "issues": 467,
          "pull requests": 855
         },
         {
          "commits": 1958,
          "date": "2012-07-25",
          "issues": 467,
          "pull requests": 855
         },
         {
          "commits": 1968,
          "date": "2012-07-26",
          "issues": 467,
          "pull requests": 860
         },
         {
          "commits": 1970,
          "date": "2012-07-27",
          "issues": 467,
          "pull requests": 862
         },
         {
          "commits": 1971,
          "date": "2012-07-28",
          "issues": 467,
          "pull requests": 862
         },
         {
          "commits": 1971,
          "date": "2012-07-29",
          "issues": 467,
          "pull requests": 862
         },
         {
          "commits": 1971,
          "date": "2012-07-30",
          "issues": 467,
          "pull requests": 862
         },
         {
          "commits": 1971,
          "date": "2012-07-31",
          "issues": 467,
          "pull requests": 863
         },
         {
          "commits": 1976,
          "date": "2012-08-01",
          "issues": 468,
          "pull requests": 867
         },
         {
          "commits": 1978,
          "date": "2012-08-02",
          "issues": 468,
          "pull requests": 870
         },
         {
          "commits": 1980,
          "date": "2012-08-03",
          "issues": 468,
          "pull requests": 870
         },
         {
          "commits": 1980,
          "date": "2012-08-04",
          "issues": 468,
          "pull requests": 870
         },
         {
          "commits": 1980,
          "date": "2012-08-05",
          "issues": 468,
          "pull requests": 870
         },
         {
          "commits": 1981,
          "date": "2012-08-06",
          "issues": 472,
          "pull requests": 871
         },
         {
          "commits": 1988,
          "date": "2012-08-07",
          "issues": 473,
          "pull requests": 872
         },
         {
          "commits": 1988,
          "date": "2012-08-08",
          "issues": 475,
          "pull requests": 872
         },
         {
          "commits": 1990,
          "date": "2012-08-09",
          "issues": 478,
          "pull requests": 872
         },
         {
          "commits": 1990,
          "date": "2012-08-10",
          "issues": 478,
          "pull requests": 872
         },
         {
          "commits": 1990,
          "date": "2012-08-11",
          "issues": 478,
          "pull requests": 872
         },
         {
          "commits": 1991,
          "date": "2012-08-12",
          "issues": 479,
          "pull requests": 872
         },
         {
          "commits": 1993,
          "date": "2012-08-13",
          "issues": 480,
          "pull requests": 875
         },
         {
          "commits": 1995,
          "date": "2012-08-14",
          "issues": 481,
          "pull requests": 877
         },
         {
          "commits": 1995,
          "date": "2012-08-15",
          "issues": 481,
          "pull requests": 877
         },
         {
          "commits": 1995,
          "date": "2012-08-16",
          "issues": 482,
          "pull requests": 878
         },
         {
          "commits": 2000,
          "date": "2012-08-17",
          "issues": 483,
          "pull requests": 881
         },
         {
          "commits": 2001,
          "date": "2012-08-18",
          "issues": 483,
          "pull requests": 882
         },
         {
          "commits": 2001,
          "date": "2012-08-19",
          "issues": 483,
          "pull requests": 882
         },
         {
          "commits": 2011,
          "date": "2012-08-20",
          "issues": 484,
          "pull requests": 885
         },
         {
          "commits": 2017,
          "date": "2012-08-21",
          "issues": 486,
          "pull requests": 891
         },
         {
          "commits": 2025,
          "date": "2012-08-22",
          "issues": 487,
          "pull requests": 894
         },
         {
          "commits": 2041,
          "date": "2012-08-23",
          "issues": 491,
          "pull requests": 901
         },
         {
          "commits": 2048,
          "date": "2012-08-24",
          "issues": 496,
          "pull requests": 906
         },
         {
          "commits": 2053,
          "date": "2012-08-25",
          "issues": 496,
          "pull requests": 907
         },
         {
          "commits": 2054,
          "date": "2012-08-26",
          "issues": 497,
          "pull requests": 908
         },
         {
          "commits": 2064,
          "date": "2012-08-27",
          "issues": 498,
          "pull requests": 911
         },
         {
          "commits": 2070,
          "date": "2012-08-28",
          "issues": 502,
          "pull requests": 921
         },
         {
          "commits": 2082,
          "date": "2012-08-29",
          "issues": 504,
          "pull requests": 925
         },
         {
          "commits": 2084,
          "date": "2012-08-30",
          "issues": 505,
          "pull requests": 929
         },
         {
          "commits": 2086,
          "date": "2012-08-31",
          "issues": 509,
          "pull requests": 932
         },
         {
          "commits": 2091,
          "date": "2012-09-01",
          "issues": 510,
          "pull requests": 935
         },
         {
          "commits": 2094,
          "date": "2012-09-02",
          "issues": 512,
          "pull requests": 935
         },
         {
          "commits": 2097,
          "date": "2012-09-03",
          "issues": 512,
          "pull requests": 941
         },
         {
          "commits": 2097,
          "date": "2012-09-04",
          "issues": 513,
          "pull requests": 943
         },
         {
          "commits": 2102,
          "date": "2012-09-05",
          "issues": 514,
          "pull requests": 947
         },
         {
          "commits": 2109,
          "date": "2012-09-06",
          "issues": 514,
          "pull requests": 948
         },
         {
          "commits": 2114,
          "date": "2012-09-07",
          "issues": 515,
          "pull requests": 950
         },
         {
          "commits": 2119,
          "date": "2012-09-08",
          "issues": 516,
          "pull requests": 952
         },
         {
          "commits": 2126,
          "date": "2012-09-09",
          "issues": 518,
          "pull requests": 958
         },
         {
          "commits": 2129,
          "date": "2012-09-10",
          "issues": 519,
          "pull requests": 962
         },
         {
          "commits": 2131,
          "date": "2012-09-11",
          "issues": 520,
          "pull requests": 962
         },
         {
          "commits": 2135,
          "date": "2012-09-12",
          "issues": 521,
          "pull requests": 964
         },
         {
          "commits": 2135,
          "date": "2012-09-13",
          "issues": 521,
          "pull requests": 964
         },
         {
          "commits": 2135,
          "date": "2012-09-14",
          "issues": 521,
          "pull requests": 964
         },
         {
          "commits": 2137,
          "date": "2012-09-15",
          "issues": 521,
          "pull requests": 965
         },
         {
          "commits": 2137,
          "date": "2012-09-16",
          "issues": 521,
          "pull requests": 965
         },
         {
          "commits": 2138,
          "date": "2012-09-17",
          "issues": 521,
          "pull requests": 966
         },
         {
          "commits": 2144,
          "date": "2012-09-18",
          "issues": 523,
          "pull requests": 968
         },
         {
          "commits": 2144,
          "date": "2012-09-19",
          "issues": 523,
          "pull requests": 968
         },
         {
          "commits": 2147,
          "date": "2012-09-20",
          "issues": 526,
          "pull requests": 968
         },
         {
          "commits": 2153,
          "date": "2012-09-21",
          "issues": 530,
          "pull requests": 971
         },
         {
          "commits": 2159,
          "date": "2012-09-22",
          "issues": 531,
          "pull requests": 977
         },
         {
          "commits": 2161,
          "date": "2012-09-23",
          "issues": 532,
          "pull requests": 978
         },
         {
          "commits": 2161,
          "date": "2012-09-24",
          "issues": 532,
          "pull requests": 983
         },
         {
          "commits": 2166,
          "date": "2012-09-25",
          "issues": 534,
          "pull requests": 985
         },
         {
          "commits": 2167,
          "date": "2012-09-26",
          "issues": 534,
          "pull requests": 987
         },
         {
          "commits": 2169,
          "date": "2012-09-27",
          "issues": 537,
          "pull requests": 991
         },
         {
          "commits": 2172,
          "date": "2012-09-28",
          "issues": 539,
          "pull requests": 996
         },
         {
          "commits": 2177,
          "date": "2012-09-29",
          "issues": 540,
          "pull requests": 999
         },
         {
          "commits": 2179,
          "date": "2012-09-30",
          "issues": 541,
          "pull requests": 1003
         },
         {
          "commits": 2187,
          "date": "2012-10-01",
          "issues": 541,
          "pull requests": 1004
         },
         {
          "commits": 2187,
          "date": "2012-10-02",
          "issues": 545,
          "pull requests": 1007
         },
         {
          "commits": 2188,
          "date": "2012-10-03",
          "issues": 546,
          "pull requests": 1008
         },
         {
          "commits": 2196,
          "date": "2012-10-04",
          "issues": 546,
          "pull requests": 1013
         },
         {
          "commits": 2199,
          "date": "2012-10-05",
          "issues": 546,
          "pull requests": 1015
         },
         {
          "commits": 2199,
          "date": "2012-10-06",
          "issues": 546,
          "pull requests": 1015
         },
         {
          "commits": 2203,
          "date": "2012-10-07",
          "issues": 546,
          "pull requests": 1018
         },
         {
          "commits": 2208,
          "date": "2012-10-08",
          "issues": 546,
          "pull requests": 1021
         },
         {
          "commits": 2214,
          "date": "2012-10-09",
          "issues": 546,
          "pull requests": 1021
         },
         {
          "commits": 2214,
          "date": "2012-10-10",
          "issues": 546,
          "pull requests": 1021
         },
         {
          "commits": 2219,
          "date": "2012-10-11",
          "issues": 547,
          "pull requests": 1021
         },
         {
          "commits": 2222,
          "date": "2012-10-12",
          "issues": 548,
          "pull requests": 1026
         },
         {
          "commits": 2222,
          "date": "2012-10-13",
          "issues": 551,
          "pull requests": 1027
         },
         {
          "commits": 2224,
          "date": "2012-10-14",
          "issues": 552,
          "pull requests": 1029
         },
         {
          "commits": 2225,
          "date": "2012-10-15",
          "issues": 552,
          "pull requests": 1030
         },
         {
          "commits": 2225,
          "date": "2012-10-16",
          "issues": 552,
          "pull requests": 1030
         },
         {
          "commits": 2225,
          "date": "2012-10-17",
          "issues": 552,
          "pull requests": 1030
         },
         {
          "commits": 2225,
          "date": "2012-10-18",
          "issues": 552,
          "pull requests": 1030
         },
         {
          "commits": 2227,
          "date": "2012-10-19",
          "issues": 552,
          "pull requests": 1031
         },
         {
          "commits": 2256,
          "date": "2012-10-20",
          "issues": 552,
          "pull requests": 1031
         },
         {
          "commits": 2264,
          "date": "2012-10-21",
          "issues": 552,
          "pull requests": 1036
         },
         {
          "commits": 2269,
          "date": "2012-10-22",
          "issues": 555,
          "pull requests": 1038
         },
         {
          "commits": 2270,
          "date": "2012-10-23",
          "issues": 557,
          "pull requests": 1039
         },
         {
          "commits": 2274,
          "date": "2012-10-24",
          "issues": 557,
          "pull requests": 1043
         },
         {
          "commits": 2285,
          "date": "2012-10-25",
          "issues": 560,
          "pull requests": 1045
         },
         {
          "commits": 2285,
          "date": "2012-10-26",
          "issues": 560,
          "pull requests": 1045
         },
         {
          "commits": 2285,
          "date": "2012-10-27",
          "issues": 560,
          "pull requests": 1045
         },
         {
          "commits": 2287,
          "date": "2012-10-28",
          "issues": 562,
          "pull requests": 1047
         },
         {
          "commits": 2301,
          "date": "2012-10-29",
          "issues": 562,
          "pull requests": 1047
         },
         {
          "commits": 2302,
          "date": "2012-10-30",
          "issues": 564,
          "pull requests": 1047
         },
         {
          "commits": 2303,
          "date": "2012-10-31",
          "issues": 564,
          "pull requests": 1047
         },
         {
          "commits": 2307,
          "date": "2012-11-01",
          "issues": 564,
          "pull requests": 1049
         },
         {
          "commits": 2309,
          "date": "2012-11-02",
          "issues": 564,
          "pull requests": 1050
         },
         {
          "commits": 2311,
          "date": "2012-11-03",
          "issues": 565,
          "pull requests": 1051
         },
         {
          "commits": 2313,
          "date": "2012-11-04",
          "issues": 565,
          "pull requests": 1056
         },
         {
          "commits": 2316,
          "date": "2012-11-05",
          "issues": 566,
          "pull requests": 1062
         },
         {
          "commits": 2316,
          "date": "2012-11-06",
          "issues": 566,
          "pull requests": 1062
         },
         {
          "commits": 2316,
          "date": "2012-11-07",
          "issues": 566,
          "pull requests": 1062
         },
         {
          "commits": 2317,
          "date": "2012-11-08",
          "issues": 566,
          "pull requests": 1064
         },
         {
          "commits": 2325,
          "date": "2012-11-09",
          "issues": 568,
          "pull requests": 1066
         },
         {
          "commits": 2331,
          "date": "2012-11-10",
          "issues": 570,
          "pull requests": 1067
         },
         {
          "commits": 2338,
          "date": "2012-11-11",
          "issues": 571,
          "pull requests": 1070
         },
         {
          "commits": 2338,
          "date": "2012-11-12",
          "issues": 571,
          "pull requests": 1070
         },
         {
          "commits": 2344,
          "date": "2012-11-13",
          "issues": 572,
          "pull requests": 1073
         },
         {
          "commits": 2346,
          "date": "2012-11-14",
          "issues": 572,
          "pull requests": 1076
         },
         {
          "commits": 2350,
          "date": "2012-11-15",
          "issues": 573,
          "pull requests": 1078
         },
         {
          "commits": 2353,
          "date": "2012-11-16",
          "issues": 575,
          "pull requests": 1081
         },
         {
          "commits": 2355,
          "date": "2012-11-17",
          "issues": 575,
          "pull requests": 1082
         },
         {
          "commits": 2355,
          "date": "2012-11-18",
          "issues": 577,
          "pull requests": 1084
         },
         {
          "commits": 2355,
          "date": "2012-11-19",
          "issues": 577,
          "pull requests": 1084
         },
         {
          "commits": 2355,
          "date": "2012-11-20",
          "issues": 577,
          "pull requests": 1084
         },
         {
          "commits": 2357,
          "date": "2012-11-21",
          "issues": 577,
          "pull requests": 1086
         },
         {
          "commits": 2360,
          "date": "2012-11-22",
          "issues": 577,
          "pull requests": 1087
         },
         {
          "commits": 2360,
          "date": "2012-11-23",
          "issues": 577,
          "pull requests": 1087
         },
         {
          "commits": 2362,
          "date": "2012-11-24",
          "issues": 577,
          "pull requests": 1088
         },
         {
          "commits": 2363,
          "date": "2012-11-25",
          "issues": 578,
          "pull requests": 1088
         },
         {
          "commits": 2364,
          "date": "2012-11-26",
          "issues": 584,
          "pull requests": 1090
         },
         {
          "commits": 2366,
          "date": "2012-11-27",
          "issues": 585,
          "pull requests": 1093
         },
         {
          "commits": 2367,
          "date": "2012-11-28",
          "issues": 586,
          "pull requests": 1095
         },
         {
          "commits": 2369,
          "date": "2012-11-29",
          "issues": 589,
          "pull requests": 1095
         },
         {
          "commits": 2371,
          "date": "2012-11-30",
          "issues": 590,
          "pull requests": 1097
         },
         {
          "commits": 2374,
          "date": "2012-12-01",
          "issues": 590,
          "pull requests": 1100
         },
         {
          "commits": 2375,
          "date": "2012-12-02",
          "issues": 590,
          "pull requests": 1103
         },
         {
          "commits": 2380,
          "date": "2012-12-03",
          "issues": 590,
          "pull requests": 1107
         },
         {
          "commits": 2382,
          "date": "2012-12-04",
          "issues": 592,
          "pull requests": 1113
         },
         {
          "commits": 2386,
          "date": "2012-12-05",
          "issues": 594,
          "pull requests": 1114
         },
         {
          "commits": 2391,
          "date": "2012-12-06",
          "issues": 595,
          "pull requests": 1115
         },
         {
          "commits": 2393,
          "date": "2012-12-07",
          "issues": 597,
          "pull requests": 1115
         },
         {
          "commits": 2393,
          "date": "2012-12-08",
          "issues": 597,
          "pull requests": 1115
         },
         {
          "commits": 2393,
          "date": "2012-12-09",
          "issues": 597,
          "pull requests": 1115
         },
         {
          "commits": 2394,
          "date": "2012-12-10",
          "issues": 598,
          "pull requests": 1117
         },
         {
          "commits": 2394,
          "date": "2012-12-11",
          "issues": 598,
          "pull requests": 1117
         },
         {
          "commits": 2410,
          "date": "2012-12-12",
          "issues": 598,
          "pull requests": 1123
         },
         {
          "commits": 2414,
          "date": "2012-12-13",
          "issues": 599,
          "pull requests": 1128
         },
         {
          "commits": 2415,
          "date": "2012-12-14",
          "issues": 600,
          "pull requests": 1128
         },
         {
          "commits": 2415,
          "date": "2012-12-15",
          "issues": 600,
          "pull requests": 1130
         },
         {
          "commits": 2417,
          "date": "2012-12-16",
          "issues": 601,
          "pull requests": 1130
         },
         {
          "commits": 2418,
          "date": "2012-12-17",
          "issues": 601,
          "pull requests": 1131
         },
         {
          "commits": 2420,
          "date": "2012-12-18",
          "issues": 601,
          "pull requests": 1132
         },
         {
          "commits": 2423,
          "date": "2012-12-19",
          "issues": 601,
          "pull requests": 1134
         },
         {
          "commits": 2424,
          "date": "2012-12-20",
          "issues": 603,
          "pull requests": 1136
         },
         {
          "commits": 2425,
          "date": "2012-12-21",
          "issues": 604,
          "pull requests": 1137
         },
         {
          "commits": 2426,
          "date": "2012-12-22",
          "issues": 604,
          "pull requests": 1138
         },
         {
          "commits": 2426,
          "date": "2012-12-23",
          "issues": 604,
          "pull requests": 1138
         },
         {
          "commits": 2426,
          "date": "2012-12-24",
          "issues": 604,
          "pull requests": 1138
         },
         {
          "commits": 2426,
          "date": "2012-12-25",
          "issues": 604,
          "pull requests": 1138
         },
         {
          "commits": 2427,
          "date": "2012-12-26",
          "issues": 604,
          "pull requests": 1142
         },
         {
          "commits": 2427,
          "date": "2012-12-27",
          "issues": 604,
          "pull requests": 1142
         },
         {
          "commits": 2427,
          "date": "2012-12-28",
          "issues": 606,
          "pull requests": 1143
         },
         {
          "commits": 2427,
          "date": "2012-12-29",
          "issues": 606,
          "pull requests": 1143
         },
         {
          "commits": 2427,
          "date": "2012-12-30",
          "issues": 606,
          "pull requests": 1143
         },
         {
          "commits": 2428,
          "date": "2012-12-31",
          "issues": 609,
          "pull requests": 1143
         },
         {
          "commits": 2430,
          "date": "2013-01-01",
          "issues": 609,
          "pull requests": 1145
         },
         {
          "commits": 2430,
          "date": "2013-01-02",
          "issues": 609,
          "pull requests": 1146
         },
         {
          "commits": 2432,
          "date": "2013-01-03",
          "issues": 611,
          "pull requests": 1149
         },
         {
          "commits": 2435,
          "date": "2013-01-04",
          "issues": 611,
          "pull requests": 1150
         },
         {
          "commits": 2439,
          "date": "2013-01-05",
          "issues": 611,
          "pull requests": 1151
         },
         {
          "commits": 2443,
          "date": "2013-01-06",
          "issues": 611,
          "pull requests": 1153
         },
         {
          "commits": 2443,
          "date": "2013-01-07",
          "issues": 611,
          "pull requests": 1153
         },
         {
          "commits": 2448,
          "date": "2013-01-08",
          "issues": 612,
          "pull requests": 1154
         },
         {
          "commits": 2450,
          "date": "2013-01-09",
          "issues": 612,
          "pull requests": 1159
         },
         {
          "commits": 2451,
          "date": "2013-01-10",
          "issues": 613,
          "pull requests": 1162
         },
         {
          "commits": 2453,
          "date": "2013-01-11",
          "issues": 614,
          "pull requests": 1166
         },
         {
          "commits": 2453,
          "date": "2013-01-12",
          "issues": 614,
          "pull requests": 1166
         },
         {
          "commits": 2454,
          "date": "2013-01-13",
          "issues": 614,
          "pull requests": 1167
         },
         {
          "commits": 2463,
          "date": "2013-01-14",
          "issues": 618,
          "pull requests": 1171
         },
         {
          "commits": 2465,
          "date": "2013-01-15",
          "issues": 618,
          "pull requests": 1171
         },
         {
          "commits": 2483,
          "date": "2013-01-16",
          "issues": 619,
          "pull requests": 1172
         },
         {
          "commits": 2484,
          "date": "2013-01-17",
          "issues": 619,
          "pull requests": 1172
         },
         {
          "commits": 2493,
          "date": "2013-01-18",
          "issues": 621,
          "pull requests": 1176
         },
         {
          "commits": 2496,
          "date": "2013-01-19",
          "issues": 622,
          "pull requests": 1177
         },
         {
          "commits": 2497,
          "date": "2013-01-20",
          "issues": 622,
          "pull requests": 1179
         },
         {
          "commits": 2500,
          "date": "2013-01-21",
          "issues": 622,
          "pull requests": 1179
         },
         {
          "commits": 2501,
          "date": "2013-01-22",
          "issues": 628,
          "pull requests": 1182
         },
         {
          "commits": 2515,
          "date": "2013-01-23",
          "issues": 631,
          "pull requests": 1187
         },
         {
          "commits": 2517,
          "date": "2013-01-24",
          "issues": 632,
          "pull requests": 1188
         },
         {
          "commits": 2519,
          "date": "2013-01-25",
          "issues": 634,
          "pull requests": 1189
         },
         {
          "commits": 2525,
          "date": "2013-01-26",
          "issues": 636,
          "pull requests": 1194
         },
         {
          "commits": 2530,
          "date": "2013-01-27",
          "issues": 639,
          "pull requests": 1197
         },
         {
          "commits": 2534,
          "date": "2013-01-28",
          "issues": 640,
          "pull requests": 1198
         },
         {
          "commits": 2535,
          "date": "2013-01-29",
          "issues": 642,
          "pull requests": 1199
         },
         {
          "commits": 2557,
          "date": "2013-01-30",
          "issues": 645,
          "pull requests": 1209
         },
         {
          "commits": 2559,
          "date": "2013-01-31",
          "issues": 646,
          "pull requests": 1213
         },
         {
          "commits": 2564,
          "date": "2013-02-01",
          "issues": 649,
          "pull requests": 1218
         },
         {
          "commits": 2565,
          "date": "2013-02-02",
          "issues": 650,
          "pull requests": 1219
         },
         {
          "commits": 2565,
          "date": "2013-02-03",
          "issues": 650,
          "pull requests": 1219
         },
         {
          "commits": 2566,
          "date": "2013-02-04",
          "issues": 654,
          "pull requests": 1221
         },
         {
          "commits": 2571,
          "date": "2013-02-05",
          "issues": 655,
          "pull requests": 1223
         },
         {
          "commits": 2576,
          "date": "2013-02-06",
          "issues": 657,
          "pull requests": 1226
         },
         {
          "commits": 2577,
          "date": "2013-02-07",
          "issues": 659,
          "pull requests": 1227
         },
         {
          "commits": 2577,
          "date": "2013-02-08",
          "issues": 659,
          "pull requests": 1227
         },
         {
          "commits": 2578,
          "date": "2013-02-09",
          "issues": 662,
          "pull requests": 1229
         },
         {
          "commits": 2581,
          "date": "2013-02-10",
          "issues": 664,
          "pull requests": 1231
         },
         {
          "commits": 2581,
          "date": "2013-02-11",
          "issues": 665,
          "pull requests": 1231
         },
         {
          "commits": 2583,
          "date": "2013-02-12",
          "issues": 668,
          "pull requests": 1232
         },
         {
          "commits": 2583,
          "date": "2013-02-13",
          "issues": 668,
          "pull requests": 1232
         },
         {
          "commits": 2584,
          "date": "2013-02-14",
          "issues": 669,
          "pull requests": 1235
         },
         {
          "commits": 2584,
          "date": "2013-02-15",
          "issues": 669,
          "pull requests": 1235
         },
         {
          "commits": 2592,
          "date": "2013-02-16",
          "issues": 670,
          "pull requests": 1237
         },
         {
          "commits": 2594,
          "date": "2013-02-17",
          "issues": 671,
          "pull requests": 1237
         },
         {
          "commits": 2598,
          "date": "2013-02-18",
          "issues": 671,
          "pull requests": 1237
         },
         {
          "commits": 2600,
          "date": "2013-02-19",
          "issues": 673,
          "pull requests": 1237
         },
         {
          "commits": 2602,
          "date": "2013-02-20",
          "issues": 679,
          "pull requests": 1237
         },
         {
          "commits": 2602,
          "date": "2013-02-21",
          "issues": 679,
          "pull requests": 1237
         },
         {
          "commits": 2611,
          "date": "2013-02-22",
          "issues": 680,
          "pull requests": 1237
         },
         {
          "commits": 2611,
          "date": "2013-02-23",
          "issues": 680,
          "pull requests": 1237
         },
         {
          "commits": 2615,
          "date": "2013-02-24",
          "issues": 681,
          "pull requests": 1239
         },
         {
          "commits": 2616,
          "date": "2013-02-25",
          "issues": 681,
          "pull requests": 1240
         },
         {
          "commits": 2617,
          "date": "2013-02-26",
          "issues": 681,
          "pull requests": 1240
         },
         {
          "commits": 2617,
          "date": "2013-02-27",
          "issues": 681,
          "pull requests": 1240
         },
         {
          "commits": 2618,
          "date": "2013-02-28",
          "issues": 681,
          "pull requests": 1240
         },
         {
          "commits": 2621,
          "date": "2013-03-01",
          "issues": 681,
          "pull requests": 1241
         },
         {
          "commits": 2621,
          "date": "2013-03-02",
          "issues": 681,
          "pull requests": 1241
         },
         {
          "commits": 2621,
          "date": "2013-03-03",
          "issues": 681,
          "pull requests": 1241
         },
         {
          "commits": 2621,
          "date": "2013-03-04",
          "issues": 681,
          "pull requests": 1241
         },
         {
          "commits": 2621,
          "date": "2013-03-05",
          "issues": 681,
          "pull requests": 1241
         },
         {
          "commits": 2621,
          "date": "2013-03-06",
          "issues": 681,
          "pull requests": 1241
         },
         {
          "commits": 2623,
          "date": "2013-03-07",
          "issues": 681,
          "pull requests": 1242
         },
         {
          "commits": 2623,
          "date": "2013-03-08",
          "issues": 681,
          "pull requests": 1242
         },
         {
          "commits": 2624,
          "date": "2013-03-09",
          "issues": 681,
          "pull requests": 1243
         },
         {
          "commits": 2624,
          "date": "2013-03-10",
          "issues": 681,
          "pull requests": 1243
         },
         {
          "commits": 2627,
          "date": "2013-03-11",
          "issues": 683,
          "pull requests": 1244
         },
         {
          "commits": 2627,
          "date": "2013-03-12",
          "issues": 683,
          "pull requests": 1244
         },
         {
          "commits": 2627,
          "date": "2013-03-13",
          "issues": 685,
          "pull requests": 1246
         },
         {
          "commits": 2627,
          "date": "2013-03-14",
          "issues": 685,
          "pull requests": 1246
         },
         {
          "commits": 2627,
          "date": "2013-03-15",
          "issues": 685,
          "pull requests": 1246
         },
         {
          "commits": 2627,
          "date": "2013-03-16",
          "issues": 685,
          "pull requests": 1246
         },
         {
          "commits": 2627,
          "date": "2013-03-17",
          "issues": 687,
          "pull requests": 1247
         },
         {
          "commits": 2632,
          "date": "2013-03-18",
          "issues": 690,
          "pull requests": 1250
         },
         {
          "commits": 2641,
          "date": "2013-03-19",
          "issues": 690,
          "pull requests": 1254
         },
         {
          "commits": 2641,
          "date": "2013-03-20",
          "issues": 690,
          "pull requests": 1254
         },
         {
          "commits": 2643,
          "date": "2013-03-21",
          "issues": 694,
          "pull requests": 1254
         },
         {
          "commits": 2646,
          "date": "2013-03-22",
          "issues": 696,
          "pull requests": 1255
         },
         {
          "commits": 2650,
          "date": "2013-03-23",
          "issues": 698,
          "pull requests": 1257
         },
         {
          "commits": 2652,
          "date": "2013-03-24",
          "issues": 699,
          "pull requests": 1261
         },
         {
          "commits": 2654,
          "date": "2013-03-25",
          "issues": 699,
          "pull requests": 1261
         },
         {
          "commits": 2654,
          "date": "2013-03-26",
          "issues": 699,
          "pull requests": 1261
         },
         {
          "commits": 2654,
          "date": "2013-03-27",
          "issues": 699,
          "pull requests": 1261
         },
         {
          "commits": 2655,
          "date": "2013-03-28",
          "issues": 701,
          "pull requests": 1263
         },
         {
          "commits": 2665,
          "date": "2013-03-29",
          "issues": 704,
          "pull requests": 1269
         },
         {
          "commits": 2666,
          "date": "2013-03-30",
          "issues": 705,
          "pull requests": 1269
         },
         {
          "commits": 2672,
          "date": "2013-03-31",
          "issues": 705,
          "pull requests": 1273
         },
         {
          "commits": 2678,
          "date": "2013-04-01",
          "issues": 710,
          "pull requests": 1275
         },
         {
          "commits": 2688,
          "date": "2013-04-02",
          "issues": 712,
          "pull requests": 1280
         },
         {
          "commits": 2698,
          "date": "2013-04-03",
          "issues": 713,
          "pull requests": 1283
         },
         {
          "commits": 2707,
          "date": "2013-04-04",
          "issues": 714,
          "pull requests": 1290
         },
         {
          "commits": 2714,
          "date": "2013-04-05",
          "issues": 718,
          "pull requests": 1292
         },
         {
          "commits": 2719,
          "date": "2013-04-06",
          "issues": 724,
          "pull requests": 1296
         },
         {
          "commits": 2725,
          "date": "2013-04-07",
          "issues": 727,
          "pull requests": 1301
         },
         {
          "commits": 2732,
          "date": "2013-04-08",
          "issues": 729,
          "pull requests": 1302
         },
         {
          "commits": 2741,
          "date": "2013-04-09",
          "issues": 732,
          "pull requests": 1309
         },
         {
          "commits": 2743,
          "date": "2013-04-10",
          "issues": 733,
          "pull requests": 1312
         },
         {
          "commits": 2748,
          "date": "2013-04-11",
          "issues": 739,
          "pull requests": 1313
         },
         {
          "commits": 2753,
          "date": "2013-04-12",
          "issues": 739,
          "pull requests": 1315
         },
         {
          "commits": 2756,
          "date": "2013-04-13",
          "issues": 743,
          "pull requests": 1316
         },
         {
          "commits": 2759,
          "date": "2013-04-14",
          "issues": 746,
          "pull requests": 1321
         },
         {
          "commits": 2762,
          "date": "2013-04-15",
          "issues": 748,
          "pull requests": 1322
         },
         {
          "commits": 2762,
          "date": "2013-04-16",
          "issues": 748,
          "pull requests": 1322
         },
         {
          "commits": 2766,
          "date": "2013-04-17",
          "issues": 748,
          "pull requests": 1324
         },
         {
          "commits": 2770,
          "date": "2013-04-18",
          "issues": 748,
          "pull requests": 1326
         },
         {
          "commits": 2771,
          "date": "2013-04-19",
          "issues": 748,
          "pull requests": 1327
         },
         {
          "commits": 2771,
          "date": "2013-04-20",
          "issues": 748,
          "pull requests": 1327
         },
         {
          "commits": 2771,
          "date": "2013-04-21",
          "issues": 748,
          "pull requests": 1327
         },
         {
          "commits": 2773,
          "date": "2013-04-22",
          "issues": 753,
          "pull requests": 1328
         },
         {
          "commits": 2781,
          "date": "2013-04-23",
          "issues": 755,
          "pull requests": 1332
         },
         {
          "commits": 2785,
          "date": "2013-04-24",
          "issues": 758,
          "pull requests": 1333
         },
         {
          "commits": 2788,
          "date": "2013-04-25",
          "issues": 760,
          "pull requests": 1338
         },
         {
          "commits": 2792,
          "date": "2013-04-26",
          "issues": 764,
          "pull requests": 1344
         },
         {
          "commits": 2801,
          "date": "2013-04-27",
          "issues": 766,
          "pull requests": 1348
         },
         {
          "commits": 2805,
          "date": "2013-04-28",
          "issues": 767,
          "pull requests": 1351
         },
         {
          "commits": 2811,
          "date": "2013-04-29",
          "issues": 768,
          "pull requests": 1353
         },
         {
          "commits": 2813,
          "date": "2013-04-30",
          "issues": 771,
          "pull requests": 1356
         },
         {
          "commits": 2816,
          "date": "2013-05-01",
          "issues": 771,
          "pull requests": 1361
         },
         {
          "commits": 2820,
          "date": "2013-05-02",
          "issues": 772,
          "pull requests": 1365
         },
         {
          "commits": 2835,
          "date": "2013-05-03",
          "issues": 773,
          "pull requests": 1369
         },
         {
          "commits": 2841,
          "date": "2013-05-04",
          "issues": 773,
          "pull requests": 1371
         },
         {
          "commits": 2841,
          "date": "2013-05-05",
          "issues": 774,
          "pull requests": 1374
         },
         {
          "commits": 2842,
          "date": "2013-05-06",
          "issues": 774,
          "pull requests": 1375
         },
         {
          "commits": 2846,
          "date": "2013-05-07",
          "issues": 777,
          "pull requests": 1378
         },
         {
          "commits": 2848,
          "date": "2013-05-08",
          "issues": 778,
          "pull requests": 1381
         },
         {
          "commits": 2849,
          "date": "2013-05-09",
          "issues": 779,
          "pull requests": 1383
         },
         {
          "commits": 2853,
          "date": "2013-05-10",
          "issues": 780,
          "pull requests": 1385
         },
         {
          "commits": 2853,
          "date": "2013-05-11",
          "issues": 780,
          "pull requests": 1385
         },
         {
          "commits": 2855,
          "date": "2013-05-12",
          "issues": 783,
          "pull requests": 1389
         },
         {
          "commits": 2857,
          "date": "2013-05-13",
          "issues": 784,
          "pull requests": 1394
         },
         {
          "commits": 2857,
          "date": "2013-05-14",
          "issues": 784,
          "pull requests": 1394
         },
         {
          "commits": 2857,
          "date": "2013-05-15",
          "issues": 784,
          "pull requests": 1394
         },
         {
          "commits": 2858,
          "date": "2013-05-16",
          "issues": 785,
          "pull requests": 1395
         },
         {
          "commits": 2858,
          "date": "2013-05-17",
          "issues": 785,
          "pull requests": 1395
         },
         {
          "commits": 2858,
          "date": "2013-05-18",
          "issues": 785,
          "pull requests": 1395
         },
         {
          "commits": 2861,
          "date": "2013-05-19",
          "issues": 786,
          "pull requests": 1398
         },
         {
          "commits": 2863,
          "date": "2013-05-20",
          "issues": 789,
          "pull requests": 1398
         },
         {
          "commits": 2865,
          "date": "2013-05-21",
          "issues": 789,
          "pull requests": 1401
         },
         {
          "commits": 2876,
          "date": "2013-05-22",
          "issues": 789,
          "pull requests": 1404
         },
         {
          "commits": 2877,
          "date": "2013-05-23",
          "issues": 794,
          "pull requests": 1406
         },
         {
          "commits": 2885,
          "date": "2013-05-24",
          "issues": 797,
          "pull requests": 1407
         },
         {
          "commits": 2886,
          "date": "2013-05-25",
          "issues": 798,
          "pull requests": 1410
         },
         {
          "commits": 2886,
          "date": "2013-05-26",
          "issues": 798,
          "pull requests": 1410
         },
         {
          "commits": 2886,
          "date": "2013-05-27",
          "issues": 798,
          "pull requests": 1410
         },
         {
          "commits": 2886,
          "date": "2013-05-28",
          "issues": 798,
          "pull requests": 1410
         },
         {
          "commits": 2887,
          "date": "2013-05-29",
          "issues": 805,
          "pull requests": 1412
         },
         {
          "commits": 2899,
          "date": "2013-05-30",
          "issues": 809,
          "pull requests": 1414
         },
         {
          "commits": 2901,
          "date": "2013-05-31",
          "issues": 811,
          "pull requests": 1416
         },
         {
          "commits": 2902,
          "date": "2013-06-01",
          "issues": 814,
          "pull requests": 1416
         },
         {
          "commits": 2907,
          "date": "2013-06-02",
          "issues": 815,
          "pull requests": 1417
         },
         {
          "commits": 2912,
          "date": "2013-06-03",
          "issues": 817,
          "pull requests": 1419
         },
         {
          "commits": 2912,
          "date": "2013-06-04",
          "issues": 820,
          "pull requests": 1421
         },
         {
          "commits": 2914,
          "date": "2013-06-05",
          "issues": 823,
          "pull requests": 1423
         },
         {
          "commits": 2926,
          "date": "2013-06-06",
          "issues": 824,
          "pull requests": 1424
         },
         {
          "commits": 2929,
          "date": "2013-06-07",
          "issues": 827,
          "pull requests": 1428
         },
         {
          "commits": 2930,
          "date": "2013-06-08",
          "issues": 828,
          "pull requests": 1429
         },
         {
          "commits": 2932,
          "date": "2013-06-09",
          "issues": 828,
          "pull requests": 1429
         },
         {
          "commits": 2933,
          "date": "2013-06-10",
          "issues": 829,
          "pull requests": 1429
         },
         {
          "commits": 2935,
          "date": "2013-06-11",
          "issues": 831,
          "pull requests": 1433
         },
         {
          "commits": 2936,
          "date": "2013-06-12",
          "issues": 832,
          "pull requests": 1434
         },
         {
          "commits": 2937,
          "date": "2013-06-13",
          "issues": 832,
          "pull requests": 1434
         },
         {
          "commits": 2939,
          "date": "2013-06-14",
          "issues": 832,
          "pull requests": 1438
         },
         {
          "commits": 2942,
          "date": "2013-06-15",
          "issues": 834,
          "pull requests": 1439
         },
         {
          "commits": 2944,
          "date": "2013-06-16",
          "issues": 834,
          "pull requests": 1439
         },
         {
          "commits": 2945,
          "date": "2013-06-17",
          "issues": 836,
          "pull requests": 1439
         },
         {
          "commits": 2945,
          "date": "2013-06-18",
          "issues": 836,
          "pull requests": 1441
         },
         {
          "commits": 2946,
          "date": "2013-06-19",
          "issues": 839,
          "pull requests": 1443
         },
         {
          "commits": 2946,
          "date": "2013-06-20",
          "issues": 839,
          "pull requests": 1443
         },
         {
          "commits": 2946,
          "date": "2013-06-21",
          "issues": 839,
          "pull requests": 1443
         },
         {
          "commits": 2955,
          "date": "2013-06-22",
          "issues": 839,
          "pull requests": 1445
         },
         {
          "commits": 2959,
          "date": "2013-06-23",
          "issues": 840,
          "pull requests": 1448
         },
         {
          "commits": 2972,
          "date": "2013-06-24",
          "issues": 841,
          "pull requests": 1449
         },
         {
          "commits": 2978,
          "date": "2013-06-25",
          "issues": 841,
          "pull requests": 1455
         },
         {
          "commits": 2980,
          "date": "2013-06-26",
          "issues": 841,
          "pull requests": 1457
         },
         {
          "commits": 2982,
          "date": "2013-06-27",
          "issues": 842,
          "pull requests": 1459
         },
         {
          "commits": 2982,
          "date": "2013-06-28",
          "issues": 842,
          "pull requests": 1459
         },
         {
          "commits": 2984,
          "date": "2013-06-29",
          "issues": 842,
          "pull requests": 1461
         },
         {
          "commits": 2984,
          "date": "2013-06-30",
          "issues": 842,
          "pull requests": 1461
         },
         {
          "commits": 2986,
          "date": "2013-07-01",
          "issues": 843,
          "pull requests": 1464
         },
         {
          "commits": 2987,
          "date": "2013-07-02",
          "issues": 844,
          "pull requests": 1464
         },
         {
          "commits": 2987,
          "date": "2013-07-03",
          "issues": 846,
          "pull requests": 1465
         },
         {
          "commits": 2987,
          "date": "2013-07-04",
          "issues": 846,
          "pull requests": 1466
         },
         {
          "commits": 2987,
          "date": "2013-07-05",
          "issues": 846,
          "pull requests": 1466
         },
         {
          "commits": 2987,
          "date": "2013-07-06",
          "issues": 846,
          "pull requests": 1466
         },
         {
          "commits": 2991,
          "date": "2013-07-07",
          "issues": 846,
          "pull requests": 1469
         },
         {
          "commits": 2992,
          "date": "2013-07-08",
          "issues": 846,
          "pull requests": 1469
         },
         {
          "commits": 2993,
          "date": "2013-07-09",
          "issues": 847,
          "pull requests": 1469
         },
         {
          "commits": 2996,
          "date": "2013-07-10",
          "issues": 848,
          "pull requests": 1470
         },
         {
          "commits": 2996,
          "date": "2013-07-11",
          "issues": 848,
          "pull requests": 1470
         },
         {
          "commits": 2996,
          "date": "2013-07-12",
          "issues": 848,
          "pull requests": 1470
         },
         {
          "commits": 2997,
          "date": "2013-07-13",
          "issues": 848,
          "pull requests": 1474
         },
         {
          "commits": 3000,
          "date": "2013-07-14",
          "issues": 848,
          "pull requests": 1475
         },
         {
          "commits": 3001,
          "date": "2013-07-15",
          "issues": 849,
          "pull requests": 1476
         },
         {
          "commits": 3001,
          "date": "2013-07-16",
          "issues": 849,
          "pull requests": 1476
         },
         {
          "commits": 3009,
          "date": "2013-07-17",
          "issues": 849,
          "pull requests": 1477
         },
         {
          "commits": 3009,
          "date": "2013-07-18",
          "issues": 849,
          "pull requests": 1477
         },
         {
          "commits": 3010,
          "date": "2013-07-19",
          "issues": 849,
          "pull requests": 1479
         },
         {
          "commits": 3010,
          "date": "2013-07-20",
          "issues": 849,
          "pull requests": 1479
         },
         {
          "commits": 3011,
          "date": "2013-07-21",
          "issues": 849,
          "pull requests": 1480
         },
         {
          "commits": 3014,
          "date": "2013-07-22",
          "issues": 850,
          "pull requests": 1481
         },
         {
          "commits": 3019,
          "date": "2013-07-23",
          "issues": 851,
          "pull requests": 1486
         },
         {
          "commits": 3020,
          "date": "2013-07-24",
          "issues": 854,
          "pull requests": 1489
         },
         {
          "commits": 3021,
          "date": "2013-07-25",
          "issues": 856,
          "pull requests": 1490
         },
         {
          "commits": 3023,
          "date": "2013-07-26",
          "issues": 856,
          "pull requests": 1490
         },
         {
          "commits": 3025,
          "date": "2013-07-27",
          "issues": 857,
          "pull requests": 1490
         },
         {
          "commits": 3026,
          "date": "2013-07-28",
          "issues": 857,
          "pull requests": 1490
         },
         {
          "commits": 3028,
          "date": "2013-07-29",
          "issues": 857,
          "pull requests": 1492
         },
         {
          "commits": 3028,
          "date": "2013-07-30",
          "issues": 857,
          "pull requests": 1492
         },
         {
          "commits": 3029,
          "date": "2013-07-31",
          "issues": 858,
          "pull requests": 1495
         },
         {
          "commits": 3030,
          "date": "2013-08-01",
          "issues": 859,
          "pull requests": 1495
         },
         {
          "commits": 3032,
          "date": "2013-08-02",
          "issues": 859,
          "pull requests": 1498
         },
         {
          "commits": 3032,
          "date": "2013-08-03",
          "issues": 859,
          "pull requests": 1498
         },
         {
          "commits": 3032,
          "date": "2013-08-04",
          "issues": 859,
          "pull requests": 1498
         },
         {
          "commits": 3040,
          "date": "2013-08-05",
          "issues": 860,
          "pull requests": 1499
         },
         {
          "commits": 3044,
          "date": "2013-08-06",
          "issues": 860,
          "pull requests": 1501
         },
         {
          "commits": 3047,
          "date": "2013-08-07",
          "issues": 860,
          "pull requests": 1502
         },
         {
          "commits": 3049,
          "date": "2013-08-08",
          "issues": 861,
          "pull requests": 1504
         },
         {
          "commits": 3050,
          "date": "2013-08-09",
          "issues": 862,
          "pull requests": 1505
         },
         {
          "commits": 3051,
          "date": "2013-08-10",
          "issues": 862,
          "pull requests": 1506
         },
         {
          "commits": 3051,
          "date": "2013-08-11",
          "issues": 862,
          "pull requests": 1506
         },
         {
          "commits": 3055,
          "date": "2013-08-12",
          "issues": 862,
          "pull requests": 1507
         },
         {
          "commits": 3056,
          "date": "2013-08-13",
          "issues": 863,
          "pull requests": 1507
         },
         {
          "commits": 3056,
          "date": "2013-08-14",
          "issues": 863,
          "pull requests": 1507
         },
         {
          "commits": 3065,
          "date": "2013-08-15",
          "issues": 863,
          "pull requests": 1513
         },
         {
          "commits": 3071,
          "date": "2013-08-16",
          "issues": 863,
          "pull requests": 1515
         },
         {
          "commits": 3073,
          "date": "2013-08-17",
          "issues": 863,
          "pull requests": 1517
         },
         {
          "commits": 3074,
          "date": "2013-08-18",
          "issues": 863,
          "pull requests": 1518
         },
         {
          "commits": 3074,
          "date": "2013-08-19",
          "issues": 865,
          "pull requests": 1520
         },
         {
          "commits": 3082,
          "date": "2013-08-20",
          "issues": 865,
          "pull requests": 1525
         },
         {
          "commits": 3085,
          "date": "2013-08-21",
          "issues": 865,
          "pull requests": 1529
         },
         {
          "commits": 3094,
          "date": "2013-08-22",
          "issues": 865,
          "pull requests": 1531
         },
         {
          "commits": 3097,
          "date": "2013-08-23",
          "issues": 867,
          "pull requests": 1531
         },
         {
          "commits": 3101,
          "date": "2013-08-24",
          "issues": 868,
          "pull requests": 1536
         },
         {
          "commits": 3103,
          "date": "2013-08-25",
          "issues": 870,
          "pull requests": 1540
         },
         {
          "commits": 3104,
          "date": "2013-08-26",
          "issues": 871,
          "pull requests": 1540
         },
         {
          "commits": 3104,
          "date": "2013-08-27",
          "issues": 871,
          "pull requests": 1540
         },
         {
          "commits": 3109,
          "date": "2013-08-28",
          "issues": 871,
          "pull requests": 1546
         },
         {
          "commits": 3114,
          "date": "2013-08-29",
          "issues": 872,
          "pull requests": 1549
         },
         {
          "commits": 3121,
          "date": "2013-08-30",
          "issues": 875,
          "pull requests": 1553
         },
         {
          "commits": 3122,
          "date": "2013-08-31",
          "issues": 875,
          "pull requests": 1555
         },
         {
          "commits": 3122,
          "date": "2013-09-01",
          "issues": 875,
          "pull requests": 1555
         },
         {
          "commits": 3126,
          "date": "2013-09-02",
          "issues": 875,
          "pull requests": 1555
         },
         {
          "commits": 3127,
          "date": "2013-09-03",
          "issues": 875,
          "pull requests": 1555
         },
         {
          "commits": 3129,
          "date": "2013-09-04",
          "issues": 878,
          "pull requests": 1560
         },
         {
          "commits": 3131,
          "date": "2013-09-05",
          "issues": 878,
          "pull requests": 1562
         },
         {
          "commits": 3136,
          "date": "2013-09-06",
          "issues": 878,
          "pull requests": 1562
         },
         {
          "commits": 3136,
          "date": "2013-09-07",
          "issues": 878,
          "pull requests": 1562
         },
         {
          "commits": 3138,
          "date": "2013-09-08",
          "issues": 878,
          "pull requests": 1564
         },
         {
          "commits": 3142,
          "date": "2013-09-09",
          "issues": 879,
          "pull requests": 1565
         },
         {
          "commits": 3148,
          "date": "2013-09-10",
          "issues": 880,
          "pull requests": 1566
         },
         {
          "commits": 3149,
          "date": "2013-09-11",
          "issues": 880,
          "pull requests": 1569
         },
         {
          "commits": 3149,
          "date": "2013-09-12",
          "issues": 880,
          "pull requests": 1569
         },
         {
          "commits": 3153,
          "date": "2013-09-13",
          "issues": 883,
          "pull requests": 1570
         },
         {
          "commits": 3159,
          "date": "2013-09-14",
          "issues": 883,
          "pull requests": 1573
         },
         {
          "commits": 3159,
          "date": "2013-09-15",
          "issues": 883,
          "pull requests": 1573
         },
         {
          "commits": 3164,
          "date": "2013-09-16",
          "issues": 886,
          "pull requests": 1575
         },
         {
          "commits": 3167,
          "date": "2013-09-17",
          "issues": 888,
          "pull requests": 1576
         },
         {
          "commits": 3180,
          "date": "2013-09-18",
          "issues": 890,
          "pull requests": 1583
         },
         {
          "commits": 3185,
          "date": "2013-09-19",
          "issues": 892,
          "pull requests": 1585
         },
         {
          "commits": 3189,
          "date": "2013-09-20",
          "issues": 892,
          "pull requests": 1585
         },
         {
          "commits": 3191,
          "date": "2013-09-21",
          "issues": 892,
          "pull requests": 1585
         },
         {
          "commits": 3193,
          "date": "2013-09-22",
          "issues": 892,
          "pull requests": 1586
         },
         {
          "commits": 3196,
          "date": "2013-09-23",
          "issues": 892,
          "pull requests": 1588
         },
         {
          "commits": 3198,
          "date": "2013-09-24",
          "issues": 892,
          "pull requests": 1591
         },
         {
          "commits": 3199,
          "date": "2013-09-25",
          "issues": 893,
          "pull requests": 1593
         },
         {
          "commits": 3203,
          "date": "2013-09-26",
          "issues": 895,
          "pull requests": 1596
         },
         {
          "commits": 3204,
          "date": "2013-09-27",
          "issues": 896,
          "pull requests": 1596
         },
         {
          "commits": 3209,
          "date": "2013-09-28",
          "issues": 896,
          "pull requests": 1598
         },
         {
          "commits": 3212,
          "date": "2013-09-29",
          "issues": 896,
          "pull requests": 1600
         },
         {
          "commits": 3212,
          "date": "2013-09-30",
          "issues": 896,
          "pull requests": 1600
         },
         {
          "commits": 3218,
          "date": "2013-10-01",
          "issues": 897,
          "pull requests": 1605
         },
         {
          "commits": 3218,
          "date": "2013-10-02",
          "issues": 898,
          "pull requests": 1605
         },
         {
          "commits": 3221,
          "date": "2013-10-03",
          "issues": 898,
          "pull requests": 1606
         },
         {
          "commits": 3232,
          "date": "2013-10-04",
          "issues": 899,
          "pull requests": 1608
         },
         {
          "commits": 3232,
          "date": "2013-10-05",
          "issues": 900,
          "pull requests": 1610
         },
         {
          "commits": 3234,
          "date": "2013-10-06",
          "issues": 900,
          "pull requests": 1611
         },
         {
          "commits": 3236,
          "date": "2013-10-07",
          "issues": 902,
          "pull requests": 1615
         },
         {
          "commits": 3240,
          "date": "2013-10-08",
          "issues": 902,
          "pull requests": 1617
         },
         {
          "commits": 3241,
          "date": "2013-10-09",
          "issues": 903,
          "pull requests": 1620
         },
         {
          "commits": 3243,
          "date": "2013-10-10",
          "issues": 904,
          "pull requests": 1623
         },
         {
          "commits": 3249,
          "date": "2013-10-11",
          "issues": 905,
          "pull requests": 1627
         },
         {
          "commits": 3251,
          "date": "2013-10-12",
          "issues": 905,
          "pull requests": 1629
         },
         {
          "commits": 3252,
          "date": "2013-10-13",
          "issues": 905,
          "pull requests": 1631
         },
         {
          "commits": 3254,
          "date": "2013-10-14",
          "issues": 905,
          "pull requests": 1632
         },
         {
          "commits": 3272,
          "date": "2013-10-15",
          "issues": 908,
          "pull requests": 1634
         },
         {
          "commits": 3279,
          "date": "2013-10-16",
          "issues": 909,
          "pull requests": 1640
         },
         {
          "commits": 3284,
          "date": "2013-10-17",
          "issues": 910,
          "pull requests": 1641
         },
         {
          "commits": 3286,
          "date": "2013-10-18",
          "issues": 912,
          "pull requests": 1643
         },
         {
          "commits": 3288,
          "date": "2013-10-19",
          "issues": 915,
          "pull requests": 1645
         },
         {
          "commits": 3300,
          "date": "2013-10-20",
          "issues": 917,
          "pull requests": 1647
         },
         {
          "commits": 3306,
          "date": "2013-10-21",
          "issues": 919,
          "pull requests": 1648
         },
         {
          "commits": 3314,
          "date": "2013-10-22",
          "issues": 922,
          "pull requests": 1653
         },
         {
          "commits": 3325,
          "date": "2013-10-23",
          "issues": 923,
          "pull requests": 1657
         },
         {
          "commits": 3331,
          "date": "2013-10-24",
          "issues": 926,
          "pull requests": 1662
         },
         {
          "commits": 3338,
          "date": "2013-10-25",
          "issues": 926,
          "pull requests": 1667
         },
         {
          "commits": 3347,
          "date": "2013-10-26",
          "issues": 927,
          "pull requests": 1677
         },
         {
          "commits": 3355,
          "date": "2013-10-27",
          "issues": 930,
          "pull requests": 1679
         },
         {
          "commits": 3368,
          "date": "2013-10-28",
          "issues": 933,
          "pull requests": 1686
         },
         {
          "commits": 3371,
          "date": "2013-10-29",
          "issues": 936,
          "pull requests": 1687
         },
         {
          "commits": 3376,
          "date": "2013-10-30",
          "issues": 937,
          "pull requests": 1691
         },
         {
          "commits": 3380,
          "date": "2013-10-31",
          "issues": 937,
          "pull requests": 1691
         },
         {
          "commits": 3383,
          "date": "2013-11-01",
          "issues": 938,
          "pull requests": 1693
         },
         {
          "commits": 3385,
          "date": "2013-11-02",
          "issues": 938,
          "pull requests": 1694
         },
         {
          "commits": 3386,
          "date": "2013-11-03",
          "issues": 939,
          "pull requests": 1694
         },
         {
          "commits": 3396,
          "date": "2013-11-04",
          "issues": 940,
          "pull requests": 1697
         },
         {
          "commits": 3402,
          "date": "2013-11-05",
          "issues": 945,
          "pull requests": 1701
         },
         {
          "commits": 3403,
          "date": "2013-11-06",
          "issues": 948,
          "pull requests": 1703
         },
         {
          "commits": 3405,
          "date": "2013-11-07",
          "issues": 954,
          "pull requests": 1703
         },
         {
          "commits": 3409,
          "date": "2013-11-08",
          "issues": 955,
          "pull requests": 1705
         },
         {
          "commits": 3411,
          "date": "2013-11-09",
          "issues": 958,
          "pull requests": 1705
         },
         {
          "commits": 3415,
          "date": "2013-11-10",
          "issues": 959,
          "pull requests": 1706
         },
         {
          "commits": 3436,
          "date": "2013-11-11",
          "issues": 961,
          "pull requests": 1712
         },
         {
          "commits": 3441,
          "date": "2013-11-12",
          "issues": 961,
          "pull requests": 1715
         },
         {
          "commits": 3448,
          "date": "2013-11-13",
          "issues": 963,
          "pull requests": 1718
         },
         {
          "commits": 3453,
          "date": "2013-11-14",
          "issues": 966,
          "pull requests": 1724
         },
         {
          "commits": 3457,
          "date": "2013-11-15",
          "issues": 966,
          "pull requests": 1732
         },
         {
          "commits": 3459,
          "date": "2013-11-16",
          "issues": 969,
          "pull requests": 1735
         },
         {
          "commits": 3463,
          "date": "2013-11-17",
          "issues": 970,
          "pull requests": 1739
         },
         {
          "commits": 3472,
          "date": "2013-11-18",
          "issues": 971,
          "pull requests": 1742
         },
         {
          "commits": 3475,
          "date": "2013-11-19",
          "issues": 972,
          "pull requests": 1743
         },
         {
          "commits": 3477,
          "date": "2013-11-20",
          "issues": 978,
          "pull requests": 1748
         },
         {
          "commits": 3482,
          "date": "2013-11-21",
          "issues": 979,
          "pull requests": 1753
         },
         {
          "commits": 3487,
          "date": "2013-11-22",
          "issues": 983,
          "pull requests": 1758
         },
         {
          "commits": 3487,
          "date": "2013-11-23",
          "issues": 983,
          "pull requests": 1758
         },
         {
          "commits": 3490,
          "date": "2013-11-24",
          "issues": 984,
          "pull requests": 1758
         },
         {
          "commits": 3491,
          "date": "2013-11-25",
          "issues": 986,
          "pull requests": 1758
         },
         {
          "commits": 3492,
          "date": "2013-11-26",
          "issues": 987,
          "pull requests": 1760
         },
         {
          "commits": 3497,
          "date": "2013-11-27",
          "issues": 987,
          "pull requests": 1763
         },
         {
          "commits": 3507,
          "date": "2013-11-28",
          "issues": 990,
          "pull requests": 1767
         },
         {
          "commits": 3510,
          "date": "2013-11-29",
          "issues": 992,
          "pull requests": 1769
         },
         {
          "commits": 3515,
          "date": "2013-11-30",
          "issues": 994,
          "pull requests": 1769
         },
         {
          "commits": 3516,
          "date": "2013-12-01",
          "issues": 996,
          "pull requests": 1771
         },
         {
          "commits": 3523,
          "date": "2013-12-02",
          "issues": 997,
          "pull requests": 1776
         },
         {
          "commits": 3529,
          "date": "2013-12-03",
          "issues": 999,
          "pull requests": 1781
         },
         {
          "commits": 3543,
          "date": "2013-12-04",
          "issues": 999,
          "pull requests": 1786
         },
         {
          "commits": 3545,
          "date": "2013-12-05",
          "issues": 1001,
          "pull requests": 1787
         },
         {
          "commits": 3550,
          "date": "2013-12-06",
          "issues": 1003,
          "pull requests": 1787
         },
         {
          "commits": 3551,
          "date": "2013-12-07",
          "issues": 1004,
          "pull requests": 1788
         },
         {
          "commits": 3556,
          "date": "2013-12-08",
          "issues": 1005,
          "pull requests": 1791
         },
         {
          "commits": 3565,
          "date": "2013-12-09",
          "issues": 1007,
          "pull requests": 1794
         },
         {
          "commits": 3573,
          "date": "2013-12-10",
          "issues": 1010,
          "pull requests": 1802
         },
         {
          "commits": 3579,
          "date": "2013-12-11",
          "issues": 1011,
          "pull requests": 1806
         },
         {
          "commits": 3582,
          "date": "2013-12-12",
          "issues": 1016,
          "pull requests": 1811
         },
         {
          "commits": 3598,
          "date": "2013-12-13",
          "issues": 1018,
          "pull requests": 1817
         },
         {
          "commits": 3601,
          "date": "2013-12-14",
          "issues": 1018,
          "pull requests": 1819
         },
         {
          "commits": 3605,
          "date": "2013-12-15",
          "issues": 1019,
          "pull requests": 1824
         },
         {
          "commits": 3616,
          "date": "2013-12-16",
          "issues": 1020,
          "pull requests": 1830
         },
         {
          "commits": 3622,
          "date": "2013-12-17",
          "issues": 1020,
          "pull requests": 1831
         },
         {
          "commits": 3627,
          "date": "2013-12-18",
          "issues": 1023,
          "pull requests": 1835
         },
         {
          "commits": 3632,
          "date": "2013-12-19",
          "issues": 1025,
          "pull requests": 1835
         },
         {
          "commits": 3642,
          "date": "2013-12-20",
          "issues": 1025,
          "pull requests": 1841
         },
         {
          "commits": 3643,
          "date": "2013-12-21",
          "issues": 1025,
          "pull requests": 1841
         },
         {
          "commits": 3643,
          "date": "2013-12-22",
          "issues": 1025,
          "pull requests": 1841
         },
         {
          "commits": 3645,
          "date": "2013-12-23",
          "issues": 1026,
          "pull requests": 1842
         },
         {
          "commits": 3647,
          "date": "2013-12-24",
          "issues": 1027,
          "pull requests": 1845
         },
         {
          "commits": 3649,
          "date": "2013-12-25",
          "issues": 1027,
          "pull requests": 1846
         },
         {
          "commits": 3649,
          "date": "2013-12-26",
          "issues": 1027,
          "pull requests": 1846
         },
         {
          "commits": 3649,
          "date": "2013-12-27",
          "issues": 1027,
          "pull requests": 1846
         },
         {
          "commits": 3650,
          "date": "2013-12-28",
          "issues": 1028,
          "pull requests": 1848
         },
         {
          "commits": 3651,
          "date": "2013-12-29",
          "issues": 1029,
          "pull requests": 1852
         },
         {
          "commits": 3651,
          "date": "2013-12-30",
          "issues": 1029,
          "pull requests": 1852
         },
         {
          "commits": 3651,
          "date": "2013-12-31",
          "issues": 1029,
          "pull requests": 1852
         },
         {
          "commits": 3651,
          "date": "2014-01-01",
          "issues": 1029,
          "pull requests": 1852
         },
         {
          "commits": 3652,
          "date": "2014-01-02",
          "issues": 1030,
          "pull requests": 1854
         },
         {
          "commits": 3653,
          "date": "2014-01-03",
          "issues": 1033,
          "pull requests": 1854
         },
         {
          "commits": 3654,
          "date": "2014-01-04",
          "issues": 1033,
          "pull requests": 1855
         },
         {
          "commits": 3656,
          "date": "2014-01-05",
          "issues": 1034,
          "pull requests": 1856
         },
         {
          "commits": 3667,
          "date": "2014-01-06",
          "issues": 1034,
          "pull requests": 1858
         },
         {
          "commits": 3668,
          "date": "2014-01-07",
          "issues": 1035,
          "pull requests": 1860
         },
         {
          "commits": 3670,
          "date": "2014-01-08",
          "issues": 1037,
          "pull requests": 1860
         },
         {
          "commits": 3672,
          "date": "2014-01-09",
          "issues": 1039,
          "pull requests": 1864
         },
         {
          "commits": 3692,
          "date": "2014-01-10",
          "issues": 1040,
          "pull requests": 1868
         },
         {
          "commits": 3705,
          "date": "2014-01-11",
          "issues": 1041,
          "pull requests": 1875
         },
         {
          "commits": 3709,
          "date": "2014-01-12",
          "issues": 1042,
          "pull requests": 1877
         },
         {
          "commits": 3719,
          "date": "2014-01-13",
          "issues": 1048,
          "pull requests": 1885
         },
         {
          "commits": 3733,
          "date": "2014-01-14",
          "issues": 1051,
          "pull requests": 1888
         },
         {
          "commits": 3737,
          "date": "2014-01-15",
          "issues": 1052,
          "pull requests": 1890
         },
         {
          "commits": 3747,
          "date": "2014-01-16",
          "issues": 1052,
          "pull requests": 1893
         },
         {
          "commits": 3749,
          "date": "2014-01-17",
          "issues": 1054,
          "pull requests": 1895
         },
         {
          "commits": 3768,
          "date": "2014-01-18",
          "issues": 1054,
          "pull requests": 1896
         },
         {
          "commits": 3773,
          "date": "2014-01-19",
          "issues": 1055,
          "pull requests": 1897
         },
         {
          "commits": 3774,
          "date": "2014-01-20",
          "issues": 1057,
          "pull requests": 1898
         },
         {
          "commits": 3786,
          "date": "2014-01-21",
          "issues": 1060,
          "pull requests": 1900
         },
         {
          "commits": 3794,
          "date": "2014-01-22",
          "issues": 1062,
          "pull requests": 1904
         },
         {
          "commits": 3802,
          "date": "2014-01-23",
          "issues": 1063,
          "pull requests": 1908
         },
         {
          "commits": 3807,
          "date": "2014-01-24",
          "issues": 1064,
          "pull requests": 1910
         },
         {
          "commits": 3807,
          "date": "2014-01-25",
          "issues": 1064,
          "pull requests": 1910
         },
         {
          "commits": 3807,
          "date": "2014-01-26",
          "issues": 1064,
          "pull requests": 1910
         },
         {
          "commits": 3815,
          "date": "2014-01-27",
          "issues": 1064,
          "pull requests": 1913
         },
         {
          "commits": 3820,
          "date": "2014-01-28",
          "issues": 1065,
          "pull requests": 1915
         },
         {
          "commits": 3838,
          "date": "2014-01-29",
          "issues": 1066,
          "pull requests": 1916
         },
         {
          "commits": 3845,
          "date": "2014-01-30",
          "issues": 1066,
          "pull requests": 1920
         },
         {
          "commits": 3848,
          "date": "2014-01-31",
          "issues": 1068,
          "pull requests": 1922
         },
         {
          "commits": 3848,
          "date": "2014-02-01",
          "issues": 1068,
          "pull requests": 1922
         },
         {
          "commits": 3850,
          "date": "2014-02-02",
          "issues": 1072,
          "pull requests": 1924
         },
         {
          "commits": 3854,
          "date": "2014-02-03",
          "issues": 1072,
          "pull requests": 1927
         },
         {
          "commits": 3855,
          "date": "2014-02-04",
          "issues": 1074,
          "pull requests": 1930
         },
         {
          "commits": 3858,
          "date": "2014-02-05",
          "issues": 1078,
          "pull requests": 1932
         },
         {
          "commits": 3862,
          "date": "2014-02-06",
          "issues": 1078,
          "pull requests": 1933
         },
         {
          "commits": 3866,
          "date": "2014-02-07",
          "issues": 1081,
          "pull requests": 1936
         },
         {
          "commits": 3873,
          "date": "2014-02-08",
          "issues": 1081,
          "pull requests": 1939
         },
         {
          "commits": 3877,
          "date": "2014-02-09",
          "issues": 1081,
          "pull requests": 1940
         },
         {
          "commits": 3885,
          "date": "2014-02-10",
          "issues": 1082,
          "pull requests": 1941
         },
         {
          "commits": 3890,
          "date": "2014-02-11",
          "issues": 1084,
          "pull requests": 1944
         },
         {
          "commits": 3891,
          "date": "2014-02-12",
          "issues": 1085,
          "pull requests": 1949
         },
         {
          "commits": 3898,
          "date": "2014-02-13",
          "issues": 1087,
          "pull requests": 1954
         },
         {
          "commits": 3903,
          "date": "2014-02-14",
          "issues": 1090,
          "pull requests": 1956
         },
         {
          "commits": 3904,
          "date": "2014-02-15",
          "issues": 1092,
          "pull requests": 1958
         },
         {
          "commits": 3908,
          "date": "2014-02-16",
          "issues": 1093,
          "pull requests": 1965
         },
         {
          "commits": 3920,
          "date": "2014-02-17",
          "issues": 1094,
          "pull requests": 1971
         },
         {
          "commits": 3924,
          "date": "2014-02-18",
          "issues": 1096,
          "pull requests": 1980
         },
         {
          "commits": 3927,
          "date": "2014-02-19",
          "issues": 1096,
          "pull requests": 1982
         },
         {
          "commits": 3930,
          "date": "2014-02-20",
          "issues": 1098,
          "pull requests": 1982
         },
         {
          "commits": 3932,
          "date": "2014-02-21",
          "issues": 1102,
          "pull requests": 1992
         },
         {
          "commits": 3937,
          "date": "2014-02-22",
          "issues": 1102,
          "pull requests": 1996
         },
         {
          "commits": 3941,
          "date": "2014-02-23",
          "issues": 1104,
          "pull requests": 1996
         },
         {
          "commits": 3946,
          "date": "2014-02-24",
          "issues": 1104,
          "pull requests": 1999
         },
         {
          "commits": 3951,
          "date": "2014-02-25",
          "issues": 1105,
          "pull requests": 2007
         },
         {
          "commits": 3961,
          "date": "2014-02-26",
          "issues": 1106,
          "pull requests": 2013
         },
         {
          "commits": 3968,
          "date": "2014-02-27",
          "issues": 1110,
          "pull requests": 2021
         },
         {
          "commits": 3981,
          "date": "2014-02-28",
          "issues": 1112,
          "pull requests": 2024
         },
         {
          "commits": 3985,
          "date": "2014-03-01",
          "issues": 1115,
          "pull requests": 2026
         },
         {
          "commits": 3985,
          "date": "2014-03-02",
          "issues": 1115,
          "pull requests": 2026
         },
         {
          "commits": 3987,
          "date": "2014-03-03",
          "issues": 1122,
          "pull requests": 2029
         },
         {
          "commits": 3991,
          "date": "2014-03-04",
          "issues": 1124,
          "pull requests": 2034
         },
         {
          "commits": 3999,
          "date": "2014-03-05",
          "issues": 1128,
          "pull requests": 2040
         },
         {
          "commits": 4001,
          "date": "2014-03-06",
          "issues": 1129,
          "pull requests": 2041
         },
         {
          "commits": 4006,
          "date": "2014-03-07",
          "issues": 1131,
          "pull requests": 2047
         },
         {
          "commits": 4008,
          "date": "2014-03-08",
          "issues": 1134,
          "pull requests": 2053
         },
         {
          "commits": 4008,
          "date": "2014-03-09",
          "issues": 1134,
          "pull requests": 2053
         },
         {
          "commits": 4026,
          "date": "2014-03-10",
          "issues": 1136,
          "pull requests": 2060
         },
         {
          "commits": 4033,
          "date": "2014-03-11",
          "issues": 1139,
          "pull requests": 2067
         },
         {
          "commits": 4037,
          "date": "2014-03-12",
          "issues": 1144,
          "pull requests": 2070
         },
         {
          "commits": 4041,
          "date": "2014-03-13",
          "issues": 1145,
          "pull requests": 2073
         },
         {
          "commits": 4046,
          "date": "2014-03-14",
          "issues": 1150,
          "pull requests": 2079
         },
         {
          "commits": 4053,
          "date": "2014-03-15",
          "issues": 1151,
          "pull requests": 2084
         },
         {
          "commits": 4056,
          "date": "2014-03-16",
          "issues": 1154,
          "pull requests": 2090
         },
         {
          "commits": 4058,
          "date": "2014-03-17",
          "issues": 1155,
          "pull requests": 2090
         },
         {
          "commits": 4064,
          "date": "2014-03-18",
          "issues": 1156,
          "pull requests": 2094
         },
         {
          "commits": 4066,
          "date": "2014-03-19",
          "issues": 1165,
          "pull requests": 2095
         },
         {
          "commits": 4074,
          "date": "2014-03-20",
          "issues": 1171,
          "pull requests": 2098
         },
         {
          "commits": 4087,
          "date": "2014-03-21",
          "issues": 1175,
          "pull requests": 2108
         },
         {
          "commits": 4091,
          "date": "2014-03-22",
          "issues": 1176,
          "pull requests": 2116
         },
         {
          "commits": 4092,
          "date": "2014-03-23",
          "issues": 1179,
          "pull requests": 2117
         },
         {
          "commits": 4095,
          "date": "2014-03-24",
          "issues": 1182,
          "pull requests": 2120
         },
         {
          "commits": 4099,
          "date": "2014-03-25",
          "issues": 1186,
          "pull requests": 2125
         },
         {
          "commits": 4104,
          "date": "2014-03-26",
          "issues": 1187,
          "pull requests": 2127
         },
         {
          "commits": 4110,
          "date": "2014-03-27",
          "issues": 1190,
          "pull requests": 2128
         },
         {
          "commits": 4113,
          "date": "2014-03-28",
          "issues": 1193,
          "pull requests": 2134
         },
         {
          "commits": 4118,
          "date": "2014-03-29",
          "issues": 1195,
          "pull requests": 2135
         },
         {
          "commits": 4121,
          "date": "2014-03-30",
          "issues": 1196,
          "pull requests": 2137
         },
         {
          "commits": 4138,
          "date": "2014-03-31",
          "issues": 1196,
          "pull requests": 2142
         },
         {
          "commits": 4144,
          "date": "2014-04-01",
          "issues": 1198,
          "pull requests": 2144
         },
         {
          "commits": 4149,
          "date": "2014-04-02",
          "issues": 1200,
          "pull requests": 2148
         },
         {
          "commits": 4153,
          "date": "2014-04-03",
          "issues": 1201,
          "pull requests": 2149
         },
         {
          "commits": 4155,
          "date": "2014-04-04",
          "issues": 1202,
          "pull requests": 2149
         },
         {
          "commits": 4157,
          "date": "2014-04-05",
          "issues": 1206,
          "pull requests": 2151
         },
         {
          "commits": 4159,
          "date": "2014-04-06",
          "issues": 1208,
          "pull requests": 2153
         },
         {
          "commits": 4164,
          "date": "2014-04-07",
          "issues": 1209,
          "pull requests": 2159
         },
         {
          "commits": 4173,
          "date": "2014-04-08",
          "issues": 1212,
          "pull requests": 2162
         },
         {
          "commits": 4183,
          "date": "2014-04-09",
          "issues": 1215,
          "pull requests": 2170
         },
         {
          "commits": 4184,
          "date": "2014-04-10",
          "issues": 1215,
          "pull requests": 2174
         },
         {
          "commits": 4193,
          "date": "2014-04-11",
          "issues": 1215,
          "pull requests": 2174
         },
         {
          "commits": 4196,
          "date": "2014-04-12",
          "issues": 1216,
          "pull requests": 2176
         },
         {
          "commits": 4196,
          "date": "2014-04-13",
          "issues": 1216,
          "pull requests": 2176
         },
         {
          "commits": 4198,
          "date": "2014-04-14",
          "issues": 1217,
          "pull requests": 2178
         },
         {
          "commits": 4198,
          "date": "2014-04-15",
          "issues": 1220,
          "pull requests": 2179
         },
         {
          "commits": 4202,
          "date": "2014-04-16",
          "issues": 1225,
          "pull requests": 2179
         },
         {
          "commits": 4204,
          "date": "2014-04-17",
          "issues": 1225,
          "pull requests": 2179
         },
         {
          "commits": 4206,
          "date": "2014-04-18",
          "issues": 1226,
          "pull requests": 2180
         },
         {
          "commits": 4209,
          "date": "2014-04-19",
          "issues": 1231,
          "pull requests": 2182
         },
         {
          "commits": 4209,
          "date": "2014-04-20",
          "issues": 1231,
          "pull requests": 2182
         },
         {
          "commits": 4209,
          "date": "2014-04-21",
          "issues": 1231,
          "pull requests": 2182
         },
         {
          "commits": 4221,
          "date": "2014-04-22",
          "issues": 1236,
          "pull requests": 2183
         },
         {
          "commits": 4226,
          "date": "2014-04-23",
          "issues": 1236,
          "pull requests": 2184
         },
         {
          "commits": 4231,
          "date": "2014-04-24",
          "issues": 1239,
          "pull requests": 2187
         },
         {
          "commits": 4233,
          "date": "2014-04-25",
          "issues": 1240,
          "pull requests": 2189
         },
         {
          "commits": 4233,
          "date": "2014-04-26",
          "issues": 1240,
          "pull requests": 2189
         },
         {
          "commits": 4237,
          "date": "2014-04-27",
          "issues": 1241,
          "pull requests": 2190
         },
         {
          "commits": 4238,
          "date": "2014-04-28",
          "issues": 1242,
          "pull requests": 2193
         },
         {
          "commits": 4239,
          "date": "2014-04-29",
          "issues": 1242,
          "pull requests": 2195
         },
         {
          "commits": 4244,
          "date": "2014-04-30",
          "issues": 1245,
          "pull requests": 2197
         },
         {
          "commits": 4254,
          "date": "2014-05-01",
          "issues": 1245,
          "pull requests": 2200
         },
         {
          "commits": 4267,
          "date": "2014-05-02",
          "issues": 1246,
          "pull requests": 2206
         },
         {
          "commits": 4267,
          "date": "2014-05-03",
          "issues": 1246,
          "pull requests": 2206
         },
         {
          "commits": 4268,
          "date": "2014-05-04",
          "issues": 1247,
          "pull requests": 2206
         },
         {
          "commits": 4271,
          "date": "2014-05-05",
          "issues": 1250,
          "pull requests": 2211
         },
         {
          "commits": 4277,
          "date": "2014-05-06",
          "issues": 1255,
          "pull requests": 2214
         },
         {
          "commits": 4279,
          "date": "2014-05-07",
          "issues": 1257,
          "pull requests": 2221
         },
         {
          "commits": 4287,
          "date": "2014-05-08",
          "issues": 1259,
          "pull requests": 2223
         },
         {
          "commits": 4317,
          "date": "2014-05-09",
          "issues": 1264,
          "pull requests": 2229
         },
         {
          "commits": 4318,
          "date": "2014-05-10",
          "issues": 1265,
          "pull requests": 2231
         },
         {
          "commits": 4319,
          "date": "2014-05-11",
          "issues": 1267,
          "pull requests": 2234
         },
         {
          "commits": 4331,
          "date": "2014-05-12",
          "issues": 1269,
          "pull requests": 2237
         },
         {
          "commits": 4346,
          "date": "2014-05-13",
          "issues": 1269,
          "pull requests": 2240
         },
         {
          "commits": 4346,
          "date": "2014-05-14",
          "issues": 1269,
          "pull requests": 2240
         },
         {
          "commits": 4347,
          "date": "2014-05-15",
          "issues": 1270,
          "pull requests": 2243
         },
         {
          "commits": 4347,
          "date": "2014-05-16",
          "issues": 1270,
          "pull requests": 2243
         },
         {
          "commits": 4348,
          "date": "2014-05-17",
          "issues": 1271,
          "pull requests": 2244
         },
         {
          "commits": 4348,
          "date": "2014-05-18",
          "issues": 1271,
          "pull requests": 2244
         },
         {
          "commits": 4351,
          "date": "2014-05-19",
          "issues": 1272,
          "pull requests": 2245
         },
         {
          "commits": 4363,
          "date": "2014-05-20",
          "issues": 1272,
          "pull requests": 2252
         },
         {
          "commits": 4368,
          "date": "2014-05-21",
          "issues": 1273,
          "pull requests": 2254
         },
         {
          "commits": 4370,
          "date": "2014-05-22",
          "issues": 1274,
          "pull requests": 2259
         },
         {
          "commits": 4381,
          "date": "2014-05-23",
          "issues": 1279,
          "pull requests": 2265
         },
         {
          "commits": 4384,
          "date": "2014-05-24",
          "issues": 1279,
          "pull requests": 2268
         },
         {
          "commits": 4387,
          "date": "2014-05-25",
          "issues": 1279,
          "pull requests": 2269
         },
         {
          "commits": 4387,
          "date": "2014-05-26",
          "issues": 1279,
          "pull requests": 2269
         },
         {
          "commits": 4389,
          "date": "2014-05-27",
          "issues": 1281,
          "pull requests": 2270
         },
         {
          "commits": 4392,
          "date": "2014-05-28",
          "issues": 1281,
          "pull requests": 2274
         },
         {
          "commits": 4402,
          "date": "2014-05-29",
          "issues": 1287,
          "pull requests": 2279
         },
         {
          "commits": 4408,
          "date": "2014-05-30",
          "issues": 1288,
          "pull requests": 2286
         },
         {
          "commits": 4408,
          "date": "2014-05-31",
          "issues": 1291,
          "pull requests": 2286
         },
         {
          "commits": 4412,
          "date": "2014-06-01",
          "issues": 1292,
          "pull requests": 2286
         },
         {
          "commits": 4421,
          "date": "2014-06-02",
          "issues": 1295,
          "pull requests": 2291
         },
         {
          "commits": 4429,
          "date": "2014-06-03",
          "issues": 1295,
          "pull requests": 2296
         },
         {
          "commits": 4448,
          "date": "2014-06-04",
          "issues": 1295,
          "pull requests": 2303
         },
         {
          "commits": 4462,
          "date": "2014-06-05",
          "issues": 1295,
          "pull requests": 2307
         },
         {
          "commits": 4471,
          "date": "2014-06-06",
          "issues": 1296,
          "pull requests": 2311
         },
         {
          "commits": 4474,
          "date": "2014-06-07",
          "issues": 1296,
          "pull requests": 2315
         },
         {
          "commits": 4477,
          "date": "2014-06-08",
          "issues": 1296,
          "pull requests": 2320
         },
         {
          "commits": 4485,
          "date": "2014-06-09",
          "issues": 1297,
          "pull requests": 2322
         },
         {
          "commits": 4488,
          "date": "2014-06-10",
          "issues": 1299,
          "pull requests": 2326
         },
         {
          "commits": 4503,
          "date": "2014-06-11",
          "issues": 1301,
          "pull requests": 2333
         },
         {
          "commits": 4511,
          "date": "2014-06-12",
          "issues": 1301,
          "pull requests": 2337
         },
         {
          "commits": 4511,
          "date": "2014-06-13",
          "issues": 1301,
          "pull requests": 2337
         },
         {
          "commits": 4512,
          "date": "2014-06-14",
          "issues": 1302,
          "pull requests": 2338
         },
         {
          "commits": 4515,
          "date": "2014-06-15",
          "issues": 1305,
          "pull requests": 2338
         },
         {
          "commits": 4525,
          "date": "2014-06-16",
          "issues": 1309,
          "pull requests": 2344
         },
         {
          "commits": 4530,
          "date": "2014-06-17",
          "issues": 1313,
          "pull requests": 2347
         },
         {
          "commits": 4533,
          "date": "2014-06-18",
          "issues": 1315,
          "pull requests": 2351
         },
         {
          "commits": 4537,
          "date": "2014-06-19",
          "issues": 1317,
          "pull requests": 2353
         },
         {
          "commits": 4539,
          "date": "2014-06-20",
          "issues": 1319,
          "pull requests": 2355
         },
         {
          "commits": 4559,
          "date": "2014-06-21",
          "issues": 1324,
          "pull requests": 2361
         },
         {
          "commits": 4561,
          "date": "2014-06-22",
          "issues": 1325,
          "pull requests": 2364
         },
         {
          "commits": 4578,
          "date": "2014-06-23",
          "issues": 1325,
          "pull requests": 2369
         },
         {
          "commits": 4582,
          "date": "2014-06-24",
          "issues": 1327,
          "pull requests": 2378
         },
         {
          "commits": 4594,
          "date": "2014-06-25",
          "issues": 1328,
          "pull requests": 2383
         },
         {
          "commits": 4602,
          "date": "2014-06-26",
          "issues": 1330,
          "pull requests": 2388
         },
         {
          "commits": 4616,
          "date": "2014-06-27",
          "issues": 1332,
          "pull requests": 2393
         },
         {
          "commits": 4631,
          "date": "2014-06-28",
          "issues": 1334,
          "pull requests": 2396
         },
         {
          "commits": 4637,
          "date": "2014-06-29",
          "issues": 1336,
          "pull requests": 2399
         },
         {
          "commits": 4644,
          "date": "2014-06-30",
          "issues": 1337,
          "pull requests": 2400
         },
         {
          "commits": 4657,
          "date": "2014-07-01",
          "issues": 1337,
          "pull requests": 2403
         },
         {
          "commits": 4668,
          "date": "2014-07-02",
          "issues": 1338,
          "pull requests": 2408
         },
         {
          "commits": 4676,
          "date": "2014-07-03",
          "issues": 1339,
          "pull requests": 2410
         },
         {
          "commits": 4682,
          "date": "2014-07-04",
          "issues": 1339,
          "pull requests": 2411
         },
         {
          "commits": 4684,
          "date": "2014-07-05",
          "issues": 1340,
          "pull requests": 2415
         },
         {
          "commits": 4688,
          "date": "2014-07-06",
          "issues": 1343,
          "pull requests": 2418
         },
         {
          "commits": 4717,
          "date": "2014-07-07",
          "issues": 1345,
          "pull requests": 2422
         },
         {
          "commits": 4725,
          "date": "2014-07-08",
          "issues": 1346,
          "pull requests": 2430
         },
         {
          "commits": 4737,
          "date": "2014-07-09",
          "issues": 1350,
          "pull requests": 2435
         },
         {
          "commits": 4740,
          "date": "2014-07-10",
          "issues": 1351,
          "pull requests": 2441
         },
         {
          "commits": 4748,
          "date": "2014-07-11",
          "issues": 1352,
          "pull requests": 2441
         },
         {
          "commits": 4753,
          "date": "2014-07-12",
          "issues": 1355,
          "pull requests": 2445
         },
         {
          "commits": 4758,
          "date": "2014-07-13",
          "issues": 1357,
          "pull requests": 2449
         },
         {
          "commits": 4771,
          "date": "2014-07-14",
          "issues": 1357,
          "pull requests": 2454
         },
         {
          "commits": 4782,
          "date": "2014-07-15",
          "issues": 1360,
          "pull requests": 2461
         },
         {
          "commits": 4786,
          "date": "2014-07-16",
          "issues": 1362,
          "pull requests": 2467
         },
         {
          "commits": 4793,
          "date": "2014-07-17",
          "issues": 1364,
          "pull requests": 2468
         },
         {
          "commits": 4813,
          "date": "2014-07-18",
          "issues": 1364,
          "pull requests": 2475
         },
         {
          "commits": 4813,
          "date": "2014-07-19",
          "issues": 1364,
          "pull requests": 2475
         },
         {
          "commits": 4816,
          "date": "2014-07-20",
          "issues": 1365,
          "pull requests": 2476
         },
         {
          "commits": 4827,
          "date": "2014-07-21",
          "issues": 1366,
          "pull requests": 2479
         },
         {
          "commits": 4830,
          "date": "2014-07-22",
          "issues": 1368,
          "pull requests": 2481
         },
         {
          "commits": 4836,
          "date": "2014-07-23",
          "issues": 1370,
          "pull requests": 2483
         },
         {
          "commits": 4842,
          "date": "2014-07-24",
          "issues": 1373,
          "pull requests": 2486
         },
         {
          "commits": 4845,
          "date": "2014-07-25",
          "issues": 1373,
          "pull requests": 2488
         },
         {
          "commits": 4846,
          "date": "2014-07-26",
          "issues": 1373,
          "pull requests": 2491
         },
         {
          "commits": 4846,
          "date": "2014-07-27",
          "issues": 1373,
          "pull requests": 2491
         },
         {
          "commits": 4855,
          "date": "2014-07-28",
          "issues": 1374,
          "pull requests": 2494
         },
         {
          "commits": 4861,
          "date": "2014-07-29",
          "issues": 1375,
          "pull requests": 2497
         },
         {
          "commits": 4870,
          "date": "2014-07-30",
          "issues": 1377,
          "pull requests": 2499
         },
         {
          "commits": 4879,
          "date": "2014-07-31",
          "issues": 1378,
          "pull requests": 2504
         },
         {
          "commits": 4881,
          "date": "2014-08-01",
          "issues": 1378,
          "pull requests": 2507
         },
         {
          "commits": 4881,
          "date": "2014-08-02",
          "issues": 1380,
          "pull requests": 2509
         },
         {
          "commits": 4886,
          "date": "2014-08-03",
          "issues": 1381,
          "pull requests": 2510
         },
         {
          "commits": 4896,
          "date": "2014-08-04",
          "issues": 1383,
          "pull requests": 2515
         },
         {
          "commits": 4897,
          "date": "2014-08-05",
          "issues": 1385,
          "pull requests": 2519
         },
         {
          "commits": 4912,
          "date": "2014-08-06",
          "issues": 1387,
          "pull requests": 2523
         },
         {
          "commits": 4917,
          "date": "2014-08-07",
          "issues": 1387,
          "pull requests": 2531
         },
         {
          "commits": 4927,
          "date": "2014-08-08",
          "issues": 1389,
          "pull requests": 2537
         },
         {
          "commits": 4928,
          "date": "2014-08-09",
          "issues": 1389,
          "pull requests": 2538
         },
         {
          "commits": 4929,
          "date": "2014-08-10",
          "issues": 1390,
          "pull requests": 2542
         },
         {
          "commits": 4942,
          "date": "2014-08-11",
          "issues": 1393,
          "pull requests": 2546
         },
         {
          "commits": 4952,
          "date": "2014-08-12",
          "issues": 1394,
          "pull requests": 2552
         },
         {
          "commits": 4956,
          "date": "2014-08-13",
          "issues": 1395,
          "pull requests": 2561
         },
         {
          "commits": 4959,
          "date": "2014-08-14",
          "issues": 1395,
          "pull requests": 2564
         },
         {
          "commits": 4963,
          "date": "2014-08-15",
          "issues": 1397,
          "pull requests": 2568
         },
         {
          "commits": 4969,
          "date": "2014-08-16",
          "issues": 1398,
          "pull requests": 2571
         },
         {
          "commits": 4974,
          "date": "2014-08-17",
          "issues": 1398,
          "pull requests": 2577
         },
         {
          "commits": 4986,
          "date": "2014-08-18",
          "issues": 1400,
          "pull requests": 2583
         },
         {
          "commits": 4993,
          "date": "2014-08-19",
          "issues": 1400,
          "pull requests": 2589
         },
         {
          "commits": 4999,
          "date": "2014-08-20",
          "issues": 1401,
          "pull requests": 2595
         },
         {
          "commits": 5005,
          "date": "2014-08-21",
          "issues": 1404,
          "pull requests": 2598
         },
         {
          "commits": 5007,
          "date": "2014-08-22",
          "issues": 1405,
          "pull requests": 2599
         },
         {
          "commits": 5015,
          "date": "2014-08-23",
          "issues": 1406,
          "pull requests": 2603
         },
         {
          "commits": 5019,
          "date": "2014-08-24",
          "issues": 1409,
          "pull requests": 2605
         },
         {
          "commits": 5025,
          "date": "2014-08-25",
          "issues": 1409,
          "pull requests": 2606
         },
         {
          "commits": 5049,
          "date": "2014-08-26",
          "issues": 1409,
          "pull requests": 2610
         },
         {
          "commits": 5058,
          "date": "2014-08-27",
          "issues": 1410,
          "pull requests": 2614
         },
         {
          "commits": 5061,
          "date": "2014-08-28",
          "issues": 1412,
          "pull requests": 2621
         },
         {
          "commits": 5066,
          "date": "2014-08-29",
          "issues": 1412,
          "pull requests": 2623
         },
         {
          "commits": 5072,
          "date": "2014-08-30",
          "issues": 1415,
          "pull requests": 2629
         },
         {
          "commits": 5077,
          "date": "2014-08-31",
          "issues": 1416,
          "pull requests": 2636
         },
         {
          "commits": 5087,
          "date": "2014-09-01",
          "issues": 1418,
          "pull requests": 2638
         },
         {
          "commits": 5093,
          "date": "2014-09-02",
          "issues": 1420,
          "pull requests": 2649
         },
         {
          "commits": 5099,
          "date": "2014-09-03",
          "issues": 1421,
          "pull requests": 2661
         },
         {
          "commits": 5112,
          "date": "2014-09-04",
          "issues": 1424,
          "pull requests": 2665
         },
         {
          "commits": 5119,
          "date": "2014-09-05",
          "issues": 1427,
          "pull requests": 2671
         },
         {
          "commits": 5123,
          "date": "2014-09-06",
          "issues": 1428,
          "pull requests": 2672
         },
         {
          "commits": 5124,
          "date": "2014-09-07",
          "issues": 1429,
          "pull requests": 2674
         },
         {
          "commits": 5144,
          "date": "2014-09-08",
          "issues": 1433,
          "pull requests": 2683
         },
         {
          "commits": 5150,
          "date": "2014-09-09",
          "issues": 1436,
          "pull requests": 2689
         },
         {
          "commits": 5164,
          "date": "2014-09-10",
          "issues": 1440,
          "pull requests": 2693
         },
         {
          "commits": 5167,
          "date": "2014-09-11",
          "issues": 1442,
          "pull requests": 2695
         },
         {
          "commits": 5175,
          "date": "2014-09-12",
          "issues": 1446,
          "pull requests": 2697
         },
         {
          "commits": 5175,
          "date": "2014-09-13",
          "issues": 1446,
          "pull requests": 2697
         },
         {
          "commits": 5178,
          "date": "2014-09-14",
          "issues": 1448,
          "pull requests": 2700
         },
         {
          "commits": 5185,
          "date": "2014-09-15",
          "issues": 1453,
          "pull requests": 2707
         },
         {
          "commits": 5204,
          "date": "2014-09-16",
          "issues": 1453,
          "pull requests": 2712
         },
         {
          "commits": 5208,
          "date": "2014-09-17",
          "issues": 1454,
          "pull requests": 2713
         },
         {
          "commits": 5218,
          "date": "2014-09-18",
          "issues": 1455,
          "pull requests": 2720
         },
         {
          "commits": 5222,
          "date": "2014-09-19",
          "issues": 1457,
          "pull requests": 2722
         },
         {
          "commits": 5227,
          "date": "2014-09-20",
          "issues": 1458,
          "pull requests": 2727
         },
         {
          "commits": 5230,
          "date": "2014-09-21",
          "issues": 1458,
          "pull requests": 2727
         },
         {
          "commits": 5242,
          "date": "2014-09-22",
          "issues": 1458,
          "pull requests": 2734
         },
         {
          "commits": 5255,
          "date": "2014-09-23",
          "issues": 1458,
          "pull requests": 2741
         },
         {
          "commits": 5259,
          "date": "2014-09-24",
          "issues": 1461,
          "pull requests": 2744
         },
         {
          "commits": 5288,
          "date": "2014-09-25",
          "issues": 1461,
          "pull requests": 2754
         },
         {
          "commits": 5294,
          "date": "2014-09-26",
          "issues": 1461,
          "pull requests": 2754
         },
         {
          "commits": 5298,
          "date": "2014-09-27",
          "issues": 1462,
          "pull requests": 2759
         },
         {
          "commits": 5299,
          "date": "2014-09-28",
          "issues": 1465,
          "pull requests": 2762
         },
         {
          "commits": 5310,
          "date": "2014-09-29",
          "issues": 1466,
          "pull requests": 2765
         },
         {
          "commits": 5319,
          "date": "2014-09-30",
          "issues": 1467,
          "pull requests": 2774
         },
         {
          "commits": 5335,
          "date": "2014-10-01",
          "issues": 1468,
          "pull requests": 2779
         },
         {
          "commits": 5364,
          "date": "2014-10-02",
          "issues": 1471,
          "pull requests": 2785
         },
         {
          "commits": 5372,
          "date": "2014-10-03",
          "issues": 1472,
          "pull requests": 2788
         },
         {
          "commits": 5374,
          "date": "2014-10-04",
          "issues": 1472,
          "pull requests": 2788
         },
         {
          "commits": 5374,
          "date": "2014-10-05",
          "issues": 1472,
          "pull requests": 2788
         },
         {
          "commits": 5382,
          "date": "2014-10-06",
          "issues": 1473,
          "pull requests": 2792
         },
         {
          "commits": 5391,
          "date": "2014-10-07",
          "issues": 1473,
          "pull requests": 2797
         },
         {
          "commits": 5399,
          "date": "2014-10-08",
          "issues": 1475,
          "pull requests": 2798
         },
         {
          "commits": 5403,
          "date": "2014-10-09",
          "issues": 1476,
          "pull requests": 2799
         },
         {
          "commits": 5414,
          "date": "2014-10-10",
          "issues": 1477,
          "pull requests": 2805
         },
         {
          "commits": 5417,
          "date": "2014-10-11",
          "issues": 1477,
          "pull requests": 2805
         },
         {
          "commits": 5417,
          "date": "2014-10-12",
          "issues": 1477,
          "pull requests": 2805
         },
         {
          "commits": 5421,
          "date": "2014-10-13",
          "issues": 1478,
          "pull requests": 2810
         },
         {
          "commits": 5436,
          "date": "2014-10-14",
          "issues": 1478,
          "pull requests": 2813
         },
         {
          "commits": 5444,
          "date": "2014-10-15",
          "issues": 1478,
          "pull requests": 2813
         },
         {
          "commits": 5449,
          "date": "2014-10-16",
          "issues": 1479,
          "pull requests": 2818
         },
         {
          "commits": 5459,
          "date": "2014-10-17",
          "issues": 1480,
          "pull requests": 2820
         },
         {
          "commits": 5459,
          "date": "2014-10-18",
          "issues": 1480,
          "pull requests": 2820
         },
         {
          "commits": 5459,
          "date": "2014-10-19",
          "issues": 1480,
          "pull requests": 2820
         },
         {
          "commits": 5463,
          "date": "2014-10-20",
          "issues": 1480,
          "pull requests": 2826
         },
         {
          "commits": 5475,
          "date": "2014-10-21",
          "issues": 1481,
          "pull requests": 2832
         },
         {
          "commits": 5482,
          "date": "2014-10-22",
          "issues": 1482,
          "pull requests": 2835
         },
         {
          "commits": 5487,
          "date": "2014-10-23",
          "issues": 1486,
          "pull requests": 2839
         },
         {
          "commits": 5501,
          "date": "2014-10-24",
          "issues": 1490,
          "pull requests": 2845
         },
         {
          "commits": 5513,
          "date": "2014-10-25",
          "issues": 1490,
          "pull requests": 2848
         },
         {
          "commits": 5513,
          "date": "2014-10-26",
          "issues": 1490,
          "pull requests": 2848
         },
         {
          "commits": 5530,
          "date": "2014-10-27",
          "issues": 1491,
          "pull requests": 2849
         },
         {
          "commits": 5540,
          "date": "2014-10-28",
          "issues": 1493,
          "pull requests": 2857
         },
         {
          "commits": 5546,
          "date": "2014-10-29",
          "issues": 1495,
          "pull requests": 2865
         },
         {
          "commits": 5561,
          "date": "2014-10-30",
          "issues": 1498,
          "pull requests": 2870
         },
         {
          "commits": 5579,
          "date": "2014-10-31",
          "issues": 1498,
          "pull requests": 2873
         },
         {
          "commits": 5580,
          "date": "2014-11-01",
          "issues": 1499,
          "pull requests": 2877
         },
         {
          "commits": 5580,
          "date": "2014-11-02",
          "issues": 1499,
          "pull requests": 2877
         },
         {
          "commits": 5589,
          "date": "2014-11-03",
          "issues": 1500,
          "pull requests": 2880
         },
         {
          "commits": 5599,
          "date": "2014-11-04",
          "issues": 1501,
          "pull requests": 2887
         },
         {
          "commits": 5607,
          "date": "2014-11-05",
          "issues": 1501,
          "pull requests": 2896
         },
         {
          "commits": 5615,
          "date": "2014-11-06",
          "issues": 1501,
          "pull requests": 2906
         },
         {
          "commits": 5624,
          "date": "2014-11-07",
          "issues": 1502,
          "pull requests": 2913
         },
         {
          "commits": 5627,
          "date": "2014-11-08",
          "issues": 1503,
          "pull requests": 2920
         },
         {
          "commits": 5627,
          "date": "2014-11-09",
          "issues": 1503,
          "pull requests": 2920
         },
         {
          "commits": 5635,
          "date": "2014-11-10",
          "issues": 1504,
          "pull requests": 2925
         },
         {
          "commits": 5635,
          "date": "2014-11-11",
          "issues": 1505,
          "pull requests": 2926
         },
         {
          "commits": 5640,
          "date": "2014-11-12",
          "issues": 1508,
          "pull requests": 2930
         },
         {
          "commits": 5648,
          "date": "2014-11-13",
          "issues": 1510,
          "pull requests": 2936
         },
         {
          "commits": 5653,
          "date": "2014-11-14",
          "issues": 1512,
          "pull requests": 2940
         },
         {
          "commits": 5653,
          "date": "2014-11-15",
          "issues": 1512,
          "pull requests": 2940
         },
         {
          "commits": 5660,
          "date": "2014-11-16",
          "issues": 1512,
          "pull requests": 2944
         },
         {
          "commits": 5675,
          "date": "2014-11-17",
          "issues": 1513,
          "pull requests": 2949
         },
         {
          "commits": 5698,
          "date": "2014-11-18",
          "issues": 1516,
          "pull requests": 2954
         },
         {
          "commits": 5716,
          "date": "2014-11-19",
          "issues": 1519,
          "pull requests": 2960
         },
         {
          "commits": 5757,
          "date": "2014-11-20",
          "issues": 1521,
          "pull requests": 2970
         },
         {
          "commits": 5767,
          "date": "2014-11-21",
          "issues": 1527,
          "pull requests": 2975
         },
         {
          "commits": 5771,
          "date": "2014-11-22",
          "issues": 1527,
          "pull requests": 2979
         },
         {
          "commits": 5777,
          "date": "2014-11-23",
          "issues": 1530,
          "pull requests": 2982
         },
         {
          "commits": 5790,
          "date": "2014-11-24",
          "issues": 1530,
          "pull requests": 2984
         },
         {
          "commits": 5804,
          "date": "2014-11-25",
          "issues": 1531,
          "pull requests": 2993
         },
         {
          "commits": 5830,
          "date": "2014-11-26",
          "issues": 1539,
          "pull requests": 2996
         },
         {
          "commits": 5836,
          "date": "2014-11-27",
          "issues": 1539,
          "pull requests": 3000
         },
         {
          "commits": 5842,
          "date": "2014-11-28",
          "issues": 1539,
          "pull requests": 3005
         },
         {
          "commits": 5843,
          "date": "2014-11-29",
          "issues": 1539,
          "pull requests": 3007
         },
         {
          "commits": 5844,
          "date": "2014-11-30",
          "issues": 1540,
          "pull requests": 3009
         },
         {
          "commits": 5854,
          "date": "2014-12-01",
          "issues": 1540,
          "pull requests": 3013
         },
         {
          "commits": 5865,
          "date": "2014-12-02",
          "issues": 1541,
          "pull requests": 3019
         },
         {
          "commits": 5873,
          "date": "2014-12-03",
          "issues": 1542,
          "pull requests": 3025
         },
         {
          "commits": 5881,
          "date": "2014-12-04",
          "issues": 1544,
          "pull requests": 3028
         },
         {
          "commits": 5892,
          "date": "2014-12-05",
          "issues": 1545,
          "pull requests": 3031
         },
         {
          "commits": 5898,
          "date": "2014-12-06",
          "issues": 1545,
          "pull requests": 3034
         },
         {
          "commits": 5900,
          "date": "2014-12-07",
          "issues": 1545,
          "pull requests": 3039
         },
         {
          "commits": 5909,
          "date": "2014-12-08",
          "issues": 1546,
          "pull requests": 3042
         },
         {
          "commits": 5918,
          "date": "2014-12-09",
          "issues": 1547,
          "pull requests": 3047
         },
         {
          "commits": 5920,
          "date": "2014-12-10",
          "issues": 1548,
          "pull requests": 3047
         },
         {
          "commits": 5934,
          "date": "2014-12-11",
          "issues": 1550,
          "pull requests": 3053
         },
         {
          "commits": 5942,
          "date": "2014-12-12",
          "issues": 1550,
          "pull requests": 3056
         },
         {
          "commits": 5943,
          "date": "2014-12-13",
          "issues": 1551,
          "pull requests": 3061
         },
         {
          "commits": 5944,
          "date": "2014-12-14",
          "issues": 1551,
          "pull requests": 3061
         },
         {
          "commits": 5948,
          "date": "2014-12-15",
          "issues": 1551,
          "pull requests": 3066
         },
         {
          "commits": 5966,
          "date": "2014-12-16",
          "issues": 1551,
          "pull requests": 3076
         },
         {
          "commits": 5972,
          "date": "2014-12-17",
          "issues": 1553,
          "pull requests": 3083
         },
         {
          "commits": 5973,
          "date": "2014-12-18",
          "issues": 1553,
          "pull requests": 3086
         },
         {
          "commits": 5988,
          "date": "2014-12-19",
          "issues": 1553,
          "pull requests": 3093
         },
         {
          "commits": 5993,
          "date": "2014-12-20",
          "issues": 1553,
          "pull requests": 3098
         },
         {
          "commits": 5995,
          "date": "2014-12-21",
          "issues": 1553,
          "pull requests": 3103
         },
         {
          "commits": 5999,
          "date": "2014-12-22",
          "issues": 1554,
          "pull requests": 3104
         },
         {
          "commits": 6010,
          "date": "2014-12-23",
          "issues": 1554,
          "pull requests": 3109
         },
         {
          "commits": 6012,
          "date": "2014-12-24",
          "issues": 1555,
          "pull requests": 3110
         },
         {
          "commits": 6013,
          "date": "2014-12-25",
          "issues": 1556,
          "pull requests": 3112
         },
         {
          "commits": 6016,
          "date": "2014-12-26",
          "issues": 1556,
          "pull requests": 3113
         },
         {
          "commits": 6031,
          "date": "2014-12-27",
          "issues": 1558,
          "pull requests": 3118
         },
         {
          "commits": 6032,
          "date": "2014-12-28",
          "issues": 1560,
          "pull requests": 3122
         },
         {
          "commits": 6042,
          "date": "2014-12-29",
          "issues": 1562,
          "pull requests": 3127
         },
         {
          "commits": 6050,
          "date": "2014-12-30",
          "issues": 1567,
          "pull requests": 3130
         },
         {
          "commits": 6059,
          "date": "2014-12-31",
          "issues": 1568,
          "pull requests": 3134
         },
         {
          "commits": 6060,
          "date": "2015-01-01",
          "issues": 1569,
          "pull requests": 3137
         },
         {
          "commits": 6076,
          "date": "2015-01-02",
          "issues": 1569,
          "pull requests": 3138
         },
         {
          "commits": 6079,
          "date": "2015-01-03",
          "issues": 1569,
          "pull requests": 3139
         },
         {
          "commits": 6085,
          "date": "2015-01-04",
          "issues": 1570,
          "pull requests": 3141
         },
         {
          "commits": 6104,
          "date": "2015-01-05",
          "issues": 1571,
          "pull requests": 3142
         },
         {
          "commits": 6112,
          "date": "2015-01-06",
          "issues": 1573,
          "pull requests": 3146
         },
         {
          "commits": 6123,
          "date": "2015-01-07",
          "issues": 1573,
          "pull requests": 3150
         },
         {
          "commits": 6133,
          "date": "2015-01-08",
          "issues": 1574,
          "pull requests": 3154
         },
         {
          "commits": 6135,
          "date": "2015-01-09",
          "issues": 1579,
          "pull requests": 3158
         },
         {
          "commits": 6139,
          "date": "2015-01-10",
          "issues": 1581,
          "pull requests": 3161
         },
         {
          "commits": 6140,
          "date": "2015-01-11",
          "issues": 1583,
          "pull requests": 3163
         },
         {
          "commits": 6148,
          "date": "2015-01-12",
          "issues": 1586,
          "pull requests": 3168
         },
         {
          "commits": 6151,
          "date": "2015-01-13",
          "issues": 1587,
          "pull requests": 3169
         },
         {
          "commits": 6164,
          "date": "2015-01-14",
          "issues": 1592,
          "pull requests": 3172
         },
         {
          "commits": 6165,
          "date": "2015-01-15",
          "issues": 1596,
          "pull requests": 3176
         },
         {
          "commits": 6173,
          "date": "2015-01-16",
          "issues": 1597,
          "pull requests": 3179
         },
         {
          "commits": 6176,
          "date": "2015-01-17",
          "issues": 1597,
          "pull requests": 3179
         },
         {
          "commits": 6176,
          "date": "2015-01-18",
          "issues": 1597,
          "pull requests": 3179
         },
         {
          "commits": 6179,
          "date": "2015-01-19",
          "issues": 1599,
          "pull requests": 3181
         },
         {
          "commits": 6189,
          "date": "2015-01-20",
          "issues": 1601,
          "pull requests": 3184
         },
         {
          "commits": 6192,
          "date": "2015-01-21",
          "issues": 1601,
          "pull requests": 3185
         },
         {
          "commits": 6192,
          "date": "2015-01-22",
          "issues": 1601,
          "pull requests": 3185
         },
         {
          "commits": 6194,
          "date": "2015-01-23",
          "issues": 1603,
          "pull requests": 3192
         },
         {
          "commits": 6195,
          "date": "2015-01-24",
          "issues": 1604,
          "pull requests": 3194
         },
         {
          "commits": 6197,
          "date": "2015-01-25",
          "issues": 1604,
          "pull requests": 3197
         },
         {
          "commits": 6205,
          "date": "2015-01-26",
          "issues": 1605,
          "pull requests": 3199
         },
         {
          "commits": 6205,
          "date": "2015-01-27",
          "issues": 1605,
          "pull requests": 3199
         },
         {
          "commits": 6207,
          "date": "2015-01-28",
          "issues": 1605,
          "pull requests": 3201
         },
         {
          "commits": 6213,
          "date": "2015-01-29",
          "issues": 1606,
          "pull requests": 3201
         },
         {
          "commits": 6214,
          "date": "2015-01-30",
          "issues": 1608,
          "pull requests": 3202
         },
         {
          "commits": 6228,
          "date": "2015-01-31",
          "issues": 1609,
          "pull requests": 3207
         },
         {
          "commits": 6233,
          "date": "2015-02-01",
          "issues": 1609,
          "pull requests": 3208
         },
         {
          "commits": 6235,
          "date": "2015-02-02",
          "issues": 1611,
          "pull requests": 3210
         },
         {
          "commits": 6246,
          "date": "2015-02-03",
          "issues": 1614,
          "pull requests": 3212
         },
         {
          "commits": 6258,
          "date": "2015-02-04",
          "issues": 1616,
          "pull requests": 3219
         },
         {
          "commits": 6260,
          "date": "2015-02-05",
          "issues": 1617,
          "pull requests": 3220
         },
         {
          "commits": 6263,
          "date": "2015-02-06",
          "issues": 1618,
          "pull requests": 3221
         },
         {
          "commits": 6263,
          "date": "2015-02-07",
          "issues": 1618,
          "pull requests": 3221
         },
         {
          "commits": 6264,
          "date": "2015-02-08",
          "issues": 1618,
          "pull requests": 3225
         },
         {
          "commits": 6268,
          "date": "2015-02-09",
          "issues": 1620,
          "pull requests": 3228
         },
         {
          "commits": 6270,
          "date": "2015-02-10",
          "issues": 1623,
          "pull requests": 3231
         },
         {
          "commits": 6271,
          "date": "2015-02-11",
          "issues": 1624,
          "pull requests": 3231
         },
         {
          "commits": 6271,
          "date": "2015-02-12",
          "issues": 1624,
          "pull requests": 3231
         },
         {
          "commits": 6272,
          "date": "2015-02-13",
          "issues": 1625,
          "pull requests": 3231
         },
         {
          "commits": 6273,
          "date": "2015-02-14",
          "issues": 1626,
          "pull requests": 3232
         },
         {
          "commits": 6274,
          "date": "2015-02-15",
          "issues": 1627,
          "pull requests": 3232
         },
         {
          "commits": 6276,
          "date": "2015-02-16",
          "issues": 1628,
          "pull requests": 3232
         },
         {
          "commits": 6277,
          "date": "2015-02-17",
          "issues": 1631,
          "pull requests": 3233
         },
         {
          "commits": 6278,
          "date": "2015-02-18",
          "issues": 1632,
          "pull requests": 3235
         },
         {
          "commits": 6278,
          "date": "2015-02-19",
          "issues": 1634,
          "pull requests": 3235
         },
         {
          "commits": 6279,
          "date": "2015-02-20",
          "issues": 1635,
          "pull requests": 3238
         },
         {
          "commits": 6281,
          "date": "2015-02-21",
          "issues": 1636,
          "pull requests": 3242
         },
         {
          "commits": 6281,
          "date": "2015-02-22",
          "issues": 1636,
          "pull requests": 3242
         },
         {
          "commits": 6285,
          "date": "2015-02-23",
          "issues": 1637,
          "pull requests": 3244
         },
         {
          "commits": 6288,
          "date": "2015-02-24",
          "issues": 1639,
          "pull requests": 3247
         },
         {
          "commits": 6291,
          "date": "2015-02-25",
          "issues": 1641,
          "pull requests": 3249
         },
         {
          "commits": 6299,
          "date": "2015-02-26",
          "issues": 1641,
          "pull requests": 3254
         },
         {
          "commits": 6299,
          "date": "2015-02-27",
          "issues": 1641,
          "pull requests": 3254
         },
         {
          "commits": 6299,
          "date": "2015-02-28",
          "issues": 1641,
          "pull requests": 3254
         },
         {
          "commits": 6300,
          "date": "2015-03-01",
          "issues": 1642,
          "pull requests": 3255
         },
         {
          "commits": 6301,
          "date": "2015-03-02",
          "issues": 1643,
          "pull requests": 3256
         },
         {
          "commits": 6307,
          "date": "2015-03-03",
          "issues": 1645,
          "pull requests": 3259
         },
         {
          "commits": 6307,
          "date": "2015-03-04",
          "issues": 1645,
          "pull requests": 3259
         },
         {
          "commits": 6310,
          "date": "2015-03-05",
          "issues": 1646,
          "pull requests": 3261
         },
         {
          "commits": 6331,
          "date": "2015-03-06",
          "issues": 1647,
          "pull requests": 3266
         },
         {
          "commits": 6332,
          "date": "2015-03-07",
          "issues": 1650,
          "pull requests": 3267
         },
         {
          "commits": 6332,
          "date": "2015-03-08",
          "issues": 1650,
          "pull requests": 3267
         },
         {
          "commits": 6341,
          "date": "2015-03-09",
          "issues": 1650,
          "pull requests": 3269
         },
         {
          "commits": 6342,
          "date": "2015-03-10",
          "issues": 1652,
          "pull requests": 3270
         },
         {
          "commits": 6349,
          "date": "2015-03-11",
          "issues": 1653,
          "pull requests": 3273
         },
         {
          "commits": 6358,
          "date": "2015-03-12",
          "issues": 1654,
          "pull requests": 3277
         },
         {
          "commits": 6364,
          "date": "2015-03-13",
          "issues": 1656,
          "pull requests": 3282
         },
         {
          "commits": 6364,
          "date": "2015-03-14",
          "issues": 1656,
          "pull requests": 3282
         },
         {
          "commits": 6364,
          "date": "2015-03-15",
          "issues": 1656,
          "pull requests": 3282
         },
         {
          "commits": 6368,
          "date": "2015-03-16",
          "issues": 1661,
          "pull requests": 3284
         },
         {
          "commits": 6372,
          "date": "2015-03-17",
          "issues": 1664,
          "pull requests": 3289
         },
         {
          "commits": 6373,
          "date": "2015-03-18",
          "issues": 1665,
          "pull requests": 3293
         },
         {
          "commits": 6373,
          "date": "2015-03-19",
          "issues": 1665,
          "pull requests": 3293
         },
         {
          "commits": 6377,
          "date": "2015-03-20",
          "issues": 1665,
          "pull requests": 3293
         },
         {
          "commits": 6380,
          "date": "2015-03-21",
          "issues": 1666,
          "pull requests": 3296
         },
         {
          "commits": 6382,
          "date": "2015-03-22",
          "issues": 1667,
          "pull requests": 3300
         },
         {
          "commits": 6382,
          "date": "2015-03-23",
          "issues": 1667,
          "pull requests": 3300
         },
         {
          "commits": 6401,
          "date": "2015-03-24",
          "issues": 1667,
          "pull requests": 3303
         },
         {
          "commits": 6403,
          "date": "2015-03-25",
          "issues": 1668,
          "pull requests": 3304
         },
         {
          "commits": 6408,
          "date": "2015-03-26",
          "issues": 1668,
          "pull requests": 3307
         },
         {
          "commits": 6413,
          "date": "2015-03-27",
          "issues": 1668,
          "pull requests": 3312
         },
         {
          "commits": 6413,
          "date": "2015-03-28",
          "issues": 1668,
          "pull requests": 3312
         },
         {
          "commits": 6416,
          "date": "2015-03-29",
          "issues": 1668,
          "pull requests": 3313
         },
         {
          "commits": 6419,
          "date": "2015-03-30",
          "issues": 1669,
          "pull requests": 3313
         },
         {
          "commits": 6419,
          "date": "2015-03-31",
          "issues": 1669,
          "pull requests": 3313
         },
         {
          "commits": 6431,
          "date": "2015-04-01",
          "issues": 1669,
          "pull requests": 3316
         },
         {
          "commits": 6432,
          "date": "2015-04-02",
          "issues": 1670,
          "pull requests": 3320
         },
         {
          "commits": 6434,
          "date": "2015-04-03",
          "issues": 1670,
          "pull requests": 3324
         },
         {
          "commits": 6435,
          "date": "2015-04-04",
          "issues": 1670,
          "pull requests": 3326
         },
         {
          "commits": 6435,
          "date": "2015-04-05",
          "issues": 1670,
          "pull requests": 3326
         },
         {
          "commits": 6436,
          "date": "2015-04-06",
          "issues": 1671,
          "pull requests": 3328
         },
         {
          "commits": 6438,
          "date": "2015-04-07",
          "issues": 1672,
          "pull requests": 3330
         },
         {
          "commits": 6444,
          "date": "2015-04-08",
          "issues": 1675,
          "pull requests": 3331
         },
         {
          "commits": 6446,
          "date": "2015-04-09",
          "issues": 1675,
          "pull requests": 3335
         },
         {
          "commits": 6449,
          "date": "2015-04-10",
          "issues": 1676,
          "pull requests": 3345
         },
         {
          "commits": 6449,
          "date": "2015-04-11",
          "issues": 1676,
          "pull requests": 3345
         },
         {
          "commits": 6454,
          "date": "2015-04-12",
          "issues": 1677,
          "pull requests": 3346
         },
         {
          "commits": 6458,
          "date": "2015-04-13",
          "issues": 1677,
          "pull requests": 3349
         },
         {
          "commits": 6461,
          "date": "2015-04-14",
          "issues": 1678,
          "pull requests": 3352
         },
         {
          "commits": 6468,
          "date": "2015-04-15",
          "issues": 1681,
          "pull requests": 3353
         },
         {
          "commits": 6471,
          "date": "2015-04-16",
          "issues": 1681,
          "pull requests": 3357
         },
         {
          "commits": 6472,
          "date": "2015-04-17",
          "issues": 1682,
          "pull requests": 3358
         },
         {
          "commits": 6472,
          "date": "2015-04-18",
          "issues": 1682,
          "pull requests": 3358
         },
         {
          "commits": 6474,
          "date": "2015-04-19",
          "issues": 1683,
          "pull requests": 3361
         },
         {
          "commits": 6497,
          "date": "2015-04-20",
          "issues": 1684,
          "pull requests": 3367
         },
         {
          "commits": 6501,
          "date": "2015-04-21",
          "issues": 1687,
          "pull requests": 3369
         },
         {
          "commits": 6505,
          "date": "2015-04-22",
          "issues": 1688,
          "pull requests": 3375
         },
         {
          "commits": 6510,
          "date": "2015-04-23",
          "issues": 1688,
          "pull requests": 3377
         },
         {
          "commits": 6519,
          "date": "2015-04-24",
          "issues": 1689,
          "pull requests": 3380
         },
         {
          "commits": 6520,
          "date": "2015-04-25",
          "issues": 1689,
          "pull requests": 3386
         },
         {
          "commits": 6522,
          "date": "2015-04-26",
          "issues": 1691,
          "pull requests": 3387
         },
         {
          "commits": 6523,
          "date": "2015-04-27",
          "issues": 1693,
          "pull requests": 3388
         },
         {
          "commits": 6538,
          "date": "2015-04-28",
          "issues": 1694,
          "pull requests": 3393
         },
         {
          "commits": 6550,
          "date": "2015-04-29",
          "issues": 1696,
          "pull requests": 3397
         },
         {
          "commits": 6560,
          "date": "2015-04-30",
          "issues": 1696,
          "pull requests": 3400
         },
         {
          "commits": 6570,
          "date": "2015-05-01",
          "issues": 1699,
          "pull requests": 3402
         },
         {
          "commits": 6573,
          "date": "2015-05-02",
          "issues": 1700,
          "pull requests": 3405
         },
         {
          "commits": 6574,
          "date": "2015-05-03",
          "issues": 1702,
          "pull requests": 3406
         },
         {
          "commits": 6588,
          "date": "2015-05-04",
          "issues": 1702,
          "pull requests": 3410
         },
         {
          "commits": 6594,
          "date": "2015-05-05",
          "issues": 1703,
          "pull requests": 3412
         },
         {
          "commits": 6602,
          "date": "2015-05-06",
          "issues": 1706,
          "pull requests": 3415
         },
         {
          "commits": 6605,
          "date": "2015-05-07",
          "issues": 1707,
          "pull requests": 3416
         },
         {
          "commits": 6606,
          "date": "2015-05-08",
          "issues": 1708,
          "pull requests": 3418
         },
         {
          "commits": 6609,
          "date": "2015-05-09",
          "issues": 1709,
          "pull requests": 3418
         },
         {
          "commits": 6611,
          "date": "2015-05-10",
          "issues": 1709,
          "pull requests": 3418
         },
         {
          "commits": 6614,
          "date": "2015-05-11",
          "issues": 1709,
          "pull requests": 3419
         },
         {
          "commits": 6628,
          "date": "2015-05-12",
          "issues": 1709,
          "pull requests": 3424
         },
         {
          "commits": 6635,
          "date": "2015-05-13",
          "issues": 1710,
          "pull requests": 3431
         },
         {
          "commits": 6654,
          "date": "2015-05-14",
          "issues": 1711,
          "pull requests": 3436
         },
         {
          "commits": 6667,
          "date": "2015-05-15",
          "issues": 1712,
          "pull requests": 3440
         },
         {
          "commits": 6672,
          "date": "2015-05-16",
          "issues": 1713,
          "pull requests": 3443
         },
         {
          "commits": 6672,
          "date": "2015-05-17",
          "issues": 1713,
          "pull requests": 3443
         },
         {
          "commits": 6686,
          "date": "2015-05-18",
          "issues": 1713,
          "pull requests": 3448
         },
         {
          "commits": 6693,
          "date": "2015-05-19",
          "issues": 1714,
          "pull requests": 3453
         },
         {
          "commits": 6699,
          "date": "2015-05-20",
          "issues": 1715,
          "pull requests": 3455
         },
         {
          "commits": 6702,
          "date": "2015-05-21",
          "issues": 1716,
          "pull requests": 3458
         },
         {
          "commits": 6706,
          "date": "2015-05-22",
          "issues": 1717,
          "pull requests": 3462
         },
         {
          "commits": 6707,
          "date": "2015-05-23",
          "issues": 1719,
          "pull requests": 3464
         },
         {
          "commits": 6709,
          "date": "2015-05-24",
          "issues": 1720,
          "pull requests": 3464
         },
         {
          "commits": 6709,
          "date": "2015-05-25",
          "issues": 1720,
          "pull requests": 3464
         },
         {
          "commits": 6719,
          "date": "2015-05-26",
          "issues": 1721,
          "pull requests": 3467
         },
         {
          "commits": 6735,
          "date": "2015-05-27",
          "issues": 1723,
          "pull requests": 3471
         },
         {
          "commits": 6739,
          "date": "2015-05-28",
          "issues": 1724,
          "pull requests": 3473
         },
         {
          "commits": 6741,
          "date": "2015-05-29",
          "issues": 1724,
          "pull requests": 3473
         },
         {
          "commits": 6741,
          "date": "2015-05-30",
          "issues": 1724,
          "pull requests": 3473
         },
         {
          "commits": 6742,
          "date": "2015-05-31",
          "issues": 1724,
          "pull requests": 3477
         },
         {
          "commits": 6751,
          "date": "2015-06-01",
          "issues": 1725,
          "pull requests": 3483
         },
         {
          "commits": 6760,
          "date": "2015-06-02",
          "issues": 1725,
          "pull requests": 3488
         },
         {
          "commits": 6769,
          "date": "2015-06-03",
          "issues": 1726,
          "pull requests": 3493
         },
         {
          "commits": 6788,
          "date": "2015-06-04",
          "issues": 1726,
          "pull requests": 3502
         },
         {
          "commits": 6794,
          "date": "2015-06-05",
          "issues": 1726,
          "pull requests": 3505
         },
         {
          "commits": 6801,
          "date": "2015-06-06",
          "issues": 1727,
          "pull requests": 3507
         },
         {
          "commits": 6802,
          "date": "2015-06-07",
          "issues": 1727,
          "pull requests": 3510
         },
         {
          "commits": 6805,
          "date": "2015-06-08",
          "issues": 1730,
          "pull requests": 3515
         },
         {
          "commits": 6811,
          "date": "2015-06-09",
          "issues": 1731,
          "pull requests": 3520
         },
         {
          "commits": 6823,
          "date": "2015-06-10",
          "issues": 1733,
          "pull requests": 3524
         },
         {
          "commits": 6832,
          "date": "2015-06-11",
          "issues": 1734,
          "pull requests": 3524
         },
         {
          "commits": 6837,
          "date": "2015-06-12",
          "issues": 1736,
          "pull requests": 3528
         },
         {
          "commits": 6838,
          "date": "2015-06-13",
          "issues": 1736,
          "pull requests": 3530
         },
         {
          "commits": 6839,
          "date": "2015-06-14",
          "issues": 1736,
          "pull requests": 3531
         },
         {
          "commits": 6847,
          "date": "2015-06-15",
          "issues": 1736,
          "pull requests": 3534
         },
         {
          "commits": 6856,
          "date": "2015-06-16",
          "issues": 1741,
          "pull requests": 3539
         },
         {
          "commits": 6870,
          "date": "2015-06-17",
          "issues": 1742,
          "pull requests": 3541
         },
         {
          "commits": 6875,
          "date": "2015-06-18",
          "issues": 1743,
          "pull requests": 3544
         },
         {
          "commits": 6884,
          "date": "2015-06-19",
          "issues": 1745,
          "pull requests": 3550
         },
         {
          "commits": 6886,
          "date": "2015-06-20",
          "issues": 1746,
          "pull requests": 3553
         },
         {
          "commits": 6888,
          "date": "2015-06-21",
          "issues": 1746,
          "pull requests": 3556
         },
         {
          "commits": 6896,
          "date": "2015-06-22",
          "issues": 1748,
          "pull requests": 3558
         },
         {
          "commits": 6898,
          "date": "2015-06-23",
          "issues": 1750,
          "pull requests": 3561
         },
         {
          "commits": 6899,
          "date": "2015-06-24",
          "issues": 1753,
          "pull requests": 3569
         },
         {
          "commits": 6906,
          "date": "2015-06-25",
          "issues": 1753,
          "pull requests": 3569
         },
         {
          "commits": 6910,
          "date": "2015-06-26",
          "issues": 1753,
          "pull requests": 3573
         },
         {
          "commits": 6910,
          "date": "2015-06-27",
          "issues": 1753,
          "pull requests": 3573
         },
         {
          "commits": 6910,
          "date": "2015-06-28",
          "issues": 1753,
          "pull requests": 3573
         },
         {
          "commits": 6911,
          "date": "2015-06-29",
          "issues": 1753,
          "pull requests": 3577
         },
         {
          "commits": 6920,
          "date": "2015-06-30",
          "issues": 1754,
          "pull requests": 3579
         },
         {
          "commits": 6926,
          "date": "2015-07-01",
          "issues": 1755,
          "pull requests": 3581
         },
         {
          "commits": 6941,
          "date": "2015-07-02",
          "issues": 1756,
          "pull requests": 3585
         },
         {
          "commits": 6951,
          "date": "2015-07-03",
          "issues": 1757,
          "pull requests": 3591
         },
         {
          "commits": 6951,
          "date": "2015-07-04",
          "issues": 1757,
          "pull requests": 3591
         },
         {
          "commits": 6952,
          "date": "2015-07-05",
          "issues": 1757,
          "pull requests": 3591
         },
         {
          "commits": 6956,
          "date": "2015-07-06",
          "issues": 1757,
          "pull requests": 3597
         },
         {
          "commits": 6959,
          "date": "2015-07-07",
          "issues": 1763,
          "pull requests": 3601
         },
         {
          "commits": 6962,
          "date": "2015-07-08",
          "issues": 1764,
          "pull requests": 3606
         },
         {
          "commits": 6964,
          "date": "2015-07-09",
          "issues": 1767,
          "pull requests": 3612
         },
         {
          "commits": 6979,
          "date": "2015-07-10",
          "issues": 1767,
          "pull requests": 3616
         },
         {
          "commits": 6982,
          "date": "2015-07-11",
          "issues": 1767,
          "pull requests": 3622
         },
         {
          "commits": 6984,
          "date": "2015-07-12",
          "issues": 1769,
          "pull requests": 3623
         },
         {
          "commits": 6989,
          "date": "2015-07-13",
          "issues": 1771,
          "pull requests": 3625
         },
         {
          "commits": 6994,
          "date": "2015-07-14",
          "issues": 1775,
          "pull requests": 3630
         },
         {
          "commits": 7005,
          "date": "2015-07-15",
          "issues": 1777,
          "pull requests": 3634
         },
         {
          "commits": 7006,
          "date": "2015-07-16",
          "issues": 1777,
          "pull requests": 3639
         },
         {
          "commits": 7011,
          "date": "2015-07-17",
          "issues": 1778,
          "pull requests": 3642
         },
         {
          "commits": 7016,
          "date": "2015-07-18",
          "issues": 1780,
          "pull requests": 3643
         },
         {
          "commits": 7017,
          "date": "2015-07-19",
          "issues": 1781,
          "pull requests": 3643
         },
         {
          "commits": 7033,
          "date": "2015-07-20",
          "issues": 1781,
          "pull requests": 3643
         },
         {
          "commits": 7036,
          "date": "2015-07-21",
          "issues": 1782,
          "pull requests": 3643
         },
         {
          "commits": 7040,
          "date": "2015-07-22",
          "issues": 1785,
          "pull requests": 3646
         },
         {
          "commits": 7046,
          "date": "2015-07-23",
          "issues": 1785,
          "pull requests": 3648
         },
         {
          "commits": 7051,
          "date": "2015-07-24",
          "issues": 1786,
          "pull requests": 3650
         },
         {
          "commits": 7052,
          "date": "2015-07-25",
          "issues": 1787,
          "pull requests": 3650
         },
         {
          "commits": 7052,
          "date": "2015-07-26",
          "issues": 1787,
          "pull requests": 3650
         },
         {
          "commits": 7070,
          "date": "2015-07-27",
          "issues": 1788,
          "pull requests": 3653
         },
         {
          "commits": 7077,
          "date": "2015-07-28",
          "issues": 1789,
          "pull requests": 3657
         },
         {
          "commits": 7081,
          "date": "2015-07-29",
          "issues": 1792,
          "pull requests": 3657
         },
         {
          "commits": 7082,
          "date": "2015-07-30",
          "issues": 1794,
          "pull requests": 3658
         },
         {
          "commits": 7087,
          "date": "2015-07-31",
          "issues": 1796,
          "pull requests": 3661
         },
         {
          "commits": 7089,
          "date": "2015-08-01",
          "issues": 1797,
          "pull requests": 3664
         },
         {
          "commits": 7089,
          "date": "2015-08-02",
          "issues": 1797,
          "pull requests": 3664
         },
         {
          "commits": 7101,
          "date": "2015-08-03",
          "issues": 1799,
          "pull requests": 3667
         },
         {
          "commits": 7105,
          "date": "2015-08-04",
          "issues": 1803,
          "pull requests": 3670
         },
         {
          "commits": 7113,
          "date": "2015-08-05",
          "issues": 1806,
          "pull requests": 3673
         },
         {
          "commits": 7119,
          "date": "2015-08-06",
          "issues": 1809,
          "pull requests": 3677
         },
         {
          "commits": 7126,
          "date": "2015-08-07",
          "issues": 1810,
          "pull requests": 3680
         },
         {
          "commits": 7129,
          "date": "2015-08-08",
          "issues": 1813,
          "pull requests": 3681
         },
         {
          "commits": 7129,
          "date": "2015-08-09",
          "issues": 1813,
          "pull requests": 3681
         },
         {
          "commits": 7138,
          "date": "2015-08-10",
          "issues": 1815,
          "pull requests": 3683
         },
         {
          "commits": 7147,
          "date": "2015-08-11",
          "issues": 1817,
          "pull requests": 3688
         },
         {
          "commits": 7149,
          "date": "2015-08-12",
          "issues": 1817,
          "pull requests": 3689
         },
         {
          "commits": 7150,
          "date": "2015-08-13",
          "issues": 1819,
          "pull requests": 3690
         },
         {
          "commits": 7153,
          "date": "2015-08-14",
          "issues": 1820,
          "pull requests": 3692
         },
         {
          "commits": 7153,
          "date": "2015-08-15",
          "issues": 1821,
          "pull requests": 3692
         },
         {
          "commits": 7153,
          "date": "2015-08-16",
          "issues": 1821,
          "pull requests": 3692
         },
         {
          "commits": 7159,
          "date": "2015-08-17",
          "issues": 1822,
          "pull requests": 3696
         },
         {
          "commits": 7161,
          "date": "2015-08-18",
          "issues": 1824,
          "pull requests": 3699
         },
         {
          "commits": 7168,
          "date": "2015-08-19",
          "issues": 1827,
          "pull requests": 3699
         },
         {
          "commits": 7173,
          "date": "2015-08-20",
          "issues": 1828,
          "pull requests": 3701
         },
         {
          "commits": 7175,
          "date": "2015-08-21",
          "issues": 1828,
          "pull requests": 3703
         },
         {
          "commits": 7186,
          "date": "2015-08-22",
          "issues": 1829,
          "pull requests": 3703
         },
         {
          "commits": 7187,
          "date": "2015-08-23",
          "issues": 1830,
          "pull requests": 3704
         },
         {
          "commits": 7189,
          "date": "2015-08-24",
          "issues": 1833,
          "pull requests": 3705
         },
         {
          "commits": 7195,
          "date": "2015-08-25",
          "issues": 1833,
          "pull requests": 3708
         },
         {
          "commits": 7198,
          "date": "2015-08-26",
          "issues": 1833,
          "pull requests": 3709
         },
         {
          "commits": 7198,
          "date": "2015-08-27",
          "issues": 1833,
          "pull requests": 3709
         },
         {
          "commits": 7198,
          "date": "2015-08-28",
          "issues": 1833,
          "pull requests": 3709
         },
         {
          "commits": 7200,
          "date": "2015-08-29",
          "issues": 1834,
          "pull requests": 3711
         },
         {
          "commits": 7200,
          "date": "2015-08-30",
          "issues": 1834,
          "pull requests": 3711
         },
         {
          "commits": 7203,
          "date": "2015-08-31",
          "issues": 1839,
          "pull requests": 3715
         },
         {
          "commits": 7204,
          "date": "2015-09-01",
          "issues": 1843,
          "pull requests": 3717
         },
         {
          "commits": 7219,
          "date": "2015-09-02",
          "issues": 1845,
          "pull requests": 3724
         },
         {
          "commits": 7235,
          "date": "2015-09-03",
          "issues": 1848,
          "pull requests": 3728
         },
         {
          "commits": 7246,
          "date": "2015-09-04",
          "issues": 1849,
          "pull requests": 3733
         },
         {
          "commits": 7246,
          "date": "2015-09-05",
          "issues": 1849,
          "pull requests": 3733
         },
         {
          "commits": 7248,
          "date": "2015-09-06",
          "issues": 1849,
          "pull requests": 3736
         },
         {
          "commits": 7252,
          "date": "2015-09-07",
          "issues": 1849,
          "pull requests": 3743
         },
         {
          "commits": 7261,
          "date": "2015-09-08",
          "issues": 1850,
          "pull requests": 3745
         },
         {
          "commits": 7261,
          "date": "2015-09-09",
          "issues": 1850,
          "pull requests": 3745
         },
         {
          "commits": 7261,
          "date": "2015-09-10",
          "issues": 1850,
          "pull requests": 3745
         },
         {
          "commits": 7261,
          "date": "2015-09-11",
          "issues": 1850,
          "pull requests": 3745
         },
         {
          "commits": 7264,
          "date": "2015-09-12",
          "issues": 1851,
          "pull requests": 3748
         },
         {
          "commits": 7266,
          "date": "2015-09-13",
          "issues": 1851,
          "pull requests": 3750
         },
         {
          "commits": 7267,
          "date": "2015-09-14",
          "issues": 1852,
          "pull requests": 3752
         },
         {
          "commits": 7268,
          "date": "2015-09-15",
          "issues": 1854,
          "pull requests": 3753
         },
         {
          "commits": 7287,
          "date": "2015-09-16",
          "issues": 1859,
          "pull requests": 3755
         },
         {
          "commits": 7293,
          "date": "2015-09-17",
          "issues": 1859,
          "pull requests": 3760
         },
         {
          "commits": 7300,
          "date": "2015-09-18",
          "issues": 1860,
          "pull requests": 3766
         },
         {
          "commits": 7302,
          "date": "2015-09-19",
          "issues": 1863,
          "pull requests": 3766
         },
         {
          "commits": 7303,
          "date": "2015-09-20",
          "issues": 1865,
          "pull requests": 3768
         },
         {
          "commits": 7311,
          "date": "2015-09-21",
          "issues": 1865,
          "pull requests": 3771
         },
         {
          "commits": 7320,
          "date": "2015-09-22",
          "issues": 1867,
          "pull requests": 3772
         },
         {
          "commits": 7331,
          "date": "2015-09-23",
          "issues": 1868,
          "pull requests": 3774
         },
         {
          "commits": 7336,
          "date": "2015-09-24",
          "issues": 1870,
          "pull requests": 3778
         },
         {
          "commits": 7342,
          "date": "2015-09-25",
          "issues": 1870,
          "pull requests": 3781
         },
         {
          "commits": 7345,
          "date": "2015-09-26",
          "issues": 1871,
          "pull requests": 3782
         },
         {
          "commits": 7346,
          "date": "2015-09-27",
          "issues": 1872,
          "pull requests": 3784
         },
         {
          "commits": 7352,
          "date": "2015-09-28",
          "issues": 1873,
          "pull requests": 3788
         },
         {
          "commits": 7362,
          "date": "2015-09-29",
          "issues": 1874,
          "pull requests": 3790
         },
         {
          "commits": 7371,
          "date": "2015-09-30",
          "issues": 1875,
          "pull requests": 3793
         },
         {
          "commits": 7398,
          "date": "2015-10-01",
          "issues": 1875,
          "pull requests": 3795
         },
         {
          "commits": 7400,
          "date": "2015-10-02",
          "issues": 1877,
          "pull requests": 3799
         },
         {
          "commits": 7401,
          "date": "2015-10-03",
          "issues": 1878,
          "pull requests": 3799
         },
         {
          "commits": 7402,
          "date": "2015-10-04",
          "issues": 1882,
          "pull requests": 3799
         },
         {
          "commits": 7411,
          "date": "2015-10-05",
          "issues": 1883,
          "pull requests": 3804
         },
         {
          "commits": 7424,
          "date": "2015-10-06",
          "issues": 1886,
          "pull requests": 3810
         },
         {
          "commits": 7426,
          "date": "2015-10-07",
          "issues": 1888,
          "pull requests": 3811
         },
         {
          "commits": 7432,
          "date": "2015-10-08",
          "issues": 1890,
          "pull requests": 3816
         },
         {
          "commits": 7450,
          "date": "2015-10-09",
          "issues": 1892,
          "pull requests": 3825
         },
         {
          "commits": 7453,
          "date": "2015-10-10",
          "issues": 1893,
          "pull requests": 3829
         },
         {
          "commits": 7457,
          "date": "2015-10-11",
          "issues": 1893,
          "pull requests": 3832
         },
         {
          "commits": 7459,
          "date": "2015-10-12",
          "issues": 1895,
          "pull requests": 3835
         },
         {
          "commits": 7480,
          "date": "2015-10-13",
          "issues": 1897,
          "pull requests": 3843
         },
         {
          "commits": 7484,
          "date": "2015-10-14",
          "issues": 1899,
          "pull requests": 3850
         },
         {
          "commits": 7491,
          "date": "2015-10-15",
          "issues": 1901,
          "pull requests": 3853
         },
         {
          "commits": 7492,
          "date": "2015-10-16",
          "issues": 1903,
          "pull requests": 3855
         },
         {
          "commits": 7494,
          "date": "2015-10-17",
          "issues": 1903,
          "pull requests": 3858
         },
         {
          "commits": 7496,
          "date": "2015-10-18",
          "issues": 1905,
          "pull requests": 3862
         },
         {
          "commits": 7504,
          "date": "2015-10-19",
          "issues": 1906,
          "pull requests": 3869
         },
         {
          "commits": 7517,
          "date": "2015-10-20",
          "issues": 1907,
          "pull requests": 3871
         },
         {
          "commits": 7520,
          "date": "2015-10-21",
          "issues": 1908,
          "pull requests": 3876
         },
         {
          "commits": 7526,
          "date": "2015-10-22",
          "issues": 1909,
          "pull requests": 3879
         },
         {
          "commits": 7550,
          "date": "2015-10-23",
          "issues": 1911,
          "pull requests": 3889
         },
         {
          "commits": 7550,
          "date": "2015-10-24",
          "issues": 1911,
          "pull requests": 3889
         },
         {
          "commits": 7552,
          "date": "2015-10-25",
          "issues": 1911,
          "pull requests": 3891
         },
         {
          "commits": 7567,
          "date": "2015-10-26",
          "issues": 1911,
          "pull requests": 3892
         },
         {
          "commits": 7571,
          "date": "2015-10-27",
          "issues": 1911,
          "pull requests": 3895
         },
         {
          "commits": 7585,
          "date": "2015-10-28",
          "issues": 1912,
          "pull requests": 3898
         },
         {
          "commits": 7593,
          "date": "2015-10-29",
          "issues": 1914,
          "pull requests": 3903
         },
         {
          "commits": 7596,
          "date": "2015-10-30",
          "issues": 1914,
          "pull requests": 3908
         },
         {
          "commits": 7599,
          "date": "2015-10-31",
          "issues": 1916,
          "pull requests": 3910
         },
         {
          "commits": 7603,
          "date": "2015-11-01",
          "issues": 1916,
          "pull requests": 3912
         },
         {
          "commits": 7607,
          "date": "2015-11-02",
          "issues": 1917,
          "pull requests": 3913
         },
         {
          "commits": 7616,
          "date": "2015-11-03",
          "issues": 1917,
          "pull requests": 3918
         },
         {
          "commits": 7632,
          "date": "2015-11-04",
          "issues": 1919,
          "pull requests": 3925
         },
         {
          "commits": 7640,
          "date": "2015-11-05",
          "issues": 1922,
          "pull requests": 3930
         },
         {
          "commits": 7642,
          "date": "2015-11-06",
          "issues": 1926,
          "pull requests": 3934
         },
         {
          "commits": 7642,
          "date": "2015-11-07",
          "issues": 1926,
          "pull requests": 3934
         },
         {
          "commits": 7643,
          "date": "2015-11-08",
          "issues": 1926,
          "pull requests": 3935
         },
         {
          "commits": 7653,
          "date": "2015-11-09",
          "issues": 1930,
          "pull requests": 3940
         },
         {
          "commits": 7674,
          "date": "2015-11-10",
          "issues": 1930,
          "pull requests": 3945
         },
         {
          "commits": 7692,
          "date": "2015-11-11",
          "issues": 1931,
          "pull requests": 3953
         },
         {
          "commits": 7709,
          "date": "2015-11-12",
          "issues": 1933,
          "pull requests": 3958
         },
         {
          "commits": 7730,
          "date": "2015-11-13",
          "issues": 1938,
          "pull requests": 3966
         },
         {
          "commits": 7745,
          "date": "2015-11-14",
          "issues": 1941,
          "pull requests": 3968
         },
         {
          "commits": 7746,
          "date": "2015-11-15",
          "issues": 1941,
          "pull requests": 3970
         },
         {
          "commits": 7767,
          "date": "2015-11-16",
          "issues": 1945,
          "pull requests": 3977
         },
         {
          "commits": 7779,
          "date": "2015-11-17",
          "issues": 1949,
          "pull requests": 3986
         },
         {
          "commits": 7789,
          "date": "2015-11-18",
          "issues": 1951,
          "pull requests": 3994
         },
         {
          "commits": 7803,
          "date": "2015-11-19",
          "issues": 1951,
          "pull requests": 4001
         },
         {
          "commits": 7814,
          "date": "2015-11-20",
          "issues": 1951,
          "pull requests": 4009
         },
         {
          "commits": 7820,
          "date": "2015-11-21",
          "issues": 1952,
          "pull requests": 4010
         },
         {
          "commits": 7824,
          "date": "2015-11-22",
          "issues": 1953,
          "pull requests": 4013
         },
         {
          "commits": 7827,
          "date": "2015-11-23",
          "issues": 1955,
          "pull requests": 4018
         },
         {
          "commits": 7842,
          "date": "2015-11-24",
          "issues": 1957,
          "pull requests": 4023
         },
         {
          "commits": 7848,
          "date": "2015-11-25",
          "issues": 1959,
          "pull requests": 4027
         },
         {
          "commits": 7852,
          "date": "2015-11-26",
          "issues": 1961,
          "pull requests": 4034
         },
         {
          "commits": 7872,
          "date": "2015-11-27",
          "issues": 1966,
          "pull requests": 4041
         },
         {
          "commits": 7885,
          "date": "2015-11-28",
          "issues": 1967,
          "pull requests": 4045
         },
         {
          "commits": 7892,
          "date": "2015-11-29",
          "issues": 1968,
          "pull requests": 4046
         },
         {
          "commits": 7935,
          "date": "2015-11-30",
          "issues": 1968,
          "pull requests": 4051
         },
         {
          "commits": 7970,
          "date": "2015-12-01",
          "issues": 1970,
          "pull requests": 4062
         },
         {
          "commits": 8001,
          "date": "2015-12-02",
          "issues": 1970,
          "pull requests": 4069
         },
         {
          "commits": 8008,
          "date": "2015-12-03",
          "issues": 1974,
          "pull requests": 4073
         },
         {
          "commits": 8012,
          "date": "2015-12-04",
          "issues": 1975,
          "pull requests": 4078
         },
         {
          "commits": 8015,
          "date": "2015-12-05",
          "issues": 1977,
          "pull requests": 4078
         },
         {
          "commits": 8016,
          "date": "2015-12-06",
          "issues": 1978,
          "pull requests": 4079
         },
         {
          "commits": 8023,
          "date": "2015-12-07",
          "issues": 1980,
          "pull requests": 4084
         },
         {
          "commits": 8028,
          "date": "2015-12-08",
          "issues": 1980,
          "pull requests": 4086
         },
         {
          "commits": 8032,
          "date": "2015-12-09",
          "issues": 1983,
          "pull requests": 4091
         },
         {
          "commits": 8035,
          "date": "2015-12-10",
          "issues": 1984,
          "pull requests": 4092
         },
         {
          "commits": 8040,
          "date": "2015-12-11",
          "issues": 1985,
          "pull requests": 4092
         },
         {
          "commits": 8043,
          "date": "2015-12-12",
          "issues": 1985,
          "pull requests": 4094
         },
         {
          "commits": 8045,
          "date": "2015-12-13",
          "issues": 1987,
          "pull requests": 4096
         },
         {
          "commits": 8059,
          "date": "2015-12-14",
          "issues": 1990,
          "pull requests": 4102
         },
         {
          "commits": 8061,
          "date": "2015-12-15",
          "issues": 1991,
          "pull requests": 4104
         },
         {
          "commits": 8063,
          "date": "2015-12-16",
          "issues": 1991,
          "pull requests": 4109
         },
         {
          "commits": 8065,
          "date": "2015-12-17",
          "issues": 1992,
          "pull requests": 4112
         },
         {
          "commits": 8070,
          "date": "2015-12-18",
          "issues": 1994,
          "pull requests": 4115
         },
         {
          "commits": 8071,
          "date": "2015-12-19",
          "issues": 1996,
          "pull requests": 4115
         },
         {
          "commits": 8072,
          "date": "2015-12-20",
          "issues": 1997,
          "pull requests": 4116
         },
         {
          "commits": 8073,
          "date": "2015-12-21",
          "issues": 2001,
          "pull requests": 4119
         },
         {
          "commits": 8086,
          "date": "2015-12-22",
          "issues": 2003,
          "pull requests": 4119
         },
         {
          "commits": 8087,
          "date": "2015-12-23",
          "issues": 2006,
          "pull requests": 4119
         },
         {
          "commits": 8088,
          "date": "2015-12-24",
          "issues": 2006,
          "pull requests": 4120
         },
         {
          "commits": 8089,
          "date": "2015-12-25",
          "issues": 2007,
          "pull requests": 4123
         },
         {
          "commits": 8092,
          "date": "2015-12-26",
          "issues": 2008,
          "pull requests": 4126
         },
         {
          "commits": 8092,
          "date": "2015-12-27",
          "issues": 2008,
          "pull requests": 4126
         },
         {
          "commits": 8092,
          "date": "2015-12-28",
          "issues": 2008,
          "pull requests": 4126
         },
         {
          "commits": 8093,
          "date": "2015-12-29",
          "issues": 2008,
          "pull requests": 4127
         },
         {
          "commits": 8095,
          "date": "2015-12-30",
          "issues": 2009,
          "pull requests": 4130
         },
         {
          "commits": 8095,
          "date": "2015-12-31",
          "issues": 2009,
          "pull requests": 4130
         },
         {
          "commits": 8095,
          "date": "2016-01-01",
          "issues": 2009,
          "pull requests": 4130
         },
         {
          "commits": 8098,
          "date": "2016-01-02",
          "issues": 2010,
          "pull requests": 4131
         },
         {
          "commits": 8101,
          "date": "2016-01-03",
          "issues": 2014,
          "pull requests": 4133
         },
         {
          "commits": 8114,
          "date": "2016-01-04",
          "issues": 2017,
          "pull requests": 4141
         },
         {
          "commits": 8130,
          "date": "2016-01-05",
          "issues": 2021,
          "pull requests": 4145
         },
         {
          "commits": 8134,
          "date": "2016-01-06",
          "issues": 2023,
          "pull requests": 4146
         },
         {
          "commits": 8146,
          "date": "2016-01-07",
          "issues": 2023,
          "pull requests": 4152
         },
         {
          "commits": 8152,
          "date": "2016-01-08",
          "issues": 2026,
          "pull requests": 4158
         },
         {
          "commits": 8158,
          "date": "2016-01-09",
          "issues": 2026,
          "pull requests": 4160
         },
         {
          "commits": 8159,
          "date": "2016-01-10",
          "issues": 2027,
          "pull requests": 4161
         },
         {
          "commits": 8160,
          "date": "2016-01-11",
          "issues": 2027,
          "pull requests": 4162
         },
         {
          "commits": 8161,
          "date": "2016-01-12",
          "issues": 2029,
          "pull requests": 4163
         },
         {
          "commits": 8174,
          "date": "2016-01-13",
          "issues": 2030,
          "pull requests": 4170
         },
         {
          "commits": 8177,
          "date": "2016-01-14",
          "issues": 2033,
          "pull requests": 4174
         },
         {
          "commits": 8183,
          "date": "2016-01-15",
          "issues": 2034,
          "pull requests": 4179
         },
         {
          "commits": 8185,
          "date": "2016-01-16",
          "issues": 2036,
          "pull requests": 4179
         },
         {
          "commits": 8188,
          "date": "2016-01-17",
          "issues": 2040,
          "pull requests": 4182
         },
         {
          "commits": 8206,
          "date": "2016-01-18",
          "issues": 2042,
          "pull requests": 4190
         },
         {
          "commits": 8211,
          "date": "2016-01-19",
          "issues": 2044,
          "pull requests": 4192
         },
         {
          "commits": 8219,
          "date": "2016-01-20",
          "issues": 2045,
          "pull requests": 4195
         },
         {
          "commits": 8220,
          "date": "2016-01-21",
          "issues": 2045,
          "pull requests": 4198
         },
         {
          "commits": 8223,
          "date": "2016-01-22",
          "issues": 2049,
          "pull requests": 4203
         },
         {
          "commits": 8225,
          "date": "2016-01-23",
          "issues": 2051,
          "pull requests": 4206
         },
         {
          "commits": 8225,
          "date": "2016-01-24",
          "issues": 2051,
          "pull requests": 4206
         },
         {
          "commits": 8227,
          "date": "2016-01-25",
          "issues": 2053,
          "pull requests": 4209
         },
         {
          "commits": 8229,
          "date": "2016-01-26",
          "issues": 2055,
          "pull requests": 4210
         },
         {
          "commits": 8237,
          "date": "2016-01-27",
          "issues": 2058,
          "pull requests": 4215
         },
         {
          "commits": 8245,
          "date": "2016-01-28",
          "issues": 2062,
          "pull requests": 4220
         },
         {
          "commits": 8247,
          "date": "2016-01-29",
          "issues": 2063,
          "pull requests": 4223
         },
         {
          "commits": 8249,
          "date": "2016-01-30",
          "issues": 2063,
          "pull requests": 4223
         },
         {
          "commits": 8252,
          "date": "2016-01-31",
          "issues": 2066,
          "pull requests": 4225
         },
         {
          "commits": 8261,
          "date": "2016-02-01",
          "issues": 2072,
          "pull requests": 4228
         },
         {
          "commits": 8263,
          "date": "2016-02-02",
          "issues": 2072,
          "pull requests": 4230
         },
         {
          "commits": 8270,
          "date": "2016-02-03",
          "issues": 2074,
          "pull requests": 4234
         },
         {
          "commits": 8273,
          "date": "2016-02-04",
          "issues": 2075,
          "pull requests": 4236
         },
         {
          "commits": 8273,
          "date": "2016-02-05",
          "issues": 2075,
          "pull requests": 4236
         },
         {
          "commits": 8273,
          "date": "2016-02-06",
          "issues": 2075,
          "pull requests": 4236
         },
         {
          "commits": 8274,
          "date": "2016-02-07",
          "issues": 2076,
          "pull requests": 4238
         },
         {
          "commits": 8277,
          "date": "2016-02-08",
          "issues": 2079,
          "pull requests": 4242
         },
         {
          "commits": 8284,
          "date": "2016-02-09",
          "issues": 2082,
          "pull requests": 4247
         },
         {
          "commits": 8290,
          "date": "2016-02-10",
          "issues": 2088,
          "pull requests": 4252
         },
         {
          "commits": 8296,
          "date": "2016-02-11",
          "issues": 2094,
          "pull requests": 4261
         },
         {
          "commits": 8302,
          "date": "2016-02-12",
          "issues": 2095,
          "pull requests": 4266
         },
         {
          "commits": 8303,
          "date": "2016-02-13",
          "issues": 2096,
          "pull requests": 4268
         },
         {
          "commits": 8305,
          "date": "2016-02-14",
          "issues": 2096,
          "pull requests": 4270
         },
         {
          "commits": 8307,
          "date": "2016-02-15",
          "issues": 2097,
          "pull requests": 4272
         },
         {
          "commits": 8309,
          "date": "2016-02-16",
          "issues": 2099,
          "pull requests": 4277
         },
         {
          "commits": 8309,
          "date": "2016-02-17",
          "issues": 2099,
          "pull requests": 4277
         },
         {
          "commits": 8312,
          "date": "2016-02-18",
          "issues": 2100,
          "pull requests": 4280
         },
         {
          "commits": 8312,
          "date": "2016-02-19",
          "issues": 2100,
          "pull requests": 4280
         },
         {
          "commits": 8312,
          "date": "2016-02-20",
          "issues": 2100,
          "pull requests": 4280
         },
         {
          "commits": 8312,
          "date": "2016-02-21",
          "issues": 2100,
          "pull requests": 4280
         },
         {
          "commits": 8312,
          "date": "2016-02-22",
          "issues": 2100,
          "pull requests": 4280
         },
         {
          "commits": 8314,
          "date": "2016-02-23",
          "issues": 2103,
          "pull requests": 4281
         },
         {
          "commits": 8318,
          "date": "2016-02-24",
          "issues": 2106,
          "pull requests": 4288
         },
         {
          "commits": 8318,
          "date": "2016-02-25",
          "issues": 2106,
          "pull requests": 4288
         },
         {
          "commits": 8323,
          "date": "2016-02-26",
          "issues": 2107,
          "pull requests": 4295
         },
         {
          "commits": 8328,
          "date": "2016-02-27",
          "issues": 2108,
          "pull requests": 4300
         },
         {
          "commits": 8328,
          "date": "2016-02-28",
          "issues": 2108,
          "pull requests": 4300
         },
         {
          "commits": 8329,
          "date": "2016-02-29",
          "issues": 2108,
          "pull requests": 4304
         },
         {
          "commits": 8334,
          "date": "2016-03-01",
          "issues": 2110,
          "pull requests": 4306
         },
         {
          "commits": 8335,
          "date": "2016-03-02",
          "issues": 2112,
          "pull requests": 4307
         },
         {
          "commits": 8337,
          "date": "2016-03-03",
          "issues": 2115,
          "pull requests": 4310
         },
         {
          "commits": 8337,
          "date": "2016-03-04",
          "issues": 2115,
          "pull requests": 4310
         },
         {
          "commits": 8338,
          "date": "2016-03-05",
          "issues": 2115,
          "pull requests": 4310
         },
         {
          "commits": 8338,
          "date": "2016-03-06",
          "issues": 2115,
          "pull requests": 4310
         },
         {
          "commits": 8338,
          "date": "2016-03-07",
          "issues": 2115,
          "pull requests": 4310
         },
         {
          "commits": 8341,
          "date": "2016-03-08",
          "issues": 2115,
          "pull requests": 4317
         },
         {
          "commits": 8345,
          "date": "2016-03-09",
          "issues": 2117,
          "pull requests": 4322
         },
         {
          "commits": 8346,
          "date": "2016-03-10",
          "issues": 2117,
          "pull requests": 4324
         },
         {
          "commits": 8350,
          "date": "2016-03-11",
          "issues": 2117,
          "pull requests": 4326
         },
         {
          "commits": 8352,
          "date": "2016-03-12",
          "issues": 2118,
          "pull requests": 4327
         },
         {
          "commits": 8352,
          "date": "2016-03-13",
          "issues": 2118,
          "pull requests": 4327
         },
         {
          "commits": 8368,
          "date": "2016-03-14",
          "issues": 2122,
          "pull requests": 4336
         },
         {
          "commits": 8373,
          "date": "2016-03-15",
          "issues": 2123,
          "pull requests": 4339
         },
         {
          "commits": 8376,
          "date": "2016-03-16",
          "issues": 2123,
          "pull requests": 4341
         },
         {
          "commits": 8380,
          "date": "2016-03-17",
          "issues": 2127,
          "pull requests": 4344
         },
         {
          "commits": 8397,
          "date": "2016-03-18",
          "issues": 2129,
          "pull requests": 4351
         },
         {
          "commits": 8401,
          "date": "2016-03-19",
          "issues": 2131,
          "pull requests": 4354
         },
         {
          "commits": 8401,
          "date": "2016-03-20",
          "issues": 2131,
          "pull requests": 4354
         },
         {
          "commits": 8409,
          "date": "2016-03-21",
          "issues": 2131,
          "pull requests": 4359
         },
         {
          "commits": 8412,
          "date": "2016-03-22",
          "issues": 2133,
          "pull requests": 4360
         },
         {
          "commits": 8417,
          "date": "2016-03-23",
          "issues": 2136,
          "pull requests": 4361
         },
         {
          "commits": 8418,
          "date": "2016-03-24",
          "issues": 2136,
          "pull requests": 4363
         },
         {
          "commits": 8418,
          "date": "2016-03-25",
          "issues": 2136,
          "pull requests": 4363
         },
         {
          "commits": 8419,
          "date": "2016-03-26",
          "issues": 2136,
          "pull requests": 4366
         },
         {
          "commits": 8419,
          "date": "2016-03-27",
          "issues": 2136,
          "pull requests": 4366
         },
         {
          "commits": 8422,
          "date": "2016-03-28",
          "issues": 2138,
          "pull requests": 4369
         },
         {
          "commits": 8427,
          "date": "2016-03-29",
          "issues": 2140,
          "pull requests": 4374
         },
         {
          "commits": 8430,
          "date": "2016-03-30",
          "issues": 2143,
          "pull requests": 4377
         },
         {
          "commits": 8433,
          "date": "2016-03-31",
          "issues": 2144,
          "pull requests": 4381
         },
         {
          "commits": 8436,
          "date": "2016-04-01",
          "issues": 2145,
          "pull requests": 4385
         },
         {
          "commits": 8441,
          "date": "2016-04-02",
          "issues": 2146,
          "pull requests": 4389
         },
         {
          "commits": 8448,
          "date": "2016-04-03",
          "issues": 2148,
          "pull requests": 4399
         },
         {
          "commits": 8455,
          "date": "2016-04-04",
          "issues": 2150,
          "pull requests": 4402
         },
         {
          "commits": 8465,
          "date": "2016-04-05",
          "issues": 2150,
          "pull requests": 4413
         },
         {
          "commits": 8469,
          "date": "2016-04-06",
          "issues": 2150,
          "pull requests": 4422
         },
         {
          "commits": 8478,
          "date": "2016-04-07",
          "issues": 2152,
          "pull requests": 4427
         },
         {
          "commits": 8481,
          "date": "2016-04-08",
          "issues": 2155,
          "pull requests": 4434
         },
         {
          "commits": 8487,
          "date": "2016-04-09",
          "issues": 2155,
          "pull requests": 4439
         },
         {
          "commits": 8491,
          "date": "2016-04-10",
          "issues": 2155,
          "pull requests": 4441
         },
         {
          "commits": 8498,
          "date": "2016-04-11",
          "issues": 2157,
          "pull requests": 4444
         },
         {
          "commits": 8499,
          "date": "2016-04-12",
          "issues": 2157,
          "pull requests": 4447
         },
         {
          "commits": 8502,
          "date": "2016-04-13",
          "issues": 2158,
          "pull requests": 4450
         },
         {
          "commits": 8505,
          "date": "2016-04-14",
          "issues": 2159,
          "pull requests": 4453
         },
         {
          "commits": 8516,
          "date": "2016-04-15",
          "issues": 2161,
          "pull requests": 4460
         },
         {
          "commits": 8521,
          "date": "2016-04-16",
          "issues": 2165,
          "pull requests": 4468
         },
         {
          "commits": 8523,
          "date": "2016-04-17",
          "issues": 2167,
          "pull requests": 4468
         },
         {
          "commits": 8530,
          "date": "2016-04-18",
          "issues": 2167,
          "pull requests": 4472
         },
         {
          "commits": 8540,
          "date": "2016-04-19",
          "issues": 2169,
          "pull requests": 4477
         },
         {
          "commits": 8552,
          "date": "2016-04-20",
          "issues": 2170,
          "pull requests": 4482
         },
         {
          "commits": 8555,
          "date": "2016-04-21",
          "issues": 2170,
          "pull requests": 4483
         },
         {
          "commits": 8559,
          "date": "2016-04-22",
          "issues": 2171,
          "pull requests": 4487
         },
         {
          "commits": 8564,
          "date": "2016-04-23",
          "issues": 2173,
          "pull requests": 4488
         },
         {
          "commits": 8565,
          "date": "2016-04-24",
          "issues": 2173,
          "pull requests": 4492
         },
         {
          "commits": 8575,
          "date": "2016-04-25",
          "issues": 2174,
          "pull requests": 4497
         },
         {
          "commits": 8586,
          "date": "2016-04-26",
          "issues": 2175,
          "pull requests": 4506
         },
         {
          "commits": 8596,
          "date": "2016-04-27",
          "issues": 2176,
          "pull requests": 4512
         },
         {
          "commits": 8605,
          "date": "2016-04-28",
          "issues": 2178,
          "pull requests": 4516
         },
         {
          "commits": 8607,
          "date": "2016-04-29",
          "issues": 2181,
          "pull requests": 4519
         },
         {
          "commits": 8610,
          "date": "2016-04-30",
          "issues": 2184,
          "pull requests": 4523
         },
         {
          "commits": 8610,
          "date": "2016-05-01",
          "issues": 2184,
          "pull requests": 4523
         },
         {
          "commits": 8613,
          "date": "2016-05-02",
          "issues": 2187,
          "pull requests": 4525
         },
         {
          "commits": 8613,
          "date": "2016-05-03",
          "issues": 2187,
          "pull requests": 4525
         },
         {
          "commits": 8618,
          "date": "2016-05-04",
          "issues": 2189,
          "pull requests": 4529
         },
         {
          "commits": 8629,
          "date": "2016-05-05",
          "issues": 2191,
          "pull requests": 4536
         },
         {
          "commits": 8639,
          "date": "2016-05-06",
          "issues": 2192,
          "pull requests": 4542
         },
         {
          "commits": 8639,
          "date": "2016-05-07",
          "issues": 2192,
          "pull requests": 4542
         },
         {
          "commits": 8640,
          "date": "2016-05-08",
          "issues": 2195,
          "pull requests": 4543
         },
         {
          "commits": 8648,
          "date": "2016-05-09",
          "issues": 2197,
          "pull requests": 4547
         },
         {
          "commits": 8661,
          "date": "2016-05-10",
          "issues": 2199,
          "pull requests": 4553
         },
         {
          "commits": 8666,
          "date": "2016-05-11",
          "issues": 2201,
          "pull requests": 4555
         },
         {
          "commits": 8674,
          "date": "2016-05-12",
          "issues": 2202,
          "pull requests": 4559
         },
         {
          "commits": 8683,
          "date": "2016-05-13",
          "issues": 2202,
          "pull requests": 4561
         },
         {
          "commits": 8683,
          "date": "2016-05-14",
          "issues": 2202,
          "pull requests": 4561
         },
         {
          "commits": 8686,
          "date": "2016-05-15",
          "issues": 2202,
          "pull requests": 4564
         },
         {
          "commits": 8692,
          "date": "2016-05-16",
          "issues": 2203,
          "pull requests": 4565
         },
         {
          "commits": 8703,
          "date": "2016-05-17",
          "issues": 2205,
          "pull requests": 4569
         },
         {
          "commits": 8707,
          "date": "2016-05-18",
          "issues": 2206,
          "pull requests": 4572
         },
         {
          "commits": 8711,
          "date": "2016-05-19",
          "issues": 2208,
          "pull requests": 4574
         },
         {
          "commits": 8715,
          "date": "2016-05-20",
          "issues": 2209,
          "pull requests": 4578
         },
         {
          "commits": 8720,
          "date": "2016-05-21",
          "issues": 2210,
          "pull requests": 4581
         },
         {
          "commits": 8721,
          "date": "2016-05-22",
          "issues": 2210,
          "pull requests": 4583
         },
         {
          "commits": 8721,
          "date": "2016-05-23",
          "issues": 2210,
          "pull requests": 4583
         },
         {
          "commits": 8723,
          "date": "2016-05-24",
          "issues": 2212,
          "pull requests": 4586
         },
         {
          "commits": 8726,
          "date": "2016-05-25",
          "issues": 2213,
          "pull requests": 4586
         },
         {
          "commits": 8730,
          "date": "2016-05-26",
          "issues": 2216,
          "pull requests": 4589
         },
         {
          "commits": 8734,
          "date": "2016-05-27",
          "issues": 2217,
          "pull requests": 4592
         },
         {
          "commits": 8737,
          "date": "2016-05-28",
          "issues": 2218,
          "pull requests": 4594
         },
         {
          "commits": 8738,
          "date": "2016-05-29",
          "issues": 2218,
          "pull requests": 4595
         },
         {
          "commits": 8742,
          "date": "2016-05-30",
          "issues": 2225,
          "pull requests": 4599
         },
         {
          "commits": 8746,
          "date": "2016-05-31",
          "issues": 2225,
          "pull requests": 4601
         },
         {
          "commits": 8750,
          "date": "2016-06-01",
          "issues": 2227,
          "pull requests": 4603
         },
         {
          "commits": 8767,
          "date": "2016-06-02",
          "issues": 2229,
          "pull requests": 4608
         },
         {
          "commits": 8769,
          "date": "2016-06-03",
          "issues": 2230,
          "pull requests": 4610
         },
         {
          "commits": 8771,
          "date": "2016-06-04",
          "issues": 2231,
          "pull requests": 4610
         },
         {
          "commits": 8772,
          "date": "2016-06-05",
          "issues": 2231,
          "pull requests": 4612
         },
         {
          "commits": 8784,
          "date": "2016-06-06",
          "issues": 2232,
          "pull requests": 4616
         },
         {
          "commits": 8795,
          "date": "2016-06-07",
          "issues": 2238,
          "pull requests": 4620
         },
         {
          "commits": 8804,
          "date": "2016-06-08",
          "issues": 2239,
          "pull requests": 4629
         },
         {
          "commits": 8816,
          "date": "2016-06-09",
          "issues": 2240,
          "pull requests": 4637
         },
         {
          "commits": 8828,
          "date": "2016-06-10",
          "issues": 2241,
          "pull requests": 4639
         },
         {
          "commits": 8828,
          "date": "2016-06-11",
          "issues": 2241,
          "pull requests": 4639
         },
         {
          "commits": 8830,
          "date": "2016-06-12",
          "issues": 2242,
          "pull requests": 4641
         },
         {
          "commits": 8844,
          "date": "2016-06-13",
          "issues": 2242,
          "pull requests": 4646
         },
         {
          "commits": 8846,
          "date": "2016-06-14",
          "issues": 2243,
          "pull requests": 4647
         },
         {
          "commits": 8853,
          "date": "2016-06-15",
          "issues": 2243,
          "pull requests": 4652
         },
         {
          "commits": 8856,
          "date": "2016-06-16",
          "issues": 2244,
          "pull requests": 4654
         },
         {
          "commits": 8865,
          "date": "2016-06-17",
          "issues": 2245,
          "pull requests": 4658
         },
         {
          "commits": 8869,
          "date": "2016-06-18",
          "issues": 2249,
          "pull requests": 4661
         },
         {
          "commits": 8879,
          "date": "2016-06-19",
          "issues": 2250,
          "pull requests": 4663
         },
         {
          "commits": 8891,
          "date": "2016-06-20",
          "issues": 2251,
          "pull requests": 4666
         },
         {
          "commits": 8897,
          "date": "2016-06-21",
          "issues": 2251,
          "pull requests": 4671
         },
         {
          "commits": 8925,
          "date": "2016-06-22",
          "issues": 2254,
          "pull requests": 4676
         },
         {
          "commits": 8928,
          "date": "2016-06-23",
          "issues": 2258,
          "pull requests": 4679
         },
         {
          "commits": 8934,
          "date": "2016-06-24",
          "issues": 2259,
          "pull requests": 4685
         },
         {
          "commits": 8934,
          "date": "2016-06-25",
          "issues": 2259,
          "pull requests": 4685
         },
         {
          "commits": 8936,
          "date": "2016-06-26",
          "issues": 2262,
          "pull requests": 4689
         },
         {
          "commits": 8939,
          "date": "2016-06-27",
          "issues": 2263,
          "pull requests": 4692
         },
         {
          "commits": 8947,
          "date": "2016-06-28",
          "issues": 2264,
          "pull requests": 4698
         },
         {
          "commits": 8949,
          "date": "2016-06-29",
          "issues": 2266,
          "pull requests": 4704
         },
         {
          "commits": 8953,
          "date": "2016-06-30",
          "issues": 2268,
          "pull requests": 4706
         },
         {
          "commits": 8954,
          "date": "2016-07-01",
          "issues": 2268,
          "pull requests": 4707
         },
         {
          "commits": 8955,
          "date": "2016-07-02",
          "issues": 2269,
          "pull requests": 4707
         },
         {
          "commits": 8955,
          "date": "2016-07-03",
          "issues": 2269,
          "pull requests": 4707
         },
         {
          "commits": 8955,
          "date": "2016-07-04",
          "issues": 2269,
          "pull requests": 4707
         },
         {
          "commits": 8958,
          "date": "2016-07-05",
          "issues": 2269,
          "pull requests": 4711
         },
         {
          "commits": 8962,
          "date": "2016-07-06",
          "issues": 2271,
          "pull requests": 4712
         },
         {
          "commits": 8968,
          "date": "2016-07-07",
          "issues": 2271,
          "pull requests": 4716
         },
         {
          "commits": 8972,
          "date": "2016-07-08",
          "issues": 2271,
          "pull requests": 4723
         },
         {
          "commits": 8977,
          "date": "2016-07-09",
          "issues": 2272,
          "pull requests": 4725
         },
         {
          "commits": 8977,
          "date": "2016-07-10",
          "issues": 2272,
          "pull requests": 4725
         },
         {
          "commits": 8977,
          "date": "2016-07-11",
          "issues": 2272,
          "pull requests": 4725
         },
         {
          "commits": 8980,
          "date": "2016-07-12",
          "issues": 2274,
          "pull requests": 4726
         },
         {
          "commits": 8980,
          "date": "2016-07-13",
          "issues": 2274,
          "pull requests": 4726
         },
         {
          "commits": 8982,
          "date": "2016-07-14",
          "issues": 2274,
          "pull requests": 4728
         },
         {
          "commits": 8985,
          "date": "2016-07-15",
          "issues": 2274,
          "pull requests": 4731
         },
         {
          "commits": 8987,
          "date": "2016-07-16",
          "issues": 2274,
          "pull requests": 4735
         },
         {
          "commits": 8988,
          "date": "2016-07-17",
          "issues": 2276,
          "pull requests": 4737
         },
         {
          "commits": 8996,
          "date": "2016-07-18",
          "issues": 2276,
          "pull requests": 4750
         },
         {
          "commits": 8999,
          "date": "2016-07-19",
          "issues": 2278,
          "pull requests": 4754
         },
         {
          "commits": 9001,
          "date": "2016-07-20",
          "issues": 2279,
          "pull requests": 4758
         },
         {
          "commits": 9005,
          "date": "2016-07-21",
          "issues": 2279,
          "pull requests": 4761
         },
         {
          "commits": 9008,
          "date": "2016-07-22",
          "issues": 2279,
          "pull requests": 4763
         },
         {
          "commits": 9008,
          "date": "2016-07-23",
          "issues": 2279,
          "pull requests": 4763
         },
         {
          "commits": 9011,
          "date": "2016-07-24",
          "issues": 2282,
          "pull requests": 4765
         },
         {
          "commits": 9011,
          "date": "2016-07-25",
          "issues": 2282,
          "pull requests": 4765
         },
         {
          "commits": 9013,
          "date": "2016-07-26",
          "issues": 2284,
          "pull requests": 4767
         },
         {
          "commits": 9017,
          "date": "2016-07-27",
          "issues": 2287,
          "pull requests": 4770
         },
         {
          "commits": 9025,
          "date": "2016-07-28",
          "issues": 2289,
          "pull requests": 4774
         },
         {
          "commits": 9031,
          "date": "2016-07-29",
          "issues": 2292,
          "pull requests": 4778
         },
         {
          "commits": 9038,
          "date": "2016-07-30",
          "issues": 2294,
          "pull requests": 4779
         },
         {
          "commits": 9046,
          "date": "2016-07-31",
          "issues": 2297,
          "pull requests": 4781
         },
         {
          "commits": 9049,
          "date": "2016-08-01",
          "issues": 2297,
          "pull requests": 4787
         },
         {
          "commits": 9051,
          "date": "2016-08-02",
          "issues": 2298,
          "pull requests": 4789
         },
         {
          "commits": 9052,
          "date": "2016-08-03",
          "issues": 2298,
          "pull requests": 4791
         },
         {
          "commits": 9053,
          "date": "2016-08-04",
          "issues": 2299,
          "pull requests": 4801
         },
         {
          "commits": 9057,
          "date": "2016-08-05",
          "issues": 2299,
          "pull requests": 4807
         },
         {
          "commits": 9058,
          "date": "2016-08-06",
          "issues": 2301,
          "pull requests": 4811
         },
         {
          "commits": 9061,
          "date": "2016-08-07",
          "issues": 2304,
          "pull requests": 4814
         },
         {
          "commits": 9065,
          "date": "2016-08-08",
          "issues": 2304,
          "pull requests": 4819
         },
         {
          "commits": 9071,
          "date": "2016-08-09",
          "issues": 2305,
          "pull requests": 4820
         },
         {
          "commits": 9074,
          "date": "2016-08-10",
          "issues": 2307,
          "pull requests": 4822
         },
         {
          "commits": 9074,
          "date": "2016-08-11",
          "issues": 2307,
          "pull requests": 4822
         },
         {
          "commits": 9077,
          "date": "2016-08-12",
          "issues": 2308,
          "pull requests": 4824
         },
         {
          "commits": 9078,
          "date": "2016-08-13",
          "issues": 2309,
          "pull requests": 4828
         },
         {
          "commits": 9080,
          "date": "2016-08-14",
          "issues": 2310,
          "pull requests": 4829
         },
         {
          "commits": 9083,
          "date": "2016-08-15",
          "issues": 2311,
          "pull requests": 4834
         },
         {
          "commits": 9089,
          "date": "2016-08-16",
          "issues": 2314,
          "pull requests": 4841
         },
         {
          "commits": 9093,
          "date": "2016-08-17",
          "issues": 2316,
          "pull requests": 4844
         },
         {
          "commits": 9097,
          "date": "2016-08-18",
          "issues": 2316,
          "pull requests": 4851
         },
         {
          "commits": 9102,
          "date": "2016-08-19",
          "issues": 2317,
          "pull requests": 4856
         },
         {
          "commits": 9104,
          "date": "2016-08-20",
          "issues": 2318,
          "pull requests": 4857
         },
         {
          "commits": 9107,
          "date": "2016-08-21",
          "issues": 2319,
          "pull requests": 4857
         },
         {
          "commits": 9112,
          "date": "2016-08-22",
          "issues": 2319,
          "pull requests": 4859
         },
         {
          "commits": 9120,
          "date": "2016-08-23",
          "issues": 2320,
          "pull requests": 4865
         },
         {
          "commits": 9125,
          "date": "2016-08-24",
          "issues": 2324,
          "pull requests": 4872
         },
         {
          "commits": 9131,
          "date": "2016-08-25",
          "issues": 2328,
          "pull requests": 4879
         },
         {
          "commits": 9151,
          "date": "2016-08-26",
          "issues": 2330,
          "pull requests": 4890
         },
         {
          "commits": 9155,
          "date": "2016-08-27",
          "issues": 2334,
          "pull requests": 4895
         },
         {
          "commits": 9160,
          "date": "2016-08-28",
          "issues": 2334,
          "pull requests": 4897
         },
         {
          "commits": 9162,
          "date": "2016-08-29",
          "issues": 2334,
          "pull requests": 4900
         },
         {
          "commits": 9163,
          "date": "2016-08-30",
          "issues": 2336,
          "pull requests": 4902
         },
         {
          "commits": 9165,
          "date": "2016-08-31",
          "issues": 2337,
          "pull requests": 4909
         },
         {
          "commits": 9171,
          "date": "2016-09-01",
          "issues": 2339,
          "pull requests": 4912
         },
         {
          "commits": 9175,
          "date": "2016-09-02",
          "issues": 2343,
          "pull requests": 4923
         },
         {
          "commits": 9176,
          "date": "2016-09-03",
          "issues": 2343,
          "pull requests": 4925
         },
         {
          "commits": 9179,
          "date": "2016-09-04",
          "issues": 2343,
          "pull requests": 4926
         },
         {
          "commits": 9183,
          "date": "2016-09-05",
          "issues": 2344,
          "pull requests": 4929
         },
         {
          "commits": 9187,
          "date": "2016-09-06",
          "issues": 2347,
          "pull requests": 4932
         },
         {
          "commits": 9190,
          "date": "2016-09-07",
          "issues": 2347,
          "pull requests": 4940
         },
         {
          "commits": 9225,
          "date": "2016-09-08",
          "issues": 2348,
          "pull requests": 4942
         },
         {
          "commits": 9227,
          "date": "2016-09-09",
          "issues": 2351,
          "pull requests": 4948
         },
         {
          "commits": 9229,
          "date": "2016-09-10",
          "issues": 2351,
          "pull requests": 4951
         },
         {
          "commits": 9233,
          "date": "2016-09-11",
          "issues": 2352,
          "pull requests": 4955
         },
         {
          "commits": 9233,
          "date": "2016-09-12",
          "issues": 2352,
          "pull requests": 4955
         },
         {
          "commits": 9241,
          "date": "2016-09-13",
          "issues": 2354,
          "pull requests": 4965
         },
         {
          "commits": 9247,
          "date": "2016-09-14",
          "issues": 2357,
          "pull requests": 4975
         },
         {
          "commits": 9255,
          "date": "2016-09-15",
          "issues": 2358,
          "pull requests": 4981
         },
         {
          "commits": 9260,
          "date": "2016-09-16",
          "issues": 2360,
          "pull requests": 4987
         },
         {
          "commits": 9261,
          "date": "2016-09-17",
          "issues": 2362,
          "pull requests": 4989
         },
         {
          "commits": 9262,
          "date": "2016-09-18",
          "issues": 2362,
          "pull requests": 4992
         },
         {
          "commits": 9264,
          "date": "2016-09-19",
          "issues": 2365,
          "pull requests": 4995
         },
         {
          "commits": 9268,
          "date": "2016-09-20",
          "issues": 2366,
          "pull requests": 5001
         },
         {
          "commits": 9281,
          "date": "2016-09-21",
          "issues": 2369,
          "pull requests": 5012
         },
         {
          "commits": 9288,
          "date": "2016-09-22",
          "issues": 2372,
          "pull requests": 5022
         },
         {
          "commits": 9292,
          "date": "2016-09-23",
          "issues": 2373,
          "pull requests": 5024
         },
         {
          "commits": 9293,
          "date": "2016-09-24",
          "issues": 2373,
          "pull requests": 5026
         },
         {
          "commits": 9300,
          "date": "2016-09-25",
          "issues": 2374,
          "pull requests": 5031
         },
         {
          "commits": 9306,
          "date": "2016-09-26",
          "issues": 2375,
          "pull requests": 5036
         },
         {
          "commits": 9311,
          "date": "2016-09-27",
          "issues": 2376,
          "pull requests": 5042
         },
         {
          "commits": 9317,
          "date": "2016-09-28",
          "issues": 2378,
          "pull requests": 5049
         },
         {
          "commits": 9325,
          "date": "2016-09-29",
          "issues": 2379,
          "pull requests": 5060
         },
         {
          "commits": 9330,
          "date": "2016-09-30",
          "issues": 2380,
          "pull requests": 5065
         },
         {
          "commits": 9334,
          "date": "2016-10-01",
          "issues": 2381,
          "pull requests": 5073
         },
         {
          "commits": 9337,
          "date": "2016-10-02",
          "issues": 2382,
          "pull requests": 5075
         },
         {
          "commits": 9338,
          "date": "2016-10-03",
          "issues": 2385,
          "pull requests": 5080
         },
         {
          "commits": 9360,
          "date": "2016-10-04",
          "issues": 2388,
          "pull requests": 5089
         },
         {
          "commits": 9366,
          "date": "2016-10-05",
          "issues": 2389,
          "pull requests": 5098
         },
         {
          "commits": 9369,
          "date": "2016-10-06",
          "issues": 2389,
          "pull requests": 5098
         },
         {
          "commits": 9369,
          "date": "2016-10-07",
          "issues": 2389,
          "pull requests": 5098
         },
         {
          "commits": 9369,
          "date": "2016-10-08",
          "issues": 2389,
          "pull requests": 5098
         },
         {
          "commits": 9369,
          "date": "2016-10-09",
          "issues": 2389,
          "pull requests": 5098
         },
         {
          "commits": 9371,
          "date": "2016-10-10",
          "issues": 2391,
          "pull requests": 5099
         },
         {
          "commits": 9372,
          "date": "2016-10-11",
          "issues": 2393,
          "pull requests": 5101
         },
         {
          "commits": 9372,
          "date": "2016-10-12",
          "issues": 2393,
          "pull requests": 5101
         },
         {
          "commits": 9375,
          "date": "2016-10-13",
          "issues": 2394,
          "pull requests": 5105
         },
         {
          "commits": 9376,
          "date": "2016-10-14",
          "issues": 2395,
          "pull requests": 5108
         },
         {
          "commits": 9381,
          "date": "2016-10-15",
          "issues": 2398,
          "pull requests": 5113
         },
         {
          "commits": 9389,
          "date": "2016-10-16",
          "issues": 2399,
          "pull requests": 5114
         },
         {
          "commits": 9405,
          "date": "2016-10-17",
          "issues": 2403,
          "pull requests": 5124
         },
         {
          "commits": 9412,
          "date": "2016-10-18",
          "issues": 2407,
          "pull requests": 5138
         },
         {
          "commits": 9424,
          "date": "2016-10-19",
          "issues": 2410,
          "pull requests": 5140
         },
         {
          "commits": 9431,
          "date": "2016-10-20",
          "issues": 2416,
          "pull requests": 5147
         },
         {
          "commits": 9434,
          "date": "2016-10-21",
          "issues": 2417,
          "pull requests": 5151
         },
         {
          "commits": 9438,
          "date": "2016-10-22",
          "issues": 2417,
          "pull requests": 5153
         },
         {
          "commits": 9438,
          "date": "2016-10-23",
          "issues": 2417,
          "pull requests": 5153
         },
         {
          "commits": 9446,
          "date": "2016-10-24",
          "issues": 2422,
          "pull requests": 5156
         },
         {
          "commits": 9450,
          "date": "2016-10-25",
          "issues": 2423,
          "pull requests": 5163
         },
         {
          "commits": 9452,
          "date": "2016-10-26",
          "issues": 2426,
          "pull requests": 5168
         },
         {
          "commits": 9458,
          "date": "2016-10-27",
          "issues": 2429,
          "pull requests": 5172
         },
         {
          "commits": 9463,
          "date": "2016-10-28",
          "issues": 2431,
          "pull requests": 5174
         },
         {
          "commits": 9463,
          "date": "2016-10-29",
          "issues": 2431,
          "pull requests": 5174
         },
         {
          "commits": 9466,
          "date": "2016-10-30",
          "issues": 2432,
          "pull requests": 5178
         },
         {
          "commits": 9479,
          "date": "2016-10-31",
          "issues": 2435,
          "pull requests": 5181
         },
         {
          "commits": 9480,
          "date": "2016-11-01",
          "issues": 2438,
          "pull requests": 5185
         },
         {
          "commits": 9492,
          "date": "2016-11-02",
          "issues": 2439,
          "pull requests": 5194
         },
         {
          "commits": 9506,
          "date": "2016-11-03",
          "issues": 2442,
          "pull requests": 5199
         },
         {
          "commits": 9510,
          "date": "2016-11-04",
          "issues": 2447,
          "pull requests": 5202
         },
         {
          "commits": 9510,
          "date": "2016-11-05",
          "issues": 2447,
          "pull requests": 5202
         },
         {
          "commits": 9512,
          "date": "2016-11-06",
          "issues": 2448,
          "pull requests": 5203
         },
         {
          "commits": 9537,
          "date": "2016-11-07",
          "issues": 2450,
          "pull requests": 5207
         },
         {
          "commits": 9542,
          "date": "2016-11-08",
          "issues": 2454,
          "pull requests": 5212
         },
         {
          "commits": 9556,
          "date": "2016-11-09",
          "issues": 2457,
          "pull requests": 5220
         },
         {
          "commits": 9559,
          "date": "2016-11-10",
          "issues": 2457,
          "pull requests": 5224
         },
         {
          "commits": 9565,
          "date": "2016-11-11",
          "issues": 2461,
          "pull requests": 5235
         },
         {
          "commits": 9569,
          "date": "2016-11-12",
          "issues": 2464,
          "pull requests": 5240
         },
         {
          "commits": 9571,
          "date": "2016-11-13",
          "issues": 2466,
          "pull requests": 5242
         },
         {
          "commits": 9577,
          "date": "2016-11-14",
          "issues": 2467,
          "pull requests": 5248
         },
         {
          "commits": 9581,
          "date": "2016-11-15",
          "issues": 2470,
          "pull requests": 5251
         },
         {
          "commits": 9582,
          "date": "2016-11-16",
          "issues": 2471,
          "pull requests": 5253
         },
         {
          "commits": 9584,
          "date": "2016-11-17",
          "issues": 2471,
          "pull requests": 5258
         },
         {
          "commits": 9589,
          "date": "2016-11-18",
          "issues": 2475,
          "pull requests": 5263
         },
         {
          "commits": 9589,
          "date": "2016-11-19",
          "issues": 2475,
          "pull requests": 5263
         },
         {
          "commits": 9594,
          "date": "2016-11-20",
          "issues": 2476,
          "pull requests": 5264
         },
         {
          "commits": 9597,
          "date": "2016-11-21",
          "issues": 2478,
          "pull requests": 5265
         },
         {
          "commits": 9603,
          "date": "2016-11-22",
          "issues": 2479,
          "pull requests": 5271
         },
         {
          "commits": 9610,
          "date": "2016-11-23",
          "issues": 2483,
          "pull requests": 5273
         },
         {
          "commits": 9618,
          "date": "2016-11-24",
          "issues": 2486,
          "pull requests": 5275
         },
         {
          "commits": 9623,
          "date": "2016-11-25",
          "issues": 2486,
          "pull requests": 5279
         },
         {
          "commits": 9629,
          "date": "2016-11-26",
          "issues": 2486,
          "pull requests": 5282
         },
         {
          "commits": 9633,
          "date": "2016-11-27",
          "issues": 2487,
          "pull requests": 5285
         },
         {
          "commits": 9635,
          "date": "2016-11-28",
          "issues": 2489,
          "pull requests": 5287
         },
         {
          "commits": 9641,
          "date": "2016-11-29",
          "issues": 2490,
          "pull requests": 5292
         },
         {
          "commits": 9644,
          "date": "2016-11-30",
          "issues": 2495,
          "pull requests": 5298
         },
         {
          "commits": 9650,
          "date": "2016-12-01",
          "issues": 2496,
          "pull requests": 5304
         },
         {
          "commits": 9659,
          "date": "2016-12-02",
          "issues": 2496,
          "pull requests": 5312
         },
         {
          "commits": 9670,
          "date": "2016-12-03",
          "issues": 2496,
          "pull requests": 5315
         },
         {
          "commits": 9680,
          "date": "2016-12-04",
          "issues": 2498,
          "pull requests": 5319
         },
         {
          "commits": 9691,
          "date": "2016-12-05",
          "issues": 2500,
          "pull requests": 5324
         },
         {
          "commits": 9696,
          "date": "2016-12-06",
          "issues": 2501,
          "pull requests": 5335
         },
         {
          "commits": 9700,
          "date": "2016-12-07",
          "issues": 2501,
          "pull requests": 5337
         },
         {
          "commits": 9708,
          "date": "2016-12-08",
          "issues": 2502,
          "pull requests": 5338
         },
         {
          "commits": 9714,
          "date": "2016-12-09",
          "issues": 2502,
          "pull requests": 5348
         },
         {
          "commits": 9715,
          "date": "2016-12-10",
          "issues": 2504,
          "pull requests": 5350
         },
         {
          "commits": 9716,
          "date": "2016-12-11",
          "issues": 2507,
          "pull requests": 5352
         },
         {
          "commits": 9723,
          "date": "2016-12-12",
          "issues": 2509,
          "pull requests": 5362
         },
         {
          "commits": 9729,
          "date": "2016-12-13",
          "issues": 2511,
          "pull requests": 5367
         },
         {
          "commits": 9735,
          "date": "2016-12-14",
          "issues": 2513,
          "pull requests": 5372
         },
         {
          "commits": 9746,
          "date": "2016-12-15",
          "issues": 2514,
          "pull requests": 5376
         },
         {
          "commits": 9748,
          "date": "2016-12-16",
          "issues": 2517,
          "pull requests": 5386
         },
         {
          "commits": 9749,
          "date": "2016-12-17",
          "issues": 2517,
          "pull requests": 5388
         },
         {
          "commits": 9749,
          "date": "2016-12-18",
          "issues": 2517,
          "pull requests": 5388
         },
         {
          "commits": 9750,
          "date": "2016-12-19",
          "issues": 2520,
          "pull requests": 5395
         },
         {
          "commits": 9756,
          "date": "2016-12-20",
          "issues": 2523,
          "pull requests": 5400
         },
         {
          "commits": 9761,
          "date": "2016-12-21",
          "issues": 2526,
          "pull requests": 5411
         },
         {
          "commits": 9769,
          "date": "2016-12-22",
          "issues": 2528,
          "pull requests": 5413
         },
         {
          "commits": 9774,
          "date": "2016-12-23",
          "issues": 2529,
          "pull requests": 5419
         },
         {
          "commits": 9780,
          "date": "2016-12-24",
          "issues": 2529,
          "pull requests": 5422
         },
         {
          "commits": 9780,
          "date": "2016-12-25",
          "issues": 2529,
          "pull requests": 5422
         },
         {
          "commits": 9782,
          "date": "2016-12-26",
          "issues": 2535,
          "pull requests": 5424
         },
         {
          "commits": 9785,
          "date": "2016-12-27",
          "issues": 2536,
          "pull requests": 5427
         },
         {
          "commits": 9785,
          "date": "2016-12-28",
          "issues": 2536,
          "pull requests": 5427
         },
         {
          "commits": 9801,
          "date": "2016-12-29",
          "issues": 2539,
          "pull requests": 5430
         },
         {
          "commits": 9805,
          "date": "2016-12-30",
          "issues": 2542,
          "pull requests": 5432
         },
         {
          "commits": 9806,
          "date": "2016-12-31",
          "issues": 2542,
          "pull requests": 5435
         },
         {
          "commits": 9806,
          "date": "2017-01-01",
          "issues": 2542,
          "pull requests": 5435
         },
         {
          "commits": 9808,
          "date": "2017-01-02",
          "issues": 2545,
          "pull requests": 5437
         },
         {
          "commits": 9819,
          "date": "2017-01-03",
          "issues": 2547,
          "pull requests": 5439
         },
         {
          "commits": 9855,
          "date": "2017-01-04",
          "issues": 2548,
          "pull requests": 5449
         },
         {
          "commits": 9879,
          "date": "2017-01-05",
          "issues": 2550,
          "pull requests": 5451
         },
         {
          "commits": 9882,
          "date": "2017-01-06",
          "issues": 2551,
          "pull requests": 5456
         },
         {
          "commits": 9884,
          "date": "2017-01-07",
          "issues": 2551,
          "pull requests": 5458
         },
         {
          "commits": 9884,
          "date": "2017-01-08",
          "issues": 2551,
          "pull requests": 5458
         },
         {
          "commits": 9889,
          "date": "2017-01-09",
          "issues": 2551,
          "pull requests": 5464
         },
         {
          "commits": 9907,
          "date": "2017-01-10",
          "issues": 2552,
          "pull requests": 5475
         },
         {
          "commits": 9923,
          "date": "2017-01-11",
          "issues": 2553,
          "pull requests": 5482
         },
         {
          "commits": 9939,
          "date": "2017-01-12",
          "issues": 2557,
          "pull requests": 5493
         },
         {
          "commits": 9956,
          "date": "2017-01-13",
          "issues": 2560,
          "pull requests": 5496
         },
         {
          "commits": 9964,
          "date": "2017-01-14",
          "issues": 2560,
          "pull requests": 5506
         },
         {
          "commits": 9967,
          "date": "2017-01-15",
          "issues": 2563,
          "pull requests": 5506
         },
         {
          "commits": 9970,
          "date": "2017-01-16",
          "issues": 2564,
          "pull requests": 5507
         },
         {
          "commits": 9975,
          "date": "2017-01-17",
          "issues": 2564,
          "pull requests": 5509
         },
         {
          "commits": 9978,
          "date": "2017-01-18",
          "issues": 2565,
          "pull requests": 5513
         },
         {
          "commits": 9989,
          "date": "2017-01-19",
          "issues": 2568,
          "pull requests": 5523
         },
         {
          "commits": 10003,
          "date": "2017-01-20",
          "issues": 2571,
          "pull requests": 5534
         },
         {
          "commits": 10004,
          "date": "2017-01-21",
          "issues": 2571,
          "pull requests": 5536
         },
         {
          "commits": 10005,
          "date": "2017-01-22",
          "issues": 2572,
          "pull requests": 5537
         },
         {
          "commits": 10011,
          "date": "2017-01-23",
          "issues": 2573,
          "pull requests": 5543
         },
         {
          "commits": 10015,
          "date": "2017-01-24",
          "issues": 2574,
          "pull requests": 5549
         },
         {
          "commits": 10023,
          "date": "2017-01-25",
          "issues": 2576,
          "pull requests": 5553
         },
         {
          "commits": 10029,
          "date": "2017-01-26",
          "issues": 2581,
          "pull requests": 5557
         },
         {
          "commits": 10031,
          "date": "2017-01-27",
          "issues": 2582,
          "pull requests": 5560
         },
         {
          "commits": 10036,
          "date": "2017-01-28",
          "issues": 2583,
          "pull requests": 5564
         },
         {
          "commits": 10037,
          "date": "2017-01-29",
          "issues": 2583,
          "pull requests": 5565
         },
         {
          "commits": 10039,
          "date": "2017-01-30",
          "issues": 2585,
          "pull requests": 5565
         },
         {
          "commits": 10043,
          "date": "2017-01-31",
          "issues": 2586,
          "pull requests": 5570
         },
         {
          "commits": 10049,
          "date": "2017-02-01",
          "issues": 2589,
          "pull requests": 5572
         },
         {
          "commits": 10063,
          "date": "2017-02-02",
          "issues": 2591,
          "pull requests": 5576
         },
         {
          "commits": 10066,
          "date": "2017-02-03",
          "issues": 2593,
          "pull requests": 5583
         },
         {
          "commits": 10067,
          "date": "2017-02-04",
          "issues": 2599,
          "pull requests": 5584
         },
         {
          "commits": 10069,
          "date": "2017-02-05",
          "issues": 2599,
          "pull requests": 5586
         },
         {
          "commits": 10075,
          "date": "2017-02-06",
          "issues": 2601,
          "pull requests": 5593
         },
         {
          "commits": 10082,
          "date": "2017-02-07",
          "issues": 2604,
          "pull requests": 5603
         },
         {
          "commits": 10090,
          "date": "2017-02-08",
          "issues": 2605,
          "pull requests": 5610
         },
         {
          "commits": 10096,
          "date": "2017-02-09",
          "issues": 2606,
          "pull requests": 5616
         },
         {
          "commits": 10119,
          "date": "2017-02-10",
          "issues": 2606,
          "pull requests": 5623
         },
         {
          "commits": 10119,
          "date": "2017-02-11",
          "issues": 2606,
          "pull requests": 5623
         },
         {
          "commits": 10120,
          "date": "2017-02-12",
          "issues": 2607,
          "pull requests": 5626
         },
         {
          "commits": 10128,
          "date": "2017-02-13",
          "issues": 2608,
          "pull requests": 5633
         },
         {
          "commits": 10130,
          "date": "2017-02-14",
          "issues": 2610,
          "pull requests": 5637
         },
         {
          "commits": 10135,
          "date": "2017-02-15",
          "issues": 2612,
          "pull requests": 5645
         },
         {
          "commits": 10144,
          "date": "2017-02-16",
          "issues": 2614,
          "pull requests": 5649
         },
         {
          "commits": 10156,
          "date": "2017-02-17",
          "issues": 2616,
          "pull requests": 5656
         },
         {
          "commits": 10158,
          "date": "2017-02-18",
          "issues": 2616,
          "pull requests": 5659
         },
         {
          "commits": 10160,
          "date": "2017-02-19",
          "issues": 2621,
          "pull requests": 5663
         },
         {
          "commits": 10166,
          "date": "2017-02-20",
          "issues": 2624,
          "pull requests": 5668
         },
         {
          "commits": 10171,
          "date": "2017-02-21",
          "issues": 2626,
          "pull requests": 5674
         },
         {
          "commits": 10179,
          "date": "2017-02-22",
          "issues": 2628,
          "pull requests": 5680
         },
         {
          "commits": 10188,
          "date": "2017-02-23",
          "issues": 2633,
          "pull requests": 5691
         },
         {
          "commits": 10190,
          "date": "2017-02-24",
          "issues": 2635,
          "pull requests": 5697
         },
         {
          "commits": 10191,
          "date": "2017-02-25",
          "issues": 2636,
          "pull requests": 5700
         },
         {
          "commits": 10192,
          "date": "2017-02-26",
          "issues": 2640,
          "pull requests": 5704
         },
         {
          "commits": 10216,
          "date": "2017-02-27",
          "issues": 2644,
          "pull requests": 5713
         },
         {
          "commits": 10222,
          "date": "2017-02-28",
          "issues": 2648,
          "pull requests": 5720
         },
         {
          "commits": 10228,
          "date": "2017-03-01",
          "issues": 2650,
          "pull requests": 5726
         },
         {
          "commits": 10230,
          "date": "2017-03-02",
          "issues": 2651,
          "pull requests": 5729
         },
         {
          "commits": 10247,
          "date": "2017-03-03",
          "issues": 2651,
          "pull requests": 5734
         },
         {
          "commits": 10250,
          "date": "2017-03-04",
          "issues": 2656,
          "pull requests": 5736
         },
         {
          "commits": 10254,
          "date": "2017-03-05",
          "issues": 2658,
          "pull requests": 5740
         },
         {
          "commits": 10264,
          "date": "2017-03-06",
          "issues": 2660,
          "pull requests": 5745
         },
         {
          "commits": 10272,
          "date": "2017-03-07",
          "issues": 2665,
          "pull requests": 5754
         },
         {
          "commits": 10283,
          "date": "2017-03-08",
          "issues": 2669,
          "pull requests": 5761
         },
         {
          "commits": 10300,
          "date": "2017-03-09",
          "issues": 2671,
          "pull requests": 5767
         },
         {
          "commits": 10306,
          "date": "2017-03-10",
          "issues": 2673,
          "pull requests": 5772
         },
         {
          "commits": 10309,
          "date": "2017-03-11",
          "issues": 2674,
          "pull requests": 5773
         },
         {
          "commits": 10310,
          "date": "2017-03-12",
          "issues": 2675,
          "pull requests": 5775
         },
         {
          "commits": 10312,
          "date": "2017-03-13",
          "issues": 2677,
          "pull requests": 5779
         },
         {
          "commits": 10315,
          "date": "2017-03-14",
          "issues": 2678,
          "pull requests": 5783
         },
         {
          "commits": 10322,
          "date": "2017-03-15",
          "issues": 2684,
          "pull requests": 5788
         },
         {
          "commits": 10326,
          "date": "2017-03-16",
          "issues": 2686,
          "pull requests": 5796
         },
         {
          "commits": 10329,
          "date": "2017-03-17",
          "issues": 2689,
          "pull requests": 5799
         },
         {
          "commits": 10334,
          "date": "2017-03-18",
          "issues": 2694,
          "pull requests": 5800
         },
         {
          "commits": 10337,
          "date": "2017-03-19",
          "issues": 2695,
          "pull requests": 5803
         },
         {
          "commits": 10346,
          "date": "2017-03-20",
          "issues": 2695,
          "pull requests": 5806
         },
         {
          "commits": 10354,
          "date": "2017-03-21",
          "issues": 2697,
          "pull requests": 5810
         },
         {
          "commits": 10362,
          "date": "2017-03-22",
          "issues": 2697,
          "pull requests": 5819
         },
         {
          "commits": 10365,
          "date": "2017-03-23",
          "issues": 2700,
          "pull requests": 5822
         },
         {
          "commits": 10391,
          "date": "2017-03-24",
          "issues": 2702,
          "pull requests": 5826
         },
         {
          "commits": 10394,
          "date": "2017-03-25",
          "issues": 2703,
          "pull requests": 5830
         },
         {
          "commits": 10399,
          "date": "2017-03-26",
          "issues": 2705,
          "pull requests": 5840
         },
         {
          "commits": 10409,
          "date": "2017-03-27",
          "issues": 2705,
          "pull requests": 5849
         },
         {
          "commits": 10417,
          "date": "2017-03-28",
          "issues": 2708,
          "pull requests": 5855
         },
         {
          "commits": 10427,
          "date": "2017-03-29",
          "issues": 2708,
          "pull requests": 5860
         },
         {
          "commits": 10437,
          "date": "2017-03-30",
          "issues": 2709,
          "pull requests": 5871
         },
         {
          "commits": 10442,
          "date": "2017-03-31",
          "issues": 2711,
          "pull requests": 5874
         },
         {
          "commits": 10444,
          "date": "2017-04-01",
          "issues": 2711,
          "pull requests": 5875
         },
         {
          "commits": 10456,
          "date": "2017-04-02",
          "issues": 2714,
          "pull requests": 5876
         },
         {
          "commits": 10468,
          "date": "2017-04-03",
          "issues": 2714,
          "pull requests": 5880
         },
         {
          "commits": 10474,
          "date": "2017-04-04",
          "issues": 2715,
          "pull requests": 5887
         },
         {
          "commits": 10478,
          "date": "2017-04-05",
          "issues": 2715,
          "pull requests": 5893
         },
         {
          "commits": 10483,
          "date": "2017-04-06",
          "issues": 2715,
          "pull requests": 5895
         },
         {
          "commits": 10500,
          "date": "2017-04-07",
          "issues": 2717,
          "pull requests": 5901
         },
         {
          "commits": 10502,
          "date": "2017-04-08",
          "issues": 2718,
          "pull requests": 5903
         },
         {
          "commits": 10502,
          "date": "2017-04-09",
          "issues": 2718,
          "pull requests": 5903
         },
         {
          "commits": 10518,
          "date": "2017-04-10",
          "issues": 2719,
          "pull requests": 5909
         },
         {
          "commits": 10521,
          "date": "2017-04-11",
          "issues": 2720,
          "pull requests": 5920
         },
         {
          "commits": 10523,
          "date": "2017-04-12",
          "issues": 2720,
          "pull requests": 5928
         },
         {
          "commits": 10535,
          "date": "2017-04-13",
          "issues": 2721,
          "pull requests": 5933
         },
         {
          "commits": 10539,
          "date": "2017-04-14",
          "issues": 2724,
          "pull requests": 5939
         },
         {
          "commits": 10539,
          "date": "2017-04-15",
          "issues": 2724,
          "pull requests": 5939
         },
         {
          "commits": 10539,
          "date": "2017-04-16",
          "issues": 2724,
          "pull requests": 5939
         },
         {
          "commits": 10546,
          "date": "2017-04-17",
          "issues": 2724,
          "pull requests": 5943
         },
         {
          "commits": 10552,
          "date": "2017-04-18",
          "issues": 2724,
          "pull requests": 5948
         },
         {
          "commits": 10563,
          "date": "2017-04-19",
          "issues": 2725,
          "pull requests": 5954
         },
         {
          "commits": 10579,
          "date": "2017-04-20",
          "issues": 2727,
          "pull requests": 5961
         },
         {
          "commits": 10587,
          "date": "2017-04-21",
          "issues": 2728,
          "pull requests": 5968
         },
         {
          "commits": 10589,
          "date": "2017-04-22",
          "issues": 2729,
          "pull requests": 5970
         },
         {
          "commits": 10591,
          "date": "2017-04-23",
          "issues": 2731,
          "pull requests": 5973
         },
         {
          "commits": 10591,
          "date": "2017-04-24",
          "issues": 2731,
          "pull requests": 5973
         },
         {
          "commits": 10597,
          "date": "2017-04-25",
          "issues": 2731,
          "pull requests": 5980
         },
         {
          "commits": 10602,
          "date": "2017-04-26",
          "issues": 2731,
          "pull requests": 5985
         },
         {
          "commits": 10603,
          "date": "2017-04-27",
          "issues": 2734,
          "pull requests": 5989
         },
         {
          "commits": 10610,
          "date": "2017-04-28",
          "issues": 2736,
          "pull requests": 5993
         },
         {
          "commits": 10610,
          "date": "2017-04-29",
          "issues": 2736,
          "pull requests": 5993
         },
         {
          "commits": 10611,
          "date": "2017-04-30",
          "issues": 2737,
          "pull requests": 5995
         },
         {
          "commits": 10616,
          "date": "2017-05-01",
          "issues": 2738,
          "pull requests": 6001
         },
         {
          "commits": 10626,
          "date": "2017-05-02",
          "issues": 2741,
          "pull requests": 6007
         },
         {
          "commits": 10645,
          "date": "2017-05-03",
          "issues": 2745,
          "pull requests": 6016
         },
         {
          "commits": 10653,
          "date": "2017-05-04",
          "issues": 2746,
          "pull requests": 6021
         },
         {
          "commits": 10662,
          "date": "2017-05-05",
          "issues": 2746,
          "pull requests": 6026
         },
         {
          "commits": 10666,
          "date": "2017-05-06",
          "issues": 2747,
          "pull requests": 6026
         },
         {
          "commits": 10667,
          "date": "2017-05-07",
          "issues": 2747,
          "pull requests": 6029
         },
         {
          "commits": 10671,
          "date": "2017-05-08",
          "issues": 2750,
          "pull requests": 6037
         },
         {
          "commits": 10681,
          "date": "2017-05-09",
          "issues": 2751,
          "pull requests": 6044
         },
         {
          "commits": 10697,
          "date": "2017-05-10",
          "issues": 2751,
          "pull requests": 6048
         },
         {
          "commits": 10705,
          "date": "2017-05-11",
          "issues": 2752,
          "pull requests": 6050
         },
         {
          "commits": 10707,
          "date": "2017-05-12",
          "issues": 2754,
          "pull requests": 6051
         },
         {
          "commits": 10708,
          "date": "2017-05-13",
          "issues": 2755,
          "pull requests": 6051
         },
         {
          "commits": 10709,
          "date": "2017-05-14",
          "issues": 2758,
          "pull requests": 6052
         },
         {
          "commits": 10712,
          "date": "2017-05-15",
          "issues": 2761,
          "pull requests": 6056
         },
         {
          "commits": 10719,
          "date": "2017-05-16",
          "issues": 2762,
          "pull requests": 6060
         },
         {
          "commits": 10729,
          "date": "2017-05-17",
          "issues": 2764,
          "pull requests": 6063
         },
         {
          "commits": 10734,
          "date": "2017-05-18",
          "issues": 2764,
          "pull requests": 6070
         },
         {
          "commits": 10738,
          "date": "2017-05-19",
          "issues": 2765,
          "pull requests": 6076
         },
         {
          "commits": 10738,
          "date": "2017-05-20",
          "issues": 2765,
          "pull requests": 6076
         },
         {
          "commits": 10738,
          "date": "2017-05-21",
          "issues": 2765,
          "pull requests": 6076
         },
         {
          "commits": 10742,
          "date": "2017-05-22",
          "issues": 2767,
          "pull requests": 6080
         },
         {
          "commits": 10746,
          "date": "2017-05-23",
          "issues": 2767,
          "pull requests": 6081
         },
         {
          "commits": 10750,
          "date": "2017-05-24",
          "issues": 2767,
          "pull requests": 6084
         },
         {
          "commits": 10754,
          "date": "2017-05-25",
          "issues": 2770,
          "pull requests": 6087
         },
         {
          "commits": 10764,
          "date": "2017-05-26",
          "issues": 2770,
          "pull requests": 6093
         },
         {
          "commits": 10766,
          "date": "2017-05-27",
          "issues": 2773,
          "pull requests": 6098
         },
         {
          "commits": 10767,
          "date": "2017-05-28",
          "issues": 2773,
          "pull requests": 6099
         },
         {
          "commits": 10768,
          "date": "2017-05-29",
          "issues": 2775,
          "pull requests": 6100
         },
         {
          "commits": 10772,
          "date": "2017-05-30",
          "issues": 2775,
          "pull requests": 6105
         },
         {
          "commits": 10777,
          "date": "2017-05-31",
          "issues": 2781,
          "pull requests": 6110
         },
         {
          "commits": 10806,
          "date": "2017-06-01",
          "issues": 2785,
          "pull requests": 6119
         },
         {
          "commits": 10809,
          "date": "2017-06-02",
          "issues": 2787,
          "pull requests": 6124
         },
         {
          "commits": 10812,
          "date": "2017-06-03",
          "issues": 2787,
          "pull requests": 6132
         },
         {
          "commits": 10813,
          "date": "2017-06-04",
          "issues": 2789,
          "pull requests": 6134
         },
         {
          "commits": 10844,
          "date": "2017-06-05",
          "issues": 2789,
          "pull requests": 6141
         },
         {
          "commits": 10859,
          "date": "2017-06-06",
          "issues": 2790,
          "pull requests": 6148
         },
         {
          "commits": 10876,
          "date": "2017-06-07",
          "issues": 2790,
          "pull requests": 6154
         },
         {
          "commits": 10886,
          "date": "2017-06-08",
          "issues": 2790,
          "pull requests": 6163
         },
         {
          "commits": 10898,
          "date": "2017-06-09",
          "issues": 2791,
          "pull requests": 6169
         },
         {
          "commits": 10901,
          "date": "2017-06-10",
          "issues": 2792,
          "pull requests": 6170
         },
         {
          "commits": 10903,
          "date": "2017-06-11",
          "issues": 2794,
          "pull requests": 6173
         },
         {
          "commits": 10911,
          "date": "2017-06-12",
          "issues": 2794,
          "pull requests": 6175
         },
         {
          "commits": 10912,
          "date": "2017-06-13",
          "issues": 2794,
          "pull requests": 6179
         },
         {
          "commits": 10921,
          "date": "2017-06-14",
          "issues": 2795,
          "pull requests": 6188
         },
         {
          "commits": 10923,
          "date": "2017-06-15",
          "issues": 2799,
          "pull requests": 6196
         },
         {
          "commits": 10925,
          "date": "2017-06-16",
          "issues": 2805,
          "pull requests": 6199
         },
         {
          "commits": 10925,
          "date": "2017-06-17",
          "issues": 2805,
          "pull requests": 6199
         },
         {
          "commits": 10928,
          "date": "2017-06-18",
          "issues": 2808,
          "pull requests": 6201
         },
         {
          "commits": 10930,
          "date": "2017-06-19",
          "issues": 2809,
          "pull requests": 6207
         },
         {
          "commits": 10932,
          "date": "2017-06-20",
          "issues": 2809,
          "pull requests": 6210
         },
         {
          "commits": 10933,
          "date": "2017-06-21",
          "issues": 2813,
          "pull requests": 6213
         },
         {
          "commits": 10948,
          "date": "2017-06-22",
          "issues": 2813,
          "pull requests": 6218
         },
         {
          "commits": 10950,
          "date": "2017-06-23",
          "issues": 2814,
          "pull requests": 6224
         },
         {
          "commits": 10950,
          "date": "2017-06-24",
          "issues": 2814,
          "pull requests": 6224
         },
         {
          "commits": 10951,
          "date": "2017-06-25",
          "issues": 2814,
          "pull requests": 6225
         },
         {
          "commits": 10958,
          "date": "2017-06-26",
          "issues": 2816,
          "pull requests": 6227
         },
         {
          "commits": 10982,
          "date": "2017-06-27",
          "issues": 2818,
          "pull requests": 6236
         },
         {
          "commits": 10985,
          "date": "2017-06-28",
          "issues": 2820,
          "pull requests": 6246
         },
         {
          "commits": 11000,
          "date": "2017-06-29",
          "issues": 2821,
          "pull requests": 6254
         },
         {
          "commits": 11006,
          "date": "2017-06-30",
          "issues": 2822,
          "pull requests": 6257
         },
         {
          "commits": 11007,
          "date": "2017-07-01",
          "issues": 2822,
          "pull requests": 6257
         },
         {
          "commits": 11010,
          "date": "2017-07-02",
          "issues": 2824,
          "pull requests": 6259
         },
         {
          "commits": 11011,
          "date": "2017-07-03",
          "issues": 2832,
          "pull requests": 6265
         },
         {
          "commits": 11015,
          "date": "2017-07-04",
          "issues": 2833,
          "pull requests": 6271
         },
         {
          "commits": 11019,
          "date": "2017-07-05",
          "issues": 2835,
          "pull requests": 6277
         },
         {
          "commits": 11023,
          "date": "2017-07-06",
          "issues": 2837,
          "pull requests": 6280
         },
         {
          "commits": 11034,
          "date": "2017-07-07",
          "issues": 2838,
          "pull requests": 6292
         },
         {
          "commits": 11048,
          "date": "2017-07-08",
          "issues": 2838,
          "pull requests": 6298
         },
         {
          "commits": 11050,
          "date": "2017-07-09",
          "issues": 2839,
          "pull requests": 6301
         },
         {
          "commits": 11052,
          "date": "2017-07-10",
          "issues": 2840,
          "pull requests": 6306
         },
         {
          "commits": 11059,
          "date": "2017-07-11",
          "issues": 2843,
          "pull requests": 6314
         },
         {
          "commits": 11064,
          "date": "2017-07-12",
          "issues": 2845,
          "pull requests": 6324
         },
         {
          "commits": 11072,
          "date": "2017-07-13",
          "issues": 2847,
          "pull requests": 6330
         },
         {
          "commits": 11075,
          "date": "2017-07-14",
          "issues": 2849,
          "pull requests": 6338
         },
         {
          "commits": 11093,
          "date": "2017-07-15",
          "issues": 2850,
          "pull requests": 6345
         },
         {
          "commits": 11097,
          "date": "2017-07-16",
          "issues": 2850,
          "pull requests": 6354
         },
         {
          "commits": 11128,
          "date": "2017-07-17",
          "issues": 2854,
          "pull requests": 6361
         },
         {
          "commits": 11134,
          "date": "2017-07-18",
          "issues": 2857,
          "pull requests": 6372
         },
         {
          "commits": 11137,
          "date": "2017-07-19",
          "issues": 2857,
          "pull requests": 6382
         },
         {
          "commits": 11148,
          "date": "2017-07-20",
          "issues": 2858,
          "pull requests": 6385
         },
         {
          "commits": 11152,
          "date": "2017-07-21",
          "issues": 2860,
          "pull requests": 6396
         },
         {
          "commits": 11153,
          "date": "2017-07-22",
          "issues": 2865,
          "pull requests": 6400
         },
         {
          "commits": 11154,
          "date": "2017-07-23",
          "issues": 2865,
          "pull requests": 6402
         },
         {
          "commits": 11156,
          "date": "2017-07-24",
          "issues": 2867,
          "pull requests": 6406
         },
         {
          "commits": 11162,
          "date": "2017-07-25",
          "issues": 2869,
          "pull requests": 6409
         },
         {
          "commits": 11164,
          "date": "2017-07-26",
          "issues": 2871,
          "pull requests": 6418
         },
         {
          "commits": 11171,
          "date": "2017-07-27",
          "issues": 2872,
          "pull requests": 6420
         },
         {
          "commits": 11179,
          "date": "2017-07-28",
          "issues": 2874,
          "pull requests": 6424
         },
         {
          "commits": 11179,
          "date": "2017-07-29",
          "issues": 2874,
          "pull requests": 6424
         },
         {
          "commits": 11180,
          "date": "2017-07-30",
          "issues": 2876,
          "pull requests": 6427
         },
         {
          "commits": 11183,
          "date": "2017-07-31",
          "issues": 2879,
          "pull requests": 6433
         },
         {
          "commits": 11189,
          "date": "2017-08-01",
          "issues": 2881,
          "pull requests": 6438
         },
         {
          "commits": 11194,
          "date": "2017-08-02",
          "issues": 2882,
          "pull requests": 6441
         },
         {
          "commits": 11196,
          "date": "2017-08-03",
          "issues": 2885,
          "pull requests": 6444
         },
         {
          "commits": 11201,
          "date": "2017-08-04",
          "issues": 2886,
          "pull requests": 6447
         },
         {
          "commits": 11204,
          "date": "2017-08-05",
          "issues": 2889,
          "pull requests": 6450
         },
         {
          "commits": 11205,
          "date": "2017-08-06",
          "issues": 2889,
          "pull requests": 6451
         },
         {
          "commits": 11215,
          "date": "2017-08-07",
          "issues": 2890,
          "pull requests": 6457
         },
         {
          "commits": 11218,
          "date": "2017-08-08",
          "issues": 2890,
          "pull requests": 6462
         },
         {
          "commits": 11224,
          "date": "2017-08-09",
          "issues": 2892,
          "pull requests": 6466
         },
         {
          "commits": 11231,
          "date": "2017-08-10",
          "issues": 2892,
          "pull requests": 6475
         },
         {
          "commits": 11232,
          "date": "2017-08-11",
          "issues": 2894,
          "pull requests": 6479
         },
         {
          "commits": 11236,
          "date": "2017-08-12",
          "issues": 2897,
          "pull requests": 6480
         },
         {
          "commits": 11237,
          "date": "2017-08-13",
          "issues": 2899,
          "pull requests": 6482
         },
         {
          "commits": 11252,
          "date": "2017-08-14",
          "issues": 2901,
          "pull requests": 6488
         },
         {
          "commits": 11259,
          "date": "2017-08-15",
          "issues": 2903,
          "pull requests": 6493
         },
         {
          "commits": 11265,
          "date": "2017-08-16",
          "issues": 2909,
          "pull requests": 6501
         },
         {
          "commits": 11271,
          "date": "2017-08-17",
          "issues": 2911,
          "pull requests": 6509
         },
         {
          "commits": 11274,
          "date": "2017-08-18",
          "issues": 2913,
          "pull requests": 6517
         },
         {
          "commits": 11276,
          "date": "2017-08-19",
          "issues": 2915,
          "pull requests": 6520
         },
         {
          "commits": 11278,
          "date": "2017-08-20",
          "issues": 2915,
          "pull requests": 6523
         },
         {
          "commits": 11279,
          "date": "2017-08-21",
          "issues": 2918,
          "pull requests": 6526
         },
         {
          "commits": 11281,
          "date": "2017-08-22",
          "issues": 2919,
          "pull requests": 6533
         },
         {
          "commits": 11286,
          "date": "2017-08-23",
          "issues": 2922,
          "pull requests": 6538
         },
         {
          "commits": 11289,
          "date": "2017-08-24",
          "issues": 2924,
          "pull requests": 6541
         },
         {
          "commits": 11299,
          "date": "2017-08-25",
          "issues": 2929,
          "pull requests": 6555
         },
         {
          "commits": 11303,
          "date": "2017-08-26",
          "issues": 2935,
          "pull requests": 6564
         },
         {
          "commits": 11306,
          "date": "2017-08-27",
          "issues": 2937,
          "pull requests": 6565
         },
         {
          "commits": 11317,
          "date": "2017-08-28",
          "issues": 2940,
          "pull requests": 6573
         },
         {
          "commits": 11318,
          "date": "2017-08-29",
          "issues": 2942,
          "pull requests": 6579
         },
         {
          "commits": 11321,
          "date": "2017-08-30",
          "issues": 2943,
          "pull requests": 6582
         },
         {
          "commits": 11324,
          "date": "2017-08-31",
          "issues": 2945,
          "pull requests": 6589
         },
         {
          "commits": 11331,
          "date": "2017-09-01",
          "issues": 2948,
          "pull requests": 6593
         },
         {
          "commits": 11332,
          "date": "2017-09-02",
          "issues": 2950,
          "pull requests": 6596
         },
         {
          "commits": 11334,
          "date": "2017-09-03",
          "issues": 2951,
          "pull requests": 6600
         },
         {
          "commits": 11336,
          "date": "2017-09-04",
          "issues": 2951,
          "pull requests": 6603
         },
         {
          "commits": 11348,
          "date": "2017-09-05",
          "issues": 2957,
          "pull requests": 6614
         },
         {
          "commits": 11372,
          "date": "2017-09-06",
          "issues": 2960,
          "pull requests": 6621
         },
         {
          "commits": 11398,
          "date": "2017-09-07",
          "issues": 2966,
          "pull requests": 6634
         },
         {
          "commits": 11401,
          "date": "2017-09-08",
          "issues": 2969,
          "pull requests": 6642
         },
         {
          "commits": 11402,
          "date": "2017-09-09",
          "issues": 2970,
          "pull requests": 6643
         },
         {
          "commits": 11403,
          "date": "2017-09-10",
          "issues": 2971,
          "pull requests": 6645
         },
         {
          "commits": 11411,
          "date": "2017-09-11",
          "issues": 2973,
          "pull requests": 6648
         },
         {
          "commits": 11420,
          "date": "2017-09-12",
          "issues": 2975,
          "pull requests": 6655
         },
         {
          "commits": 11427,
          "date": "2017-09-13",
          "issues": 2980,
          "pull requests": 6660
         },
         {
          "commits": 11432,
          "date": "2017-09-14",
          "issues": 2981,
          "pull requests": 6666
         },
         {
          "commits": 11436,
          "date": "2017-09-15",
          "issues": 2983,
          "pull requests": 6676
         },
         {
          "commits": 11438,
          "date": "2017-09-16",
          "issues": 2987,
          "pull requests": 6682
         },
         {
          "commits": 11438,
          "date": "2017-09-17",
          "issues": 2987,
          "pull requests": 6682
         },
         {
          "commits": 11443,
          "date": "2017-09-18",
          "issues": 2988,
          "pull requests": 6683
         },
         {
          "commits": 11446,
          "date": "2017-09-19",
          "issues": 2990,
          "pull requests": 6688
         },
         {
          "commits": 11451,
          "date": "2017-09-20",
          "issues": 2993,
          "pull requests": 6690
         },
         {
          "commits": 11458,
          "date": "2017-09-21",
          "issues": 2995,
          "pull requests": 6693
         },
         {
          "commits": 11461,
          "date": "2017-09-22",
          "issues": 2995,
          "pull requests": 6696
         },
         {
          "commits": 11463,
          "date": "2017-09-23",
          "issues": 2996,
          "pull requests": 6698
         },
         {
          "commits": 11465,
          "date": "2017-09-24",
          "issues": 2997,
          "pull requests": 6700
         },
         {
          "commits": 11466,
          "date": "2017-09-25",
          "issues": 2998,
          "pull requests": 6707
         },
         {
          "commits": 11471,
          "date": "2017-09-26",
          "issues": 2999,
          "pull requests": 6712
         },
         {
          "commits": 11475,
          "date": "2017-09-27",
          "issues": 3000,
          "pull requests": 6713
         },
         {
          "commits": 11484,
          "date": "2017-09-28",
          "issues": 3000,
          "pull requests": 6717
         },
         {
          "commits": 11494,
          "date": "2017-09-29",
          "issues": 3001,
          "pull requests": 6725
         },
         {
          "commits": 11496,
          "date": "2017-09-30",
          "issues": 3003,
          "pull requests": 6731
         },
         {
          "commits": 11498,
          "date": "2017-10-01",
          "issues": 3003,
          "pull requests": 6733
         },
         {
          "commits": 11507,
          "date": "2017-10-02",
          "issues": 3004,
          "pull requests": 6737
         },
         {
          "commits": 11513,
          "date": "2017-10-03",
          "issues": 3005,
          "pull requests": 6743
         },
         {
          "commits": 11518,
          "date": "2017-10-04",
          "issues": 3008,
          "pull requests": 6744
         },
         {
          "commits": 11523,
          "date": "2017-10-05",
          "issues": 3010,
          "pull requests": 6747
         },
         {
          "commits": 11523,
          "date": "2017-10-06",
          "issues": 3010,
          "pull requests": 6747
         },
         {
          "commits": 11526,
          "date": "2017-10-07",
          "issues": 3013,
          "pull requests": 6748
         },
         {
          "commits": 11526,
          "date": "2017-10-08",
          "issues": 3013,
          "pull requests": 6748
         },
         {
          "commits": 11533,
          "date": "2017-10-09",
          "issues": 3015,
          "pull requests": 6754
         },
         {
          "commits": 11540,
          "date": "2017-10-10",
          "issues": 3016,
          "pull requests": 6757
         },
         {
          "commits": 11545,
          "date": "2017-10-11",
          "issues": 3017,
          "pull requests": 6766
         },
         {
          "commits": 11548,
          "date": "2017-10-12",
          "issues": 3017,
          "pull requests": 6770
         },
         {
          "commits": 11569,
          "date": "2017-10-13",
          "issues": 3017,
          "pull requests": 6773
         },
         {
          "commits": 11571,
          "date": "2017-10-14",
          "issues": 3017,
          "pull requests": 6776
         },
         {
          "commits": 11572,
          "date": "2017-10-15",
          "issues": 3022,
          "pull requests": 6776
         },
         {
          "commits": 11574,
          "date": "2017-10-16",
          "issues": 3023,
          "pull requests": 6782
         },
         {
          "commits": 11581,
          "date": "2017-10-17",
          "issues": 3023,
          "pull requests": 6788
         },
         {
          "commits": 11593,
          "date": "2017-10-18",
          "issues": 3025,
          "pull requests": 6789
         },
         {
          "commits": 11598,
          "date": "2017-10-19",
          "issues": 3025,
          "pull requests": 6798
         },
         {
          "commits": 11603,
          "date": "2017-10-20",
          "issues": 3026,
          "pull requests": 6805
         },
         {
          "commits": 11605,
          "date": "2017-10-21",
          "issues": 3029,
          "pull requests": 6809
         },
         {
          "commits": 11605,
          "date": "2017-10-22",
          "issues": 3029,
          "pull requests": 6809
         },
         {
          "commits": 11606,
          "date": "2017-10-23",
          "issues": 3031,
          "pull requests": 6810
         },
         {
          "commits": 11608,
          "date": "2017-10-24",
          "issues": 3032,
          "pull requests": 6812
         },
         {
          "commits": 11610,
          "date": "2017-10-25",
          "issues": 3033,
          "pull requests": 6817
         },
         {
          "commits": 11617,
          "date": "2017-10-26",
          "issues": 3036,
          "pull requests": 6820
         },
         {
          "commits": 11618,
          "date": "2017-10-27",
          "issues": 3036,
          "pull requests": 6820
         },
         {
          "commits": 11619,
          "date": "2017-10-28",
          "issues": 3036,
          "pull requests": 6822
         },
         {
          "commits": 11620,
          "date": "2017-10-29",
          "issues": 3039,
          "pull requests": 6824
         },
         {
          "commits": 11623,
          "date": "2017-10-30",
          "issues": 3040,
          "pull requests": 6830
         },
         {
          "commits": 11630,
          "date": "2017-10-31",
          "issues": 3043,
          "pull requests": 6832
         },
         {
          "commits": 11634,
          "date": "2017-11-01",
          "issues": 3044,
          "pull requests": 6835
         },
         {
          "commits": 11639,
          "date": "2017-11-02",
          "issues": 3044,
          "pull requests": 6840
         },
         {
          "commits": 11641,
          "date": "2017-11-03",
          "issues": 3046,
          "pull requests": 6843
         },
         {
          "commits": 11642,
          "date": "2017-11-04",
          "issues": 3048,
          "pull requests": 6846
         },
         {
          "commits": 11643,
          "date": "2017-11-05",
          "issues": 3051,
          "pull requests": 6848
         },
         {
          "commits": 11647,
          "date": "2017-11-06",
          "issues": 3051,
          "pull requests": 6858
         },
         {
          "commits": 11660,
          "date": "2017-11-07",
          "issues": 3053,
          "pull requests": 6863
         },
         {
          "commits": 11668,
          "date": "2017-11-08",
          "issues": 3057,
          "pull requests": 6870
         },
         {
          "commits": 11688,
          "date": "2017-11-09",
          "issues": 3059,
          "pull requests": 6876
         },
         {
          "commits": 11700,
          "date": "2017-11-10",
          "issues": 3060,
          "pull requests": 6881
         },
         {
          "commits": 11704,
          "date": "2017-11-11",
          "issues": 3063,
          "pull requests": 6885
         },
         {
          "commits": 11705,
          "date": "2017-11-12",
          "issues": 3067,
          "pull requests": 6888
         },
         {
          "commits": 11709,
          "date": "2017-11-13",
          "issues": 3069,
          "pull requests": 6891
         },
         {
          "commits": 11713,
          "date": "2017-11-14",
          "issues": 3072,
          "pull requests": 6899
         },
         {
          "commits": 11725,
          "date": "2017-11-15",
          "issues": 3075,
          "pull requests": 6906
         },
         {
          "commits": 11734,
          "date": "2017-11-16",
          "issues": 3076,
          "pull requests": 6911
         },
         {
          "commits": 11750,
          "date": "2017-11-17",
          "issues": 3077,
          "pull requests": 6915
         },
         {
          "commits": 11756,
          "date": "2017-11-18",
          "issues": 3086,
          "pull requests": 6919
         },
         {
          "commits": 11757,
          "date": "2017-11-19",
          "issues": 3088,
          "pull requests": 6922
         },
         {
          "commits": 11761,
          "date": "2017-11-20",
          "issues": 3091,
          "pull requests": 6930
         },
         {
          "commits": 11765,
          "date": "2017-11-21",
          "issues": 3092,
          "pull requests": 6935
         },
         {
          "commits": 11768,
          "date": "2017-11-22",
          "issues": 3093,
          "pull requests": 6941
         },
         {
          "commits": 11771,
          "date": "2017-11-23",
          "issues": 3096,
          "pull requests": 6944
         },
         {
          "commits": 11771,
          "date": "2017-11-24",
          "issues": 3096,
          "pull requests": 6944
         },
         {
          "commits": 11771,
          "date": "2017-11-25",
          "issues": 3096,
          "pull requests": 6944
         },
         {
          "commits": 11771,
          "date": "2017-11-26",
          "issues": 3096,
          "pull requests": 6944
         },
         {
          "commits": 11772,
          "date": "2017-11-27",
          "issues": 3100,
          "pull requests": 6951
         },
         {
          "commits": 11777,
          "date": "2017-11-28",
          "issues": 3102,
          "pull requests": 6953
         },
         {
          "commits": 11785,
          "date": "2017-11-29",
          "issues": 3104,
          "pull requests": 6959
         },
         {
          "commits": 11790,
          "date": "2017-11-30",
          "issues": 3107,
          "pull requests": 6968
         },
         {
          "commits": 11794,
          "date": "2017-12-01",
          "issues": 3113,
          "pull requests": 6971
         },
         {
          "commits": 11794,
          "date": "2017-12-02",
          "issues": 3113,
          "pull requests": 6971
         },
         {
          "commits": 11794,
          "date": "2017-12-03",
          "issues": 3113,
          "pull requests": 6971
         },
         {
          "commits": 11800,
          "date": "2017-12-04",
          "issues": 3116,
          "pull requests": 6971
         },
         {
          "commits": 11809,
          "date": "2017-12-05",
          "issues": 3122,
          "pull requests": 6977
         },
         {
          "commits": 11812,
          "date": "2017-12-06",
          "issues": 3124,
          "pull requests": 6980
         },
         {
          "commits": 11818,
          "date": "2017-12-07",
          "issues": 3127,
          "pull requests": 6984
         },
         {
          "commits": 11819,
          "date": "2017-12-08",
          "issues": 3131,
          "pull requests": 6988
         },
         {
          "commits": 11820,
          "date": "2017-12-09",
          "issues": 3131,
          "pull requests": 6989
         },
         {
          "commits": 11822,
          "date": "2017-12-10",
          "issues": 3131,
          "pull requests": 6990
         },
         {
          "commits": 11830,
          "date": "2017-12-11",
          "issues": 3134,
          "pull requests": 6996
         },
         {
          "commits": 11837,
          "date": "2017-12-12",
          "issues": 3138,
          "pull requests": 7004
         },
         {
          "commits": 11844,
          "date": "2017-12-13",
          "issues": 3142,
          "pull requests": 7007
         },
         {
          "commits": 11847,
          "date": "2017-12-14",
          "issues": 3150,
          "pull requests": 7011
         },
         {
          "commits": 11850,
          "date": "2017-12-15",
          "issues": 3153,
          "pull requests": 7018
         },
         {
          "commits": 11852,
          "date": "2017-12-16",
          "issues": 3153,
          "pull requests": 7021
         },
         {
          "commits": 11853,
          "date": "2017-12-17",
          "issues": 3158,
          "pull requests": 7024
         },
         {
          "commits": 11855,
          "date": "2017-12-18",
          "issues": 3161,
          "pull requests": 7027
         },
         {
          "commits": 11870,
          "date": "2017-12-19",
          "issues": 3168,
          "pull requests": 7033
         },
         {
          "commits": 11881,
          "date": "2017-12-20",
          "issues": 3174,
          "pull requests": 7038
         },
         {
          "commits": 11884,
          "date": "2017-12-21",
          "issues": 3177,
          "pull requests": 7043
         },
         {
          "commits": 11887,
          "date": "2017-12-22",
          "issues": 3180,
          "pull requests": 7049
         },
         {
          "commits": 11889,
          "date": "2017-12-23",
          "issues": 3184,
          "pull requests": 7052
         },
         {
          "commits": 11893,
          "date": "2017-12-24",
          "issues": 3188,
          "pull requests": 7054
         },
         {
          "commits": 11893,
          "date": "2017-12-25",
          "issues": 3188,
          "pull requests": 7054
         },
         {
          "commits": 11898,
          "date": "2017-12-26",
          "issues": 3191,
          "pull requests": 7058
         },
         {
          "commits": 11898,
          "date": "2017-12-27",
          "issues": 3191,
          "pull requests": 7058
         },
         {
          "commits": 11899,
          "date": "2017-12-28",
          "issues": 3194,
          "pull requests": 7061
         },
         {
          "commits": 11902,
          "date": "2017-12-29",
          "issues": 3196,
          "pull requests": 7064
         },
         {
          "commits": 11903,
          "date": "2017-12-30",
          "issues": 3200,
          "pull requests": 7066
         },
         {
          "commits": 11903,
          "date": "2017-12-31",
          "issues": 3201,
          "pull requests": 7068
         },
         {
          "commits": 11903,
          "date": "2018-01-01",
          "issues": 3201,
          "pull requests": 7068
         },
         {
          "commits": 11906,
          "date": "2018-01-02",
          "issues": 3201,
          "pull requests": 7072
         },
         {
          "commits": 11915,
          "date": "2018-01-03",
          "issues": 3201,
          "pull requests": 7075
         },
         {
          "commits": 11917,
          "date": "2018-01-04",
          "issues": 3206,
          "pull requests": 7079
         },
         {
          "commits": 11921,
          "date": "2018-01-05",
          "issues": 3206,
          "pull requests": 7082
         },
         {
          "commits": 11922,
          "date": "2018-01-06",
          "issues": 3208,
          "pull requests": 7084
         },
         {
          "commits": 11923,
          "date": "2018-01-07",
          "issues": 3212,
          "pull requests": 7085
         },
         {
          "commits": 11930,
          "date": "2018-01-08",
          "issues": 3216,
          "pull requests": 7091
         },
         {
          "commits": 11941,
          "date": "2018-01-09",
          "issues": 3218,
          "pull requests": 7099
         },
         {
          "commits": 11941,
          "date": "2018-01-10",
          "issues": 3218,
          "pull requests": 7099
         },
         {
          "commits": 11945,
          "date": "2018-01-11",
          "issues": 3222,
          "pull requests": 7109
         },
         {
          "commits": 11949,
          "date": "2018-01-12",
          "issues": 3225,
          "pull requests": 7114
         },
         {
          "commits": 11951,
          "date": "2018-01-13",
          "issues": 3227,
          "pull requests": 7115
         },
         {
          "commits": 11951,
          "date": "2018-01-14",
          "issues": 3227,
          "pull requests": 7115
         },
         {
          "commits": 11953,
          "date": "2018-01-15",
          "issues": 3230,
          "pull requests": 7120
         },
         {
          "commits": 11961,
          "date": "2018-01-16",
          "issues": 3233,
          "pull requests": 7125
         },
         {
          "commits": 11964,
          "date": "2018-01-17",
          "issues": 3234,
          "pull requests": 7131
         },
         {
          "commits": 11967,
          "date": "2018-01-18",
          "issues": 3236,
          "pull requests": 7137
         },
         {
          "commits": 11974,
          "date": "2018-01-19",
          "issues": 3240,
          "pull requests": 7140
         },
         {
          "commits": 11974,
          "date": "2018-01-20",
          "issues": 3240,
          "pull requests": 7140
         },
         {
          "commits": 11974,
          "date": "2018-01-21",
          "issues": 3240,
          "pull requests": 7140
         },
         {
          "commits": 11975,
          "date": "2018-01-22",
          "issues": 3243,
          "pull requests": 7142
         },
         {
          "commits": 11980,
          "date": "2018-01-23",
          "issues": 3246,
          "pull requests": 7147
         },
         {
          "commits": 12005,
          "date": "2018-01-24",
          "issues": 3249,
          "pull requests": 7155
         },
         {
          "commits": 12015,
          "date": "2018-01-25",
          "issues": 3252,
          "pull requests": 7160
         },
         {
          "commits": 12015,
          "date": "2018-01-26",
          "issues": 3252,
          "pull requests": 7160
         },
         {
          "commits": 12015,
          "date": "2018-01-27",
          "issues": 3252,
          "pull requests": 7160
         },
         {
          "commits": 12017,
          "date": "2018-01-28",
          "issues": 3255,
          "pull requests": 7165
         },
         {
          "commits": 12031,
          "date": "2018-01-29",
          "issues": 3256,
          "pull requests": 7171
         },
         {
          "commits": 12041,
          "date": "2018-01-30",
          "issues": 3257,
          "pull requests": 7177
         },
         {
          "commits": 12045,
          "date": "2018-01-31",
          "issues": 3263,
          "pull requests": 7183
         },
         {
          "commits": 12049,
          "date": "2018-02-01",
          "issues": 3265,
          "pull requests": 7190
         },
         {
          "commits": 12055,
          "date": "2018-02-02",
          "issues": 3271,
          "pull requests": 7194
         },
         {
          "commits": 12056,
          "date": "2018-02-03",
          "issues": 3274,
          "pull requests": 7196
         },
         {
          "commits": 12056,
          "date": "2018-02-04",
          "issues": 3274,
          "pull requests": 7196
         },
         {
          "commits": 12061,
          "date": "2018-02-05",
          "issues": 3276,
          "pull requests": 7202
         },
         {
          "commits": 12071,
          "date": "2018-02-06",
          "issues": 3281,
          "pull requests": 7206
         },
         {
          "commits": 12075,
          "date": "2018-02-07",
          "issues": 3283,
          "pull requests": 7211
         },
         {
          "commits": 12089,
          "date": "2018-02-08",
          "issues": 3290,
          "pull requests": 7216
         },
         {
          "commits": 12095,
          "date": "2018-02-09",
          "issues": 3295,
          "pull requests": 7219
         },
         {
          "commits": 12098,
          "date": "2018-02-10",
          "issues": 3296,
          "pull requests": 7224
         },
         {
          "commits": 12101,
          "date": "2018-02-11",
          "issues": 3297,
          "pull requests": 7227
         },
         {
          "commits": 12103,
          "date": "2018-02-12",
          "issues": 3300,
          "pull requests": 7230
         },
         {
          "commits": 12108,
          "date": "2018-02-13",
          "issues": 3302,
          "pull requests": 7237
         },
         {
          "commits": 12115,
          "date": "2018-02-14",
          "issues": 3303,
          "pull requests": 7243
         },
         {
          "commits": 12131,
          "date": "2018-02-15",
          "issues": 3306,
          "pull requests": 7249
         },
         {
          "commits": 12143,
          "date": "2018-02-16",
          "issues": 3316,
          "pull requests": 7260
         },
         {
          "commits": 12148,
          "date": "2018-02-17",
          "issues": 3320,
          "pull requests": 7264
         },
         {
          "commits": 12149,
          "date": "2018-02-18",
          "issues": 3321,
          "pull requests": 7266
         },
         {
          "commits": 12150,
          "date": "2018-02-19",
          "issues": 3323,
          "pull requests": 7268
         },
         {
          "commits": 12159,
          "date": "2018-02-20",
          "issues": 3325,
          "pull requests": 7278
         },
         {
          "commits": 12160,
          "date": "2018-02-21",
          "issues": 3332,
          "pull requests": 7280
         },
         {
          "commits": 12164,
          "date": "2018-02-22",
          "issues": 3333,
          "pull requests": 7284
         },
         {
          "commits": 12165,
          "date": "2018-02-23",
          "issues": 3337,
          "pull requests": 7288
         },
         {
          "commits": 12165,
          "date": "2018-02-24",
          "issues": 3337,
          "pull requests": 7288
         },
         {
          "commits": 12167,
          "date": "2018-02-25",
          "issues": 3340,
          "pull requests": 7289
         },
         {
          "commits": 12172,
          "date": "2018-02-26",
          "issues": 3346,
          "pull requests": 7296
         },
         {
          "commits": 12179,
          "date": "2018-02-27",
          "issues": 3349,
          "pull requests": 7308
         },
         {
          "commits": 12181,
          "date": "2018-02-28",
          "issues": 3350,
          "pull requests": 7313
         },
         {
          "commits": 12191,
          "date": "2018-03-01",
          "issues": 3356,
          "pull requests": 7317
         },
         {
          "commits": 12193,
          "date": "2018-03-02",
          "issues": 3356,
          "pull requests": 7321
         },
         {
          "commits": 12198,
          "date": "2018-03-03",
          "issues": 3359,
          "pull requests": 7325
         },
         {
          "commits": 12198,
          "date": "2018-03-04",
          "issues": 3359,
          "pull requests": 7325
         },
         {
          "commits": 12204,
          "date": "2018-03-05",
          "issues": 3362,
          "pull requests": 7330
         },
         {
          "commits": 12229,
          "date": "2018-03-06",
          "issues": 3366,
          "pull requests": 7344
         },
         {
          "commits": 12239,
          "date": "2018-03-07",
          "issues": 3369,
          "pull requests": 7353
         },
         {
          "commits": 12241,
          "date": "2018-03-08",
          "issues": 3373,
          "pull requests": 7359
         },
         {
          "commits": 12244,
          "date": "2018-03-09",
          "issues": 3376,
          "pull requests": 7363
         },
         {
          "commits": 12249,
          "date": "2018-03-10",
          "issues": 3379,
          "pull requests": 7368
         },
         {
          "commits": 12255,
          "date": "2018-03-11",
          "issues": 3380,
          "pull requests": 7370
         },
         {
          "commits": 12255,
          "date": "2018-03-12",
          "issues": 3380,
          "pull requests": 7370
         },
         {
          "commits": 12269,
          "date": "2018-03-13",
          "issues": 3380,
          "pull requests": 7373
         },
         {
          "commits": 12273,
          "date": "2018-03-14",
          "issues": 3382,
          "pull requests": 7378
         },
         {
          "commits": 12281,
          "date": "2018-03-15",
          "issues": 3386,
          "pull requests": 7385
         },
         {
          "commits": 12285,
          "date": "2018-03-16",
          "issues": 3388,
          "pull requests": 7392
         },
         {
          "commits": 12287,
          "date": "2018-03-17",
          "issues": 3388,
          "pull requests": 7394
         },
         {
          "commits": 12293,
          "date": "2018-03-18",
          "issues": 3388,
          "pull requests": 7402
         },
         {
          "commits": 12310,
          "date": "2018-03-19",
          "issues": 3392,
          "pull requests": 7407
         },
         {
          "commits": 12312,
          "date": "2018-03-20",
          "issues": 3397,
          "pull requests": 7411
         },
         {
          "commits": 12324,
          "date": "2018-03-21",
          "issues": 3401,
          "pull requests": 7421
         },
         {
          "commits": 12332,
          "date": "2018-03-22",
          "issues": 3404,
          "pull requests": 7426
         },
         {
          "commits": 12335,
          "date": "2018-03-23",
          "issues": 3406,
          "pull requests": 7435
         },
         {
          "commits": 12338,
          "date": "2018-03-24",
          "issues": 3407,
          "pull requests": 7437
         },
         {
          "commits": 12343,
          "date": "2018-03-25",
          "issues": 3409,
          "pull requests": 7441
         },
         {
          "commits": 12364,
          "date": "2018-03-26",
          "issues": 3412,
          "pull requests": 7455
         },
         {
          "commits": 12369,
          "date": "2018-03-27",
          "issues": 3413,
          "pull requests": 7461
         },
         {
          "commits": 12386,
          "date": "2018-03-28",
          "issues": 3419,
          "pull requests": 7471
         },
         {
          "commits": 12391,
          "date": "2018-03-29",
          "issues": 3423,
          "pull requests": 7478
         },
         {
          "commits": 12393,
          "date": "2018-03-30",
          "issues": 3427,
          "pull requests": 7485
         },
         {
          "commits": 12395,
          "date": "2018-03-31",
          "issues": 3429,
          "pull requests": 7486
         },
         {
          "commits": 12396,
          "date": "2018-04-01",
          "issues": 3429,
          "pull requests": 7490
         },
         {
          "commits": 12405,
          "date": "2018-04-02",
          "issues": 3433,
          "pull requests": 7496
         },
         {
          "commits": 12414,
          "date": "2018-04-03",
          "issues": 3438,
          "pull requests": 7501
         },
         {
          "commits": 12437,
          "date": "2018-04-04",
          "issues": 3442,
          "pull requests": 7508
         },
         {
          "commits": 12453,
          "date": "2018-04-05",
          "issues": 3442,
          "pull requests": 7517
         },
         {
          "commits": 12459,
          "date": "2018-04-06",
          "issues": 3443,
          "pull requests": 7522
         },
         {
          "commits": 12467,
          "date": "2018-04-07",
          "issues": 3444,
          "pull requests": 7524
         },
         {
          "commits": 12473,
          "date": "2018-04-08",
          "issues": 3446,
          "pull requests": 7528
         },
         {
          "commits": 12488,
          "date": "2018-04-09",
          "issues": 3446,
          "pull requests": 7535
         },
         {
          "commits": 12495,
          "date": "2018-04-10",
          "issues": 3446,
          "pull requests": 7542
         },
         {
          "commits": 12522,
          "date": "2018-04-11",
          "issues": 3451,
          "pull requests": 7555
         },
         {
          "commits": 12527,
          "date": "2018-04-12",
          "issues": 3456,
          "pull requests": 7565
         },
         {
          "commits": 12549,
          "date": "2018-04-13",
          "issues": 3459,
          "pull requests": 7573
         },
         {
          "commits": 12551,
          "date": "2018-04-14",
          "issues": 3459,
          "pull requests": 7576
         },
         {
          "commits": 12551,
          "date": "2018-04-15",
          "issues": 3459,
          "pull requests": 7576
         },
         {
          "commits": 12563,
          "date": "2018-04-16",
          "issues": 3462,
          "pull requests": 7582
         },
         {
          "commits": 12574,
          "date": "2018-04-17",
          "issues": 3464,
          "pull requests": 7588
         },
         {
          "commits": 12581,
          "date": "2018-04-18",
          "issues": 3464,
          "pull requests": 7598
         },
         {
          "commits": 12591,
          "date": "2018-04-19",
          "issues": 3465,
          "pull requests": 7604
         },
         {
          "commits": 12602,
          "date": "2018-04-20",
          "issues": 3468,
          "pull requests": 7614
         },
         {
          "commits": 12603,
          "date": "2018-04-21",
          "issues": 3468,
          "pull requests": 7616
         },
         {
          "commits": 12605,
          "date": "2018-04-22",
          "issues": 3469,
          "pull requests": 7618
         },
         {
          "commits": 12610,
          "date": "2018-04-23",
          "issues": 3470,
          "pull requests": 7627
         },
         {
          "commits": 12613,
          "date": "2018-04-24",
          "issues": 3470,
          "pull requests": 7631
         },
         {
          "commits": 12634,
          "date": "2018-04-25",
          "issues": 3471,
          "pull requests": 7645
         },
         {
          "commits": 12638,
          "date": "2018-04-26",
          "issues": 3476,
          "pull requests": 7656
         },
         {
          "commits": 12647,
          "date": "2018-04-27",
          "issues": 3479,
          "pull requests": 7659
         },
         {
          "commits": 12647,
          "date": "2018-04-28",
          "issues": 3479,
          "pull requests": 7659
         },
         {
          "commits": 12656,
          "date": "2018-04-29",
          "issues": 3480,
          "pull requests": 7666
         },
         {
          "commits": 12661,
          "date": "2018-04-30",
          "issues": 3483,
          "pull requests": 7675
         },
         {
          "commits": 12667,
          "date": "2018-05-01",
          "issues": 3485,
          "pull requests": 7684
         },
         {
          "commits": 12679,
          "date": "2018-05-02",
          "issues": 3488,
          "pull requests": 7691
         },
         {
          "commits": 12690,
          "date": "2018-05-03",
          "issues": 3489,
          "pull requests": 7698
         },
         {
          "commits": 12698,
          "date": "2018-05-04",
          "issues": 3490,
          "pull requests": 7700
         },
         {
          "commits": 12703,
          "date": "2018-05-05",
          "issues": 3490,
          "pull requests": 7701
         },
         {
          "commits": 12705,
          "date": "2018-05-06",
          "issues": 3490,
          "pull requests": 7704
         },
         {
          "commits": 12709,
          "date": "2018-05-07",
          "issues": 3492,
          "pull requests": 7708
         },
         {
          "commits": 12714,
          "date": "2018-05-08",
          "issues": 3492,
          "pull requests": 7714
         },
         {
          "commits": 12724,
          "date": "2018-05-09",
          "issues": 3492,
          "pull requests": 7725
         },
         {
          "commits": 12727,
          "date": "2018-05-10",
          "issues": 3493,
          "pull requests": 7729
         },
         {
          "commits": 12728,
          "date": "2018-05-11",
          "issues": 3496,
          "pull requests": 7732
         },
         {
          "commits": 12736,
          "date": "2018-05-12",
          "issues": 3496,
          "pull requests": 7736
         },
         {
          "commits": 12739,
          "date": "2018-05-13",
          "issues": 3499,
          "pull requests": 7738
         },
         {
          "commits": 12740,
          "date": "2018-05-14",
          "issues": 3500,
          "pull requests": 7742
         },
         {
          "commits": 12746,
          "date": "2018-05-15",
          "issues": 3503,
          "pull requests": 7747
         },
         {
          "commits": 12757,
          "date": "2018-05-16",
          "issues": 3505,
          "pull requests": 7754
         },
         {
          "commits": 12767,
          "date": "2018-05-17",
          "issues": 3509,
          "pull requests": 7765
         },
         {
          "commits": 12770,
          "date": "2018-05-18",
          "issues": 3514,
          "pull requests": 7773
         },
         {
          "commits": 12775,
          "date": "2018-05-19",
          "issues": 3515,
          "pull requests": 7776
         },
         {
          "commits": 12777,
          "date": "2018-05-20",
          "issues": 3519,
          "pull requests": 7778
         },
         {
          "commits": 12780,
          "date": "2018-05-21",
          "issues": 3522,
          "pull requests": 7785
         },
         {
          "commits": 12788,
          "date": "2018-05-22",
          "issues": 3524,
          "pull requests": 7790
         },
         {
          "commits": 12792,
          "date": "2018-05-23",
          "issues": 3525,
          "pull requests": 7796
         },
         {
          "commits": 12795,
          "date": "2018-05-24",
          "issues": 3525,
          "pull requests": 7797
         },
         {
          "commits": 12799,
          "date": "2018-05-25",
          "issues": 3525,
          "pull requests": 7798
         },
         {
          "commits": 12799,
          "date": "2018-05-26",
          "issues": 3525,
          "pull requests": 7798
         },
         {
          "commits": 12799,
          "date": "2018-05-27",
          "issues": 3525,
          "pull requests": 7798
         },
         {
          "commits": 12799,
          "date": "2018-05-28",
          "issues": 3525,
          "pull requests": 7798
         },
         {
          "commits": 12808,
          "date": "2018-05-29",
          "issues": 3527,
          "pull requests": 7801
         },
         {
          "commits": 12819,
          "date": "2018-05-30",
          "issues": 3528,
          "pull requests": 7808
         },
         {
          "commits": 12824,
          "date": "2018-05-31",
          "issues": 3531,
          "pull requests": 7812
         },
         {
          "commits": 12826,
          "date": "2018-06-01",
          "issues": 3536,
          "pull requests": 7818
         },
         {
          "commits": 12831,
          "date": "2018-06-02",
          "issues": 3536,
          "pull requests": 7822
         },
         {
          "commits": 12832,
          "date": "2018-06-03",
          "issues": 3539,
          "pull requests": 7828
         },
         {
          "commits": 12836,
          "date": "2018-06-04",
          "issues": 3540,
          "pull requests": 7835
         },
         {
          "commits": 12846,
          "date": "2018-06-05",
          "issues": 3544,
          "pull requests": 7840
         },
         {
          "commits": 12854,
          "date": "2018-06-06",
          "issues": 3545,
          "pull requests": 7844
         },
         {
          "commits": 12854,
          "date": "2018-06-07",
          "issues": 3545,
          "pull requests": 7844
         },
         {
          "commits": 12857,
          "date": "2018-06-08",
          "issues": 3545,
          "pull requests": 7851
         },
         {
          "commits": 12857,
          "date": "2018-06-09",
          "issues": 3545,
          "pull requests": 7851
         },
         {
          "commits": 12859,
          "date": "2018-06-10",
          "issues": 3546,
          "pull requests": 7852
         },
         {
          "commits": 12875,
          "date": "2018-06-11",
          "issues": 3549,
          "pull requests": 7864
         },
         {
          "commits": 12886,
          "date": "2018-06-12",
          "issues": 3549,
          "pull requests": 7874
         },
         {
          "commits": 12890,
          "date": "2018-06-13",
          "issues": 3551,
          "pull requests": 7883
         },
         {
          "commits": 12896,
          "date": "2018-06-14",
          "issues": 3553,
          "pull requests": 7888
         },
         {
          "commits": 12901,
          "date": "2018-06-15",
          "issues": 3556,
          "pull requests": 7892
         },
         {
          "commits": 12901,
          "date": "2018-06-16",
          "issues": 3556,
          "pull requests": 7892
         },
         {
          "commits": 12903,
          "date": "2018-06-17",
          "issues": 3557,
          "pull requests": 7894
         },
         {
          "commits": 12922,
          "date": "2018-06-18",
          "issues": 3559,
          "pull requests": 7903
         },
         {
          "commits": 12926,
          "date": "2018-06-19",
          "issues": 3563,
          "pull requests": 7906
         },
         {
          "commits": 12929,
          "date": "2018-06-20",
          "issues": 3565,
          "pull requests": 7907
         },
         {
          "commits": 12931,
          "date": "2018-06-21",
          "issues": 3568,
          "pull requests": 7912
         },
         {
          "commits": 12934,
          "date": "2018-06-22",
          "issues": 3571,
          "pull requests": 7913
         },
         {
          "commits": 12935,
          "date": "2018-06-23",
          "issues": 3572,
          "pull requests": 7915
         },
         {
          "commits": 12941,
          "date": "2018-06-24",
          "issues": 3572,
          "pull requests": 7920
         },
         {
          "commits": 12947,
          "date": "2018-06-25",
          "issues": 3573,
          "pull requests": 7925
         },
         {
          "commits": 12951,
          "date": "2018-06-26",
          "issues": 3574,
          "pull requests": 7925
         },
         {
          "commits": 12958,
          "date": "2018-06-27",
          "issues": 3577,
          "pull requests": 7937
         },
         {
          "commits": 12966,
          "date": "2018-06-28",
          "issues": 3580,
          "pull requests": 7946
         },
         {
          "commits": 12976,
          "date": "2018-06-29",
          "issues": 3581,
          "pull requests": 7948
         },
         {
          "commits": 12978,
          "date": "2018-06-30",
          "issues": 3582,
          "pull requests": 7954
         },
         {
          "commits": 12979,
          "date": "2018-07-01",
          "issues": 3584,
          "pull requests": 7958
         },
         {
          "commits": 12982,
          "date": "2018-07-02",
          "issues": 3585,
          "pull requests": 7962
         },
         {
          "commits": 12983,
          "date": "2018-07-03",
          "issues": 3587,
          "pull requests": 7962
         },
         {
          "commits": 12987,
          "date": "2018-07-04",
          "issues": 3590,
          "pull requests": 7964
         },
         {
          "commits": 12991,
          "date": "2018-07-05",
          "issues": 3593,
          "pull requests": 7965
         },
         {
          "commits": 12992,
          "date": "2018-07-06",
          "issues": 3595,
          "pull requests": 7968
         },
         {
          "commits": 12995,
          "date": "2018-07-07",
          "issues": 3596,
          "pull requests": 7973
         },
         {
          "commits": 13001,
          "date": "2018-07-08",
          "issues": 3596,
          "pull requests": 7976
         },
         {
          "commits": 13006,
          "date": "2018-07-09",
          "issues": 3596,
          "pull requests": 7979
         },
         {
          "commits": 13011,
          "date": "2018-07-10",
          "issues": 3597,
          "pull requests": 7985
         },
         {
          "commits": 13017,
          "date": "2018-07-11",
          "issues": 3599,
          "pull requests": 7993
         },
         {
          "commits": 13028,
          "date": "2018-07-12",
          "issues": 3602,
          "pull requests": 8004
         },
         {
          "commits": 13040,
          "date": "2018-07-13",
          "issues": 3603,
          "pull requests": 8010
         },
         {
          "commits": 13045,
          "date": "2018-07-14",
          "issues": 3604,
          "pull requests": 8014
         },
         {
          "commits": 13051,
          "date": "2018-07-15",
          "issues": 3605,
          "pull requests": 8021
         },
         {
          "commits": 13059,
          "date": "2018-07-16",
          "issues": 3607,
          "pull requests": 8027
         },
         {
          "commits": 13067,
          "date": "2018-07-17",
          "issues": 3610,
          "pull requests": 8040
         },
         {
          "commits": 13075,
          "date": "2018-07-18",
          "issues": 3613,
          "pull requests": 8045
         },
         {
          "commits": 13084,
          "date": "2018-07-19",
          "issues": 3613,
          "pull requests": 8056
         },
         {
          "commits": 13091,
          "date": "2018-07-20",
          "issues": 3613,
          "pull requests": 8065
         },
         {
          "commits": 13096,
          "date": "2018-07-21",
          "issues": 3616,
          "pull requests": 8068
         },
         {
          "commits": 13099,
          "date": "2018-07-22",
          "issues": 3619,
          "pull requests": 8073
         },
         {
          "commits": 13102,
          "date": "2018-07-23",
          "issues": 3621,
          "pull requests": 8075
         },
         {
          "commits": 13121,
          "date": "2018-07-24",
          "issues": 3624,
          "pull requests": 8078
         },
         {
          "commits": 13124,
          "date": "2018-07-25",
          "issues": 3627,
          "pull requests": 8081
         },
         {
          "commits": 13128,
          "date": "2018-07-26",
          "issues": 3629,
          "pull requests": 8093
         },
         {
          "commits": 13144,
          "date": "2018-07-27",
          "issues": 3630,
          "pull requests": 8099
         },
         {
          "commits": 13144,
          "date": "2018-07-28",
          "issues": 3630,
          "pull requests": 8099
         },
         {
          "commits": 13149,
          "date": "2018-07-29",
          "issues": 3630,
          "pull requests": 8105
         },
         {
          "commits": 13168,
          "date": "2018-07-30",
          "issues": 3634,
          "pull requests": 8115
         },
         {
          "commits": 13172,
          "date": "2018-07-31",
          "issues": 3637,
          "pull requests": 8124
         },
         {
          "commits": 13177,
          "date": "2018-08-01",
          "issues": 3643,
          "pull requests": 8134
         },
         {
          "commits": 13188,
          "date": "2018-08-02",
          "issues": 3645,
          "pull requests": 8143
         },
         {
          "commits": 13202,
          "date": "2018-08-03",
          "issues": 3648,
          "pull requests": 8152
         },
         {
          "commits": 13204,
          "date": "2018-08-04",
          "issues": 3651,
          "pull requests": 8159
         },
         {
          "commits": 13204,
          "date": "2018-08-05",
          "issues": 3651,
          "pull requests": 8159
         },
         {
          "commits": 13209,
          "date": "2018-08-06",
          "issues": 3651,
          "pull requests": 8169
         },
         {
          "commits": 13213,
          "date": "2018-08-07",
          "issues": 3655,
          "pull requests": 8173
         },
         {
          "commits": 13220,
          "date": "2018-08-08",
          "issues": 3655,
          "pull requests": 8185
         },
         {
          "commits": 13232,
          "date": "2018-08-09",
          "issues": 3658,
          "pull requests": 8194
         },
         {
          "commits": 13239,
          "date": "2018-08-10",
          "issues": 3661,
          "pull requests": 8198
         },
         {
          "commits": 13243,
          "date": "2018-08-11",
          "issues": 3662,
          "pull requests": 8202
         },
         {
          "commits": 13245,
          "date": "2018-08-12",
          "issues": 3662,
          "pull requests": 8205
         },
         {
          "commits": 13270,
          "date": "2018-08-13",
          "issues": 3665,
          "pull requests": 8213
         },
         {
          "commits": 13280,
          "date": "2018-08-14",
          "issues": 3667,
          "pull requests": 8224
         },
         {
          "commits": 13283,
          "date": "2018-08-15",
          "issues": 3670,
          "pull requests": 8230
         },
         {
          "commits": 13284,
          "date": "2018-08-16",
          "issues": 3671,
          "pull requests": 8234
         },
         {
          "commits": 13286,
          "date": "2018-08-17",
          "issues": 3672,
          "pull requests": 8241
         },
         {
          "commits": 13286,
          "date": "2018-08-18",
          "issues": 3672,
          "pull requests": 8241
         },
         {
          "commits": 13286,
          "date": "2018-08-19",
          "issues": 3672,
          "pull requests": 8241
         },
         {
          "commits": 13291,
          "date": "2018-08-20",
          "issues": 3673,
          "pull requests": 8246
         },
         {
          "commits": 13295,
          "date": "2018-08-21",
          "issues": 3674,
          "pull requests": 8252
         },
         {
          "commits": 13296,
          "date": "2018-08-22",
          "issues": 3674,
          "pull requests": 8260
         },
         {
          "commits": 13303,
          "date": "2018-08-23",
          "issues": 3674,
          "pull requests": 8269
         },
         {
          "commits": 13309,
          "date": "2018-08-24",
          "issues": 3681,
          "pull requests": 8282
         },
         {
          "commits": 13325,
          "date": "2018-08-25",
          "issues": 3683,
          "pull requests": 8285
         },
         {
          "commits": 13331,
          "date": "2018-08-26",
          "issues": 3686,
          "pull requests": 8293
         },
         {
          "commits": 13355,
          "date": "2018-08-27",
          "issues": 3688,
          "pull requests": 8302
         },
         {
          "commits": 13362,
          "date": "2018-08-28",
          "issues": 3689,
          "pull requests": 8309
         },
         {
          "commits": 13370,
          "date": "2018-08-29",
          "issues": 3689,
          "pull requests": 8312
         },
         {
          "commits": 13379,
          "date": "2018-08-30",
          "issues": 3692,
          "pull requests": 8319
         },
         {
          "commits": 13386,
          "date": "2018-08-31",
          "issues": 3694,
          "pull requests": 8326
         },
         {
          "commits": 13387,
          "date": "2018-09-01",
          "issues": 3695,
          "pull requests": 8328
         },
         {
          "commits": 13390,
          "date": "2018-09-02",
          "issues": 3697,
          "pull requests": 8331
         },
         {
          "commits": 13394,
          "date": "2018-09-03",
          "issues": 3699,
          "pull requests": 8335
         },
         {
          "commits": 13397,
          "date": "2018-09-04",
          "issues": 3702,
          "pull requests": 8341
         },
         {
          "commits": 13403,
          "date": "2018-09-05",
          "issues": 3702,
          "pull requests": 8346
         },
         {
          "commits": 13406,
          "date": "2018-09-06",
          "issues": 3703,
          "pull requests": 8353
         },
         {
          "commits": 13410,
          "date": "2018-09-07",
          "issues": 3705,
          "pull requests": 8356
         },
         {
          "commits": 13410,
          "date": "2018-09-08",
          "issues": 3705,
          "pull requests": 8356
         },
         {
          "commits": 13412,
          "date": "2018-09-09",
          "issues": 3708,
          "pull requests": 8362
         },
         {
          "commits": 13419,
          "date": "2018-09-10",
          "issues": 3709,
          "pull requests": 8372
         },
         {
          "commits": 13424,
          "date": "2018-09-11",
          "issues": 3711,
          "pull requests": 8377
         },
         {
          "commits": 13426,
          "date": "2018-09-12",
          "issues": 3712,
          "pull requests": 8386
         },
         {
          "commits": 13434,
          "date": "2018-09-13",
          "issues": 3713,
          "pull requests": 8391
         },
         {
          "commits": 13434,
          "date": "2018-09-14",
          "issues": 3713,
          "pull requests": 8391
         },
         {
          "commits": 13435,
          "date": "2018-09-15",
          "issues": 3713,
          "pull requests": 8398
         },
         {
          "commits": 13437,
          "date": "2018-09-16",
          "issues": 3715,
          "pull requests": 8401
         },
         {
          "commits": 13441,
          "date": "2018-09-17",
          "issues": 3716,
          "pull requests": 8414
         },
         {
          "commits": 13442,
          "date": "2018-09-18",
          "issues": 3718,
          "pull requests": 8424
         },
         {
          "commits": 13443,
          "date": "2018-09-19",
          "issues": 3719,
          "pull requests": 8432
         },
         {
          "commits": 13444,
          "date": "2018-09-20",
          "issues": 3723,
          "pull requests": 8437
         },
         {
          "commits": 13445,
          "date": "2018-09-21",
          "issues": 3725,
          "pull requests": 8443
         }
        ]
       },
       "encoding": {
        "color": {
         "field": "series",
         "scale": {
          "scheme": "category20b"
         },
         "type": "nominal"
        },
        "x": {
         "axis": {
          "domain": false,
          "format": "%Y/%m",
          "tickSize": 0
         },
         "field": "date",
         "type": "temporal"
        },
        "y": {
         "field": "commits",
         "stack": "center",
         "type": "quantitative"
        }
       },
       "mark": "area",
       "selection": {
        "selector005": {
         "bind": "scales",
         "encodings": [
          "x",
          "y"
         ],
         "mark": {
          "fill": "#333",
          "fillOpacity": 0.125,
          "stroke": "white"
         },
         "on": "[mousedown, window:mouseup] > window:mousemove!",
         "resolve": "global",
         "translate": "[mousedown, window:mouseup] > window:mousemove!",
         "type": "interval",
         "zoom": "wheel!"
        }
       }
      },
      "image/png": "[encoded data removed]",
      "text/plain": [
       "<VegaLite 2 object>\n",
       "\n",
       "If you see this message, it means the renderer has not been properly enabled\n",
       "for the frontend that you are using. For more information, see\n",
       "https://altair-viz.github.io/user_guide/troubleshooting.html\n"
      ]
     },
     "execution_count": 9,
     "metadata": {},
     "output_type": "execute_result"
    }
   ],
   "source": [
    "from altair import *\n",
    "import pandas as pd\n",
    "import altair as alt\n",
    "#from vega_datasets import data\n",
    "\n",
    "#iowa = data.iowa_electricity()\n",
    "df = pd.read_csv('contribution_history_edited2.csv')\n",
    "alt.data_transformers.enable('default', max_rows=None)\n",
    "alt.Chart(df).mark_area().encode(\n",
    "    alt.X('date:T',\n",
    "        axis=alt.Axis(format='%Y', domain=False, tickSize=0)\n",
    "    ),\n",
    "    alt.Y('commits:Q', stack='center'),\n",
    "    alt.Color('series:N',\n",
    "        scale=alt.Scale(scheme='category20b')\n",
    "    )\n",
    ").interactive()\n"
   ]
  },
  {
   "cell_type": "code",
   "execution_count": null,
   "metadata": {},
   "outputs": [],
   "source": []
  }
 ],
 "metadata": {
  "kernelspec": {
   "display_name": "Python 3",
   "language": "python",
   "name": "python3"
  },
  "language_info": {
   "codemirror_mode": {
    "name": "ipython",
    "version": 3
   },
   "file_extension": ".py",
   "mimetype": "text/x-python",
   "name": "python",
   "nbconvert_exporter": "python",
   "pygments_lexer": "ipython3",
   "version": "3.6.6"
  }
 },
 "nbformat": 4,
 "nbformat_minor": 2
}
